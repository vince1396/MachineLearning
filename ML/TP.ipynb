{
 "cells": [
  {
   "cell_type": "markdown",
   "metadata": {
    "collapsed": true,
    "pycharm": {
     "name": "#%% md\n"
    }
   },
   "source": [
    "Relier chaque adresse a son client (jointure)\n",
    "Choisir la target nommée class (1:fraud/0:No soucis)\n",
    "Encoder les données catégoriques (labelEncoder de sklearn)\n",
    "Entrainer avec un random forest\n",
    "plotter la feature importance\n",
    "Conclure (peut on stopper la fraude ? Mise en prod ?)"
   ]
  },
  {
   "cell_type": "markdown",
   "source": [
    "# TP Fraud"
   ],
   "metadata": {
    "collapsed": false
   }
  },
  {
   "cell_type": "markdown",
   "source": [
    "## Librairies"
   ],
   "metadata": {
    "collapsed": false,
    "pycharm": {
     "name": "#%% md\n"
    }
   }
  },
  {
   "cell_type": "code",
   "execution_count": 11,
   "outputs": [],
   "source": [
    "import pandas as pd\n",
    "import ipaddress as ipa\n",
    "import pandasql as psql"
   ],
   "metadata": {
    "collapsed": false,
    "pycharm": {
     "name": "#%%\n"
    }
   }
  },
  {
   "cell_type": "markdown",
   "source": [
    "## Datasets"
   ],
   "metadata": {
    "collapsed": false
   }
  },
  {
   "cell_type": "code",
   "execution_count": 12,
   "outputs": [],
   "source": [
    "fraud = pd.read_csv(\"/home/vincent/Hitema/datasets/Fraud_Data.csv\")\n",
    "ip = pd.read_csv(\"/home/vincent/Hitema/datasets/IpAddress_to_Country.csv\")"
   ],
   "metadata": {
    "collapsed": false,
    "pycharm": {
     "name": "#%%\n"
    }
   }
  },
  {
   "cell_type": "markdown",
   "source": [
    "## Infos de fraud"
   ],
   "metadata": {
    "collapsed": false,
    "pycharm": {
     "name": "#%% md\n"
    }
   }
  },
  {
   "cell_type": "code",
   "execution_count": 13,
   "outputs": [
    {
     "name": "stdout",
     "output_type": "stream",
     "text": [
      "<class 'pandas.core.frame.DataFrame'>\n",
      "RangeIndex: 151112 entries, 0 to 151111\n",
      "Data columns (total 11 columns):\n",
      " #   Column          Non-Null Count   Dtype  \n",
      "---  ------          --------------   -----  \n",
      " 0   user_id         151112 non-null  int64  \n",
      " 1   signup_time     151112 non-null  object \n",
      " 2   purchase_time   151112 non-null  object \n",
      " 3   purchase_value  151112 non-null  int64  \n",
      " 4   device_id       151112 non-null  object \n",
      " 5   source          151112 non-null  object \n",
      " 6   browser         151112 non-null  object \n",
      " 7   sex             151112 non-null  object \n",
      " 8   age             151112 non-null  int64  \n",
      " 9   ip_address      151112 non-null  float64\n",
      " 10  class           151112 non-null  int64  \n",
      "dtypes: float64(1), int64(4), object(6)\n",
      "memory usage: 12.7+ MB\n"
     ]
    }
   ],
   "source": [
    "fraud.info()"
   ],
   "metadata": {
    "collapsed": false,
    "pycharm": {
     "name": "#%%\n"
    }
   }
  },
  {
   "cell_type": "code",
   "execution_count": 14,
   "outputs": [
    {
     "data": {
      "text/plain": "   user_id          signup_time        purchase_time  purchase_value  \\\n0    22058  2015-02-24 22:55:49  2015-04-18 02:47:11              34   \n1   333320  2015-06-07 20:39:50  2015-06-08 01:38:54              16   \n2     1359  2015-01-01 18:52:44  2015-01-01 18:52:45              15   \n3   150084  2015-04-28 21:13:25  2015-05-04 13:54:50              44   \n4   221365  2015-07-21 07:09:52  2015-09-09 18:40:53              39   \n\n       device_id source browser sex  age    ip_address  class  \n0  QVPSPJUOCKZAR    SEO  Chrome   M   39  7.327584e+08      0  \n1  EOGFQPIZPYXFZ    Ads  Chrome   F   53  3.503114e+08      0  \n2  YSSKYOSJHPPLJ    SEO   Opera   M   53  2.621474e+09      1  \n3  ATGTXKYKUDUQN    SEO  Safari   M   41  3.840542e+09      0  \n4  NAUITBZFJKHWW    Ads  Safari   M   45  4.155831e+08      0  ",
      "text/html": "<div>\n<style scoped>\n    .dataframe tbody tr th:only-of-type {\n        vertical-align: middle;\n    }\n\n    .dataframe tbody tr th {\n        vertical-align: top;\n    }\n\n    .dataframe thead th {\n        text-align: right;\n    }\n</style>\n<table border=\"1\" class=\"dataframe\">\n  <thead>\n    <tr style=\"text-align: right;\">\n      <th></th>\n      <th>user_id</th>\n      <th>signup_time</th>\n      <th>purchase_time</th>\n      <th>purchase_value</th>\n      <th>device_id</th>\n      <th>source</th>\n      <th>browser</th>\n      <th>sex</th>\n      <th>age</th>\n      <th>ip_address</th>\n      <th>class</th>\n    </tr>\n  </thead>\n  <tbody>\n    <tr>\n      <th>0</th>\n      <td>22058</td>\n      <td>2015-02-24 22:55:49</td>\n      <td>2015-04-18 02:47:11</td>\n      <td>34</td>\n      <td>QVPSPJUOCKZAR</td>\n      <td>SEO</td>\n      <td>Chrome</td>\n      <td>M</td>\n      <td>39</td>\n      <td>7.327584e+08</td>\n      <td>0</td>\n    </tr>\n    <tr>\n      <th>1</th>\n      <td>333320</td>\n      <td>2015-06-07 20:39:50</td>\n      <td>2015-06-08 01:38:54</td>\n      <td>16</td>\n      <td>EOGFQPIZPYXFZ</td>\n      <td>Ads</td>\n      <td>Chrome</td>\n      <td>F</td>\n      <td>53</td>\n      <td>3.503114e+08</td>\n      <td>0</td>\n    </tr>\n    <tr>\n      <th>2</th>\n      <td>1359</td>\n      <td>2015-01-01 18:52:44</td>\n      <td>2015-01-01 18:52:45</td>\n      <td>15</td>\n      <td>YSSKYOSJHPPLJ</td>\n      <td>SEO</td>\n      <td>Opera</td>\n      <td>M</td>\n      <td>53</td>\n      <td>2.621474e+09</td>\n      <td>1</td>\n    </tr>\n    <tr>\n      <th>3</th>\n      <td>150084</td>\n      <td>2015-04-28 21:13:25</td>\n      <td>2015-05-04 13:54:50</td>\n      <td>44</td>\n      <td>ATGTXKYKUDUQN</td>\n      <td>SEO</td>\n      <td>Safari</td>\n      <td>M</td>\n      <td>41</td>\n      <td>3.840542e+09</td>\n      <td>0</td>\n    </tr>\n    <tr>\n      <th>4</th>\n      <td>221365</td>\n      <td>2015-07-21 07:09:52</td>\n      <td>2015-09-09 18:40:53</td>\n      <td>39</td>\n      <td>NAUITBZFJKHWW</td>\n      <td>Ads</td>\n      <td>Safari</td>\n      <td>M</td>\n      <td>45</td>\n      <td>4.155831e+08</td>\n      <td>0</td>\n    </tr>\n  </tbody>\n</table>\n</div>"
     },
     "execution_count": 14,
     "metadata": {},
     "output_type": "execute_result"
    }
   ],
   "source": [
    "fraud.head()"
   ],
   "metadata": {
    "collapsed": false,
    "pycharm": {
     "name": "#%%\n"
    }
   }
  },
  {
   "cell_type": "markdown",
   "source": [
    "## Infos de IP"
   ],
   "metadata": {
    "collapsed": false
   }
  },
  {
   "cell_type": "code",
   "execution_count": 15,
   "outputs": [
    {
     "name": "stdout",
     "output_type": "stream",
     "text": [
      "<class 'pandas.core.frame.DataFrame'>\n",
      "RangeIndex: 138846 entries, 0 to 138845\n",
      "Data columns (total 3 columns):\n",
      " #   Column                  Non-Null Count   Dtype  \n",
      "---  ------                  --------------   -----  \n",
      " 0   lower_bound_ip_address  138846 non-null  float64\n",
      " 1   upper_bound_ip_address  138846 non-null  int64  \n",
      " 2   country                 138846 non-null  object \n",
      "dtypes: float64(1), int64(1), object(1)\n",
      "memory usage: 3.2+ MB\n"
     ]
    }
   ],
   "source": [
    "ip.info()"
   ],
   "metadata": {
    "collapsed": false,
    "pycharm": {
     "name": "#%%\n"
    }
   }
  },
  {
   "cell_type": "code",
   "execution_count": 16,
   "outputs": [
    {
     "data": {
      "text/plain": "   lower_bound_ip_address  upper_bound_ip_address    country\n0              16777216.0                16777471  Australia\n1              16777472.0                16777727      China\n2              16777728.0                16778239      China\n3              16778240.0                16779263  Australia\n4              16779264.0                16781311      China",
      "text/html": "<div>\n<style scoped>\n    .dataframe tbody tr th:only-of-type {\n        vertical-align: middle;\n    }\n\n    .dataframe tbody tr th {\n        vertical-align: top;\n    }\n\n    .dataframe thead th {\n        text-align: right;\n    }\n</style>\n<table border=\"1\" class=\"dataframe\">\n  <thead>\n    <tr style=\"text-align: right;\">\n      <th></th>\n      <th>lower_bound_ip_address</th>\n      <th>upper_bound_ip_address</th>\n      <th>country</th>\n    </tr>\n  </thead>\n  <tbody>\n    <tr>\n      <th>0</th>\n      <td>16777216.0</td>\n      <td>16777471</td>\n      <td>Australia</td>\n    </tr>\n    <tr>\n      <th>1</th>\n      <td>16777472.0</td>\n      <td>16777727</td>\n      <td>China</td>\n    </tr>\n    <tr>\n      <th>2</th>\n      <td>16777728.0</td>\n      <td>16778239</td>\n      <td>China</td>\n    </tr>\n    <tr>\n      <th>3</th>\n      <td>16778240.0</td>\n      <td>16779263</td>\n      <td>Australia</td>\n    </tr>\n    <tr>\n      <th>4</th>\n      <td>16779264.0</td>\n      <td>16781311</td>\n      <td>China</td>\n    </tr>\n  </tbody>\n</table>\n</div>"
     },
     "execution_count": 16,
     "metadata": {},
     "output_type": "execute_result"
    }
   ],
   "source": [
    "ip.head()"
   ],
   "metadata": {
    "collapsed": false,
    "pycharm": {
     "name": "#%%\n"
    }
   }
  },
  {
   "cell_type": "markdown",
   "source": [
    "## Gestion des valeurs manquantes"
   ],
   "metadata": {
    "collapsed": false,
    "pycharm": {
     "name": "#%% md\n"
    }
   }
  },
  {
   "cell_type": "code",
   "execution_count": 17,
   "outputs": [],
   "source": [
    "fraud = fraud.dropna()\n",
    "ip = ip.dropna()"
   ],
   "metadata": {
    "collapsed": false,
    "pycharm": {
     "name": "#%%\n"
    }
   }
  },
  {
   "cell_type": "markdown",
   "source": [
    "## Test d'une utilisation de la lib ipadress pour essayer de convertir nos adresses de float à IPV4 (str)"
   ],
   "metadata": {
    "collapsed": false,
    "pycharm": {
     "name": "#%% md\n"
    }
   }
  },
  {
   "cell_type": "code",
   "execution_count": 18,
   "outputs": [
    {
     "data": {
      "text/plain": "IPv4Address('43.173.1.96')"
     },
     "execution_count": 18,
     "metadata": {},
     "output_type": "execute_result"
    }
   ],
   "source": [
    "ipa.ip_address(int(fraud['ip_address'].iloc[0]))"
   ],
   "metadata": {
    "collapsed": false,
    "pycharm": {
     "name": "#%%\n"
    }
   }
  },
  {
   "cell_type": "markdown",
   "source": [
    "## Requête SQL incluant la jointure des deux DF (LIMIT à 20 pour limiter le temps d'éxécution)"
   ],
   "metadata": {
    "collapsed": false,
    "pycharm": {
     "name": "#%% md\n"
    }
   }
  },
  {
   "cell_type": "code",
   "execution_count": 19,
   "outputs": [],
   "source": [
    "query = \"SELECT * FROM fraud, ip WHERE fraud.ip_address BETWEEN ip.lower_bound_ip_address AND ip.upper_bound_ip_address LIMIT 20;\""
   ],
   "metadata": {
    "collapsed": false,
    "pycharm": {
     "name": "#%%\n"
    }
   }
  },
  {
   "cell_type": "markdown",
   "source": [
    "## Grâce à la lib Pandasql on passe la requete et on retourne un nouveau DF"
   ],
   "metadata": {
    "collapsed": false,
    "pycharm": {
     "name": "#%% md\n"
    }
   }
  },
  {
   "cell_type": "code",
   "execution_count": 20,
   "outputs": [
    {
     "data": {
      "text/plain": "   user_id          signup_time        purchase_time  purchase_value  \\\n0    22058  2015-02-24 22:55:49  2015-04-18 02:47:11              34   \n1   333320  2015-06-07 20:39:50  2015-06-08 01:38:54              16   \n2     1359  2015-01-01 18:52:44  2015-01-01 18:52:45              15   \n3   221365  2015-07-21 07:09:52  2015-09-09 18:40:53              39   \n4   159135  2015-05-21 06:03:03  2015-07-09 08:05:14              42   \n\n       device_id source browser sex  age    ip_address  class  \\\n0  QVPSPJUOCKZAR    SEO  Chrome   M   39  7.327584e+08      0   \n1  EOGFQPIZPYXFZ    Ads  Chrome   F   53  3.503114e+08      0   \n2  YSSKYOSJHPPLJ    SEO   Opera   M   53  2.621474e+09      1   \n3  NAUITBZFJKHWW    Ads  Safari   M   45  4.155831e+08      0   \n4  ALEYXFXINSXLZ    Ads  Chrome   M   18  2.809315e+09      0   \n\n   lower_bound_ip_address  upper_bound_ip_address        country  \n0            7.298089e+08               734003199          Japan  \n1            3.355443e+08               352321535  United States  \n2            2.621440e+09              2621505535  United States  \n3            4.154982e+08               415629311  United States  \n4            2.809266e+09              2809331711         Canada  ",
      "text/html": "<div>\n<style scoped>\n    .dataframe tbody tr th:only-of-type {\n        vertical-align: middle;\n    }\n\n    .dataframe tbody tr th {\n        vertical-align: top;\n    }\n\n    .dataframe thead th {\n        text-align: right;\n    }\n</style>\n<table border=\"1\" class=\"dataframe\">\n  <thead>\n    <tr style=\"text-align: right;\">\n      <th></th>\n      <th>user_id</th>\n      <th>signup_time</th>\n      <th>purchase_time</th>\n      <th>purchase_value</th>\n      <th>device_id</th>\n      <th>source</th>\n      <th>browser</th>\n      <th>sex</th>\n      <th>age</th>\n      <th>ip_address</th>\n      <th>class</th>\n      <th>lower_bound_ip_address</th>\n      <th>upper_bound_ip_address</th>\n      <th>country</th>\n    </tr>\n  </thead>\n  <tbody>\n    <tr>\n      <th>0</th>\n      <td>22058</td>\n      <td>2015-02-24 22:55:49</td>\n      <td>2015-04-18 02:47:11</td>\n      <td>34</td>\n      <td>QVPSPJUOCKZAR</td>\n      <td>SEO</td>\n      <td>Chrome</td>\n      <td>M</td>\n      <td>39</td>\n      <td>7.327584e+08</td>\n      <td>0</td>\n      <td>7.298089e+08</td>\n      <td>734003199</td>\n      <td>Japan</td>\n    </tr>\n    <tr>\n      <th>1</th>\n      <td>333320</td>\n      <td>2015-06-07 20:39:50</td>\n      <td>2015-06-08 01:38:54</td>\n      <td>16</td>\n      <td>EOGFQPIZPYXFZ</td>\n      <td>Ads</td>\n      <td>Chrome</td>\n      <td>F</td>\n      <td>53</td>\n      <td>3.503114e+08</td>\n      <td>0</td>\n      <td>3.355443e+08</td>\n      <td>352321535</td>\n      <td>United States</td>\n    </tr>\n    <tr>\n      <th>2</th>\n      <td>1359</td>\n      <td>2015-01-01 18:52:44</td>\n      <td>2015-01-01 18:52:45</td>\n      <td>15</td>\n      <td>YSSKYOSJHPPLJ</td>\n      <td>SEO</td>\n      <td>Opera</td>\n      <td>M</td>\n      <td>53</td>\n      <td>2.621474e+09</td>\n      <td>1</td>\n      <td>2.621440e+09</td>\n      <td>2621505535</td>\n      <td>United States</td>\n    </tr>\n    <tr>\n      <th>3</th>\n      <td>221365</td>\n      <td>2015-07-21 07:09:52</td>\n      <td>2015-09-09 18:40:53</td>\n      <td>39</td>\n      <td>NAUITBZFJKHWW</td>\n      <td>Ads</td>\n      <td>Safari</td>\n      <td>M</td>\n      <td>45</td>\n      <td>4.155831e+08</td>\n      <td>0</td>\n      <td>4.154982e+08</td>\n      <td>415629311</td>\n      <td>United States</td>\n    </tr>\n    <tr>\n      <th>4</th>\n      <td>159135</td>\n      <td>2015-05-21 06:03:03</td>\n      <td>2015-07-09 08:05:14</td>\n      <td>42</td>\n      <td>ALEYXFXINSXLZ</td>\n      <td>Ads</td>\n      <td>Chrome</td>\n      <td>M</td>\n      <td>18</td>\n      <td>2.809315e+09</td>\n      <td>0</td>\n      <td>2.809266e+09</td>\n      <td>2809331711</td>\n      <td>Canada</td>\n    </tr>\n  </tbody>\n</table>\n</div>"
     },
     "execution_count": 20,
     "metadata": {},
     "output_type": "execute_result"
    }
   ],
   "source": [
    "data = psql.sqldf(query, locals())\n",
    "data.head()"
   ],
   "metadata": {
    "collapsed": false,
    "pycharm": {
     "name": "#%%\n"
    }
   }
  }
 ],
 "metadata": {
  "kernelspec": {
   "display_name": "Python 3",
   "language": "python",
   "name": "python3"
  },
  "language_info": {
   "codemirror_mode": {
    "name": "ipython",
    "version": 2
   },
   "file_extension": ".py",
   "mimetype": "text/x-python",
   "name": "python",
   "nbconvert_exporter": "python",
   "pygments_lexer": "ipython2",
   "version": "2.7.6"
  }
 },
 "nbformat": 4,
 "nbformat_minor": 0
}