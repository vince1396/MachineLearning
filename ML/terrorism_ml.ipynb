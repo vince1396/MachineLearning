{
 "cells": [
  {
   "cell_type": "code",
   "execution_count": 40,
   "outputs": [],
   "source": [],
   "metadata": {
    "collapsed": false,
    "pycharm": {
     "name": "#%%\n"
    }
   }
  },
  {
   "cell_type": "markdown",
   "source": [
    "# Terrorisme mondial ML"
   ],
   "metadata": {
    "collapsed": false
   }
  },
  {
   "cell_type": "markdown",
   "source": [
    "---\n",
    "## Importation des librairies"
   ],
   "metadata": {
    "collapsed": false
   }
  },
  {
   "cell_type": "code",
   "execution_count": 41,
   "outputs": [],
   "source": [
    "import pandas as pd\n",
    "from sklearn.gaussian_process import GaussianProcessClassifier as GPC\n",
    "from sklearn.model_selection import train_test_split as tts\n",
    "from sklearn.decomposition import PCA\n",
    "from sklearn.neighbors import KNeighborsClassifier as KNN"
   ],
   "metadata": {
    "collapsed": false,
    "pycharm": {
     "name": "#%%\n"
    }
   }
  },
  {
   "cell_type": "markdown",
   "source": [
    "---\n",
    "## Importation du jeu de données"
   ],
   "metadata": {
    "collapsed": false
   }
  },
  {
   "cell_type": "code",
   "execution_count": 42,
   "outputs": [
    {
     "name": "stderr",
     "output_type": "stream",
     "text": [
      "/home/vincent/.local/share/virtualenvs/MachineLearning-ZUDzaG3C/lib/python3.8/site-packages/IPython/core/interactiveshell.py:3145: DtypeWarning: Columns (4,6,31,33,61,62,63,76,79,90,92,94,96,114,115,121) have mixed types.Specify dtype option on import or set low_memory=False.\n",
      "  has_raised = await self.run_ast_nodes(code_ast.body, cell_name,\n"
     ]
    }
   ],
   "source": [
    "gb = pd.read_csv(\"/home/vincent/Hitema/datasets/globalterrorismdb_0718dist.csv\", encoding='ISO-8859-1')"
   ],
   "metadata": {
    "collapsed": false,
    "pycharm": {
     "name": "#%%\n"
    }
   }
  },
  {
   "cell_type": "markdown",
   "source": [
    "---\n",
    "## Informations du jeu de données"
   ],
   "metadata": {
    "collapsed": false
   }
  },
  {
   "cell_type": "code",
   "execution_count": 43,
   "outputs": [
    {
     "name": "stdout",
     "output_type": "stream",
     "text": [
      "<class 'pandas.core.frame.DataFrame'>\n",
      "RangeIndex: 181691 entries, 0 to 181690\n",
      "Data columns (total 135 columns):\n",
      " #   Column              Dtype  \n",
      "---  ------              -----  \n",
      " 0   eventid             int64  \n",
      " 1   iyear               int64  \n",
      " 2   imonth              int64  \n",
      " 3   iday                int64  \n",
      " 4   approxdate          object \n",
      " 5   extended            int64  \n",
      " 6   resolution          object \n",
      " 7   country             int64  \n",
      " 8   country_txt         object \n",
      " 9   region              int64  \n",
      " 10  region_txt          object \n",
      " 11  provstate           object \n",
      " 12  city                object \n",
      " 13  latitude            float64\n",
      " 14  longitude           float64\n",
      " 15  specificity         float64\n",
      " 16  vicinity            int64  \n",
      " 17  location            object \n",
      " 18  summary             object \n",
      " 19  crit1               int64  \n",
      " 20  crit2               int64  \n",
      " 21  crit3               int64  \n",
      " 22  doubtterr           float64\n",
      " 23  alternative         float64\n",
      " 24  alternative_txt     object \n",
      " 25  multiple            float64\n",
      " 26  success             int64  \n",
      " 27  suicide             int64  \n",
      " 28  attacktype1         int64  \n",
      " 29  attacktype1_txt     object \n",
      " 30  attacktype2         float64\n",
      " 31  attacktype2_txt     object \n",
      " 32  attacktype3         float64\n",
      " 33  attacktype3_txt     object \n",
      " 34  targtype1           int64  \n",
      " 35  targtype1_txt       object \n",
      " 36  targsubtype1        float64\n",
      " 37  targsubtype1_txt    object \n",
      " 38  corp1               object \n",
      " 39  target1             object \n",
      " 40  natlty1             float64\n",
      " 41  natlty1_txt         object \n",
      " 42  targtype2           float64\n",
      " 43  targtype2_txt       object \n",
      " 44  targsubtype2        float64\n",
      " 45  targsubtype2_txt    object \n",
      " 46  corp2               object \n",
      " 47  target2             object \n",
      " 48  natlty2             float64\n",
      " 49  natlty2_txt         object \n",
      " 50  targtype3           float64\n",
      " 51  targtype3_txt       object \n",
      " 52  targsubtype3        float64\n",
      " 53  targsubtype3_txt    object \n",
      " 54  corp3               object \n",
      " 55  target3             object \n",
      " 56  natlty3             float64\n",
      " 57  natlty3_txt         object \n",
      " 58  gname               object \n",
      " 59  gsubname            object \n",
      " 60  gname2              object \n",
      " 61  gsubname2           object \n",
      " 62  gname3              object \n",
      " 63  gsubname3           object \n",
      " 64  motive              object \n",
      " 65  guncertain1         float64\n",
      " 66  guncertain2         float64\n",
      " 67  guncertain3         float64\n",
      " 68  individual          int64  \n",
      " 69  nperps              float64\n",
      " 70  nperpcap            float64\n",
      " 71  claimed             float64\n",
      " 72  claimmode           float64\n",
      " 73  claimmode_txt       object \n",
      " 74  claim2              float64\n",
      " 75  claimmode2          float64\n",
      " 76  claimmode2_txt      object \n",
      " 77  claim3              float64\n",
      " 78  claimmode3          float64\n",
      " 79  claimmode3_txt      object \n",
      " 80  compclaim           float64\n",
      " 81  weaptype1           int64  \n",
      " 82  weaptype1_txt       object \n",
      " 83  weapsubtype1        float64\n",
      " 84  weapsubtype1_txt    object \n",
      " 85  weaptype2           float64\n",
      " 86  weaptype2_txt       object \n",
      " 87  weapsubtype2        float64\n",
      " 88  weapsubtype2_txt    object \n",
      " 89  weaptype3           float64\n",
      " 90  weaptype3_txt       object \n",
      " 91  weapsubtype3        float64\n",
      " 92  weapsubtype3_txt    object \n",
      " 93  weaptype4           float64\n",
      " 94  weaptype4_txt       object \n",
      " 95  weapsubtype4        float64\n",
      " 96  weapsubtype4_txt    object \n",
      " 97  weapdetail          object \n",
      " 98  nkill               float64\n",
      " 99  nkillus             float64\n",
      " 100 nkillter            float64\n",
      " 101 nwound              float64\n",
      " 102 nwoundus            float64\n",
      " 103 nwoundte            float64\n",
      " 104 property            int64  \n",
      " 105 propextent          float64\n",
      " 106 propextent_txt      object \n",
      " 107 propvalue           float64\n",
      " 108 propcomment         object \n",
      " 109 ishostkid           float64\n",
      " 110 nhostkid            float64\n",
      " 111 nhostkidus          float64\n",
      " 112 nhours              float64\n",
      " 113 ndays               float64\n",
      " 114 divert              object \n",
      " 115 kidhijcountry       object \n",
      " 116 ransom              float64\n",
      " 117 ransomamt           float64\n",
      " 118 ransomamtus         float64\n",
      " 119 ransompaid          float64\n",
      " 120 ransompaidus        float64\n",
      " 121 ransomnote          object \n",
      " 122 hostkidoutcome      float64\n",
      " 123 hostkidoutcome_txt  object \n",
      " 124 nreleased           float64\n",
      " 125 addnotes            object \n",
      " 126 scite1              object \n",
      " 127 scite2              object \n",
      " 128 scite3              object \n",
      " 129 dbsource            object \n",
      " 130 INT_LOG             int64  \n",
      " 131 INT_IDEO            int64  \n",
      " 132 INT_MISC            int64  \n",
      " 133 INT_ANY             int64  \n",
      " 134 related             object \n",
      "dtypes: float64(55), int64(22), object(58)\n",
      "memory usage: 187.1+ MB\n"
     ]
    }
   ],
   "source": [
    "gb.info(verbose='true')"
   ],
   "metadata": {
    "collapsed": false,
    "pycharm": {
     "name": "#%%\n"
    }
   }
  },
  {
   "cell_type": "code",
   "execution_count": 44,
   "outputs": [
    {
     "data": {
      "text/plain": "        eventid  iyear  imonth  iday approxdate  extended resolution  country  \\\n0  197000000001   1970       7     2        NaN         0        NaN       58   \n1  197000000002   1970       0     0        NaN         0        NaN      130   \n2  197001000001   1970       1     0        NaN         0        NaN      160   \n3  197001000002   1970       1     0        NaN         0        NaN       78   \n4  197001000003   1970       1     0        NaN         0        NaN      101   \n\n          country_txt  region  ... addnotes scite1 scite2  scite3  dbsource  \\\n0  Dominican Republic       2  ...      NaN    NaN    NaN     NaN      PGIS   \n1              Mexico       1  ...      NaN    NaN    NaN     NaN      PGIS   \n2         Philippines       5  ...      NaN    NaN    NaN     NaN      PGIS   \n3              Greece       8  ...      NaN    NaN    NaN     NaN      PGIS   \n4               Japan       4  ...      NaN    NaN    NaN     NaN      PGIS   \n\n   INT_LOG  INT_IDEO INT_MISC INT_ANY  related  \n0        0         0        0       0      NaN  \n1        0         1        1       1      NaN  \n2       -9        -9        1       1      NaN  \n3       -9        -9        1       1      NaN  \n4       -9        -9        1       1      NaN  \n\n[5 rows x 135 columns]",
      "text/html": "<div>\n<style scoped>\n    .dataframe tbody tr th:only-of-type {\n        vertical-align: middle;\n    }\n\n    .dataframe tbody tr th {\n        vertical-align: top;\n    }\n\n    .dataframe thead th {\n        text-align: right;\n    }\n</style>\n<table border=\"1\" class=\"dataframe\">\n  <thead>\n    <tr style=\"text-align: right;\">\n      <th></th>\n      <th>eventid</th>\n      <th>iyear</th>\n      <th>imonth</th>\n      <th>iday</th>\n      <th>approxdate</th>\n      <th>extended</th>\n      <th>resolution</th>\n      <th>country</th>\n      <th>country_txt</th>\n      <th>region</th>\n      <th>...</th>\n      <th>addnotes</th>\n      <th>scite1</th>\n      <th>scite2</th>\n      <th>scite3</th>\n      <th>dbsource</th>\n      <th>INT_LOG</th>\n      <th>INT_IDEO</th>\n      <th>INT_MISC</th>\n      <th>INT_ANY</th>\n      <th>related</th>\n    </tr>\n  </thead>\n  <tbody>\n    <tr>\n      <th>0</th>\n      <td>197000000001</td>\n      <td>1970</td>\n      <td>7</td>\n      <td>2</td>\n      <td>NaN</td>\n      <td>0</td>\n      <td>NaN</td>\n      <td>58</td>\n      <td>Dominican Republic</td>\n      <td>2</td>\n      <td>...</td>\n      <td>NaN</td>\n      <td>NaN</td>\n      <td>NaN</td>\n      <td>NaN</td>\n      <td>PGIS</td>\n      <td>0</td>\n      <td>0</td>\n      <td>0</td>\n      <td>0</td>\n      <td>NaN</td>\n    </tr>\n    <tr>\n      <th>1</th>\n      <td>197000000002</td>\n      <td>1970</td>\n      <td>0</td>\n      <td>0</td>\n      <td>NaN</td>\n      <td>0</td>\n      <td>NaN</td>\n      <td>130</td>\n      <td>Mexico</td>\n      <td>1</td>\n      <td>...</td>\n      <td>NaN</td>\n      <td>NaN</td>\n      <td>NaN</td>\n      <td>NaN</td>\n      <td>PGIS</td>\n      <td>0</td>\n      <td>1</td>\n      <td>1</td>\n      <td>1</td>\n      <td>NaN</td>\n    </tr>\n    <tr>\n      <th>2</th>\n      <td>197001000001</td>\n      <td>1970</td>\n      <td>1</td>\n      <td>0</td>\n      <td>NaN</td>\n      <td>0</td>\n      <td>NaN</td>\n      <td>160</td>\n      <td>Philippines</td>\n      <td>5</td>\n      <td>...</td>\n      <td>NaN</td>\n      <td>NaN</td>\n      <td>NaN</td>\n      <td>NaN</td>\n      <td>PGIS</td>\n      <td>-9</td>\n      <td>-9</td>\n      <td>1</td>\n      <td>1</td>\n      <td>NaN</td>\n    </tr>\n    <tr>\n      <th>3</th>\n      <td>197001000002</td>\n      <td>1970</td>\n      <td>1</td>\n      <td>0</td>\n      <td>NaN</td>\n      <td>0</td>\n      <td>NaN</td>\n      <td>78</td>\n      <td>Greece</td>\n      <td>8</td>\n      <td>...</td>\n      <td>NaN</td>\n      <td>NaN</td>\n      <td>NaN</td>\n      <td>NaN</td>\n      <td>PGIS</td>\n      <td>-9</td>\n      <td>-9</td>\n      <td>1</td>\n      <td>1</td>\n      <td>NaN</td>\n    </tr>\n    <tr>\n      <th>4</th>\n      <td>197001000003</td>\n      <td>1970</td>\n      <td>1</td>\n      <td>0</td>\n      <td>NaN</td>\n      <td>0</td>\n      <td>NaN</td>\n      <td>101</td>\n      <td>Japan</td>\n      <td>4</td>\n      <td>...</td>\n      <td>NaN</td>\n      <td>NaN</td>\n      <td>NaN</td>\n      <td>NaN</td>\n      <td>PGIS</td>\n      <td>-9</td>\n      <td>-9</td>\n      <td>1</td>\n      <td>1</td>\n      <td>NaN</td>\n    </tr>\n  </tbody>\n</table>\n<p>5 rows × 135 columns</p>\n</div>"
     },
     "execution_count": 44,
     "metadata": {},
     "output_type": "execute_result"
    }
   ],
   "source": [
    "gb.head()"
   ],
   "metadata": {
    "collapsed": false,
    "pycharm": {
     "name": "#%%\n"
    }
   }
  },
  {
   "cell_type": "markdown",
   "source": [
    "---\n",
    "## Suppression des colonnes non utilisées"
   ],
   "metadata": {
    "collapsed": false
   }
  },
  {
   "cell_type": "code",
   "execution_count": 45,
   "outputs": [],
   "source": [
    "terrorism = gb.drop(columns={'approxdate',\n",
    "                            'resolution',\n",
    "                            'location',\n",
    "                            'summary',\n",
    "                            'alternative',\n",
    "                            'alternative_txt',\n",
    "                            'attacktype2',\n",
    "                            'attacktype2_txt',\n",
    "                            'attacktype3',\n",
    "                            'attacktype3_txt',\n",
    "                            'corp1',\n",
    "                            'targtype2',\n",
    "                            'targtype2_txt',\n",
    "                            'targsubtype2',\n",
    "                            'targsubtype2_txt',\n",
    "                            'corp2',\n",
    "                            'target2',\n",
    "                            'natlty2',\n",
    "                            'natlty2_txt',\n",
    "                            'targtype3',\n",
    "                            'targtype3_txt',\n",
    "                            'targsubtype3',\n",
    "                            'targsubtype3_txt',\n",
    "                            'corp3',\n",
    "                            'target3',\n",
    "                            'natlty3',\n",
    "                            'natlty3_txt',\n",
    "                            'gsubname',\n",
    "                            'gname2',\n",
    "                            'gsubname2',\n",
    "                            'gname3',\n",
    "                            'gsubname3',\n",
    "                            'motive',\n",
    "                            'guncertain2',\n",
    "                            'guncertain3',\n",
    "                            'nperpcap',\n",
    "                            'claimmode',\n",
    "                            'claimmode_txt',\n",
    "                            'claim2',\n",
    "                            'claimmode2',\n",
    "                            'claimmode2_txt',\n",
    "                            'claim3',\n",
    "                            'claimmode3',\n",
    "                            'claimmode3_txt',\n",
    "                            'compclaim',\n",
    "                            'weaptype2',\n",
    "                            'weaptype2_txt',\n",
    "                            'weapsubtype2',\n",
    "                            'weapsubtype2_txt',\n",
    "                            'weaptype3',\n",
    "                            'weaptype3_txt',\n",
    "                            'weapsubtype3',\n",
    "                            'weapsubtype3_txt',\n",
    "                            'weaptype4',\n",
    "                            'weaptype4_txt',\n",
    "                            'weapsubtype4',\n",
    "                            'weapsubtype4_txt',\n",
    "                            'nkillus',\n",
    "                            'nkillter',\n",
    "                            'nwoundus',\n",
    "                            'nwoundte',\n",
    "                            'property',\n",
    "                            'propextent',\n",
    "                            'propextent_txt',\n",
    "                            'propvalue',\n",
    "                            'propcomment',\n",
    "                            'ishostkid',\n",
    "                            'nhostkid',\n",
    "                            'nhostkidus',\n",
    "                            'nhours',\n",
    "                            'ndays',\n",
    "                            'divert',\n",
    "                            'kidhijcountry',\n",
    "                            'ransom',\n",
    "                            'ransomamt',\n",
    "                            'ransomamtus',\n",
    "                            'ransompaid',\n",
    "                            'ransompaidus',\n",
    "                            'ransomnote',\n",
    "                            'hostkidoutcome',\n",
    "                            'hostkidoutcome_txt',\n",
    "                            'nreleased',\n",
    "                            'addnotes',\n",
    "                            'scite1',\n",
    "                            'scite2',\n",
    "                            'scite3',\n",
    "                            'INT_LOG',\n",
    "                            'INT_IDEO',\n",
    "                            'INT_MISC',\n",
    "                            'INT_ANY',\n",
    "                            'related',\n",
    "                            'dbsource',\n",
    "                            'eventid',\n",
    "                            'iyear',\n",
    "                            'imonth',\n",
    "                            'iday',\n",
    "                            'extended',\n",
    "                            'provstate',\n",
    "                            'latitude',\n",
    "                            'longitude',\n",
    "                            'specificity',\n",
    "                            'vicinity',\n",
    "                            'crit1',\n",
    "                            'crit2',\n",
    "                            'crit3',\n",
    "                            'doubtterr',\n",
    "                            'multiple',\n",
    "                            'success',\n",
    "                            'guncertain1',\n",
    "                            'individual',\n",
    "                            'claimed',\n",
    "                            'weaptype1',\n",
    "                            'weapsubtype1',\n",
    "                            'weapsubtype1_txt',\n",
    "                            'weapdetail',\n",
    "                            'country_txt',\n",
    "                            'region_txt',\n",
    "                            'city',\n",
    "                            'attacktype1_txt',\n",
    "                            'targtype1_txt',\n",
    "                            'targsubtype1',\n",
    "                            'targsubtype1_txt',\n",
    "                            'target1',\n",
    "                            'natlty1_txt'\n",
    "                      })"
   ],
   "metadata": {
    "collapsed": false,
    "pycharm": {
     "name": "#%%\n"
    }
   }
  },
  {
   "cell_type": "markdown",
   "source": [
    "---\n",
    "## Infos du jeu de données reformaté"
   ],
   "metadata": {
    "collapsed": false
   }
  },
  {
   "cell_type": "code",
   "execution_count": 46,
   "outputs": [
    {
     "name": "stdout",
     "output_type": "stream",
     "text": [
      "<class 'pandas.core.frame.DataFrame'>\n",
      "RangeIndex: 181691 entries, 0 to 181690\n",
      "Data columns (total 11 columns):\n",
      " #   Column         Non-Null Count   Dtype  \n",
      "---  ------         --------------   -----  \n",
      " 0   country        181691 non-null  int64  \n",
      " 1   region         181691 non-null  int64  \n",
      " 2   suicide        181691 non-null  int64  \n",
      " 3   attacktype1    181691 non-null  int64  \n",
      " 4   targtype1      181691 non-null  int64  \n",
      " 5   natlty1        180132 non-null  float64\n",
      " 6   gname          181691 non-null  object \n",
      " 7   nperps         110576 non-null  float64\n",
      " 8   weaptype1_txt  181691 non-null  object \n",
      " 9   nkill          171378 non-null  float64\n",
      " 10  nwound         165380 non-null  float64\n",
      "dtypes: float64(4), int64(5), object(2)\n",
      "memory usage: 15.2+ MB\n"
     ]
    }
   ],
   "source": [
    "terrorism.info(verbose='true')"
   ],
   "metadata": {
    "collapsed": false,
    "pycharm": {
     "name": "#%%\n"
    }
   }
  },
  {
   "cell_type": "code",
   "execution_count": 47,
   "outputs": [
    {
     "data": {
      "text/plain": "   country  region  suicide  attacktype1  targtype1  natlty1  \\\n0       58       2        0            1         14     58.0   \n1      130       1        0            6          7     21.0   \n2      160       5        0            1         10    217.0   \n3       78       8        0            3          7    217.0   \n4      101       4        0            7          7    217.0   \n\n                                gname  nperps weaptype1_txt  nkill  nwound  \n0                              MANO-D     NaN       Unknown    1.0     0.0  \n1  23rd of September Communist League     7.0       Unknown    0.0     0.0  \n2                             Unknown     NaN       Unknown    1.0     0.0  \n3                             Unknown     NaN    Explosives    NaN     NaN  \n4                             Unknown     NaN    Incendiary    NaN     NaN  ",
      "text/html": "<div>\n<style scoped>\n    .dataframe tbody tr th:only-of-type {\n        vertical-align: middle;\n    }\n\n    .dataframe tbody tr th {\n        vertical-align: top;\n    }\n\n    .dataframe thead th {\n        text-align: right;\n    }\n</style>\n<table border=\"1\" class=\"dataframe\">\n  <thead>\n    <tr style=\"text-align: right;\">\n      <th></th>\n      <th>country</th>\n      <th>region</th>\n      <th>suicide</th>\n      <th>attacktype1</th>\n      <th>targtype1</th>\n      <th>natlty1</th>\n      <th>gname</th>\n      <th>nperps</th>\n      <th>weaptype1_txt</th>\n      <th>nkill</th>\n      <th>nwound</th>\n    </tr>\n  </thead>\n  <tbody>\n    <tr>\n      <th>0</th>\n      <td>58</td>\n      <td>2</td>\n      <td>0</td>\n      <td>1</td>\n      <td>14</td>\n      <td>58.0</td>\n      <td>MANO-D</td>\n      <td>NaN</td>\n      <td>Unknown</td>\n      <td>1.0</td>\n      <td>0.0</td>\n    </tr>\n    <tr>\n      <th>1</th>\n      <td>130</td>\n      <td>1</td>\n      <td>0</td>\n      <td>6</td>\n      <td>7</td>\n      <td>21.0</td>\n      <td>23rd of September Communist League</td>\n      <td>7.0</td>\n      <td>Unknown</td>\n      <td>0.0</td>\n      <td>0.0</td>\n    </tr>\n    <tr>\n      <th>2</th>\n      <td>160</td>\n      <td>5</td>\n      <td>0</td>\n      <td>1</td>\n      <td>10</td>\n      <td>217.0</td>\n      <td>Unknown</td>\n      <td>NaN</td>\n      <td>Unknown</td>\n      <td>1.0</td>\n      <td>0.0</td>\n    </tr>\n    <tr>\n      <th>3</th>\n      <td>78</td>\n      <td>8</td>\n      <td>0</td>\n      <td>3</td>\n      <td>7</td>\n      <td>217.0</td>\n      <td>Unknown</td>\n      <td>NaN</td>\n      <td>Explosives</td>\n      <td>NaN</td>\n      <td>NaN</td>\n    </tr>\n    <tr>\n      <th>4</th>\n      <td>101</td>\n      <td>4</td>\n      <td>0</td>\n      <td>7</td>\n      <td>7</td>\n      <td>217.0</td>\n      <td>Unknown</td>\n      <td>NaN</td>\n      <td>Incendiary</td>\n      <td>NaN</td>\n      <td>NaN</td>\n    </tr>\n  </tbody>\n</table>\n</div>"
     },
     "execution_count": 47,
     "metadata": {},
     "output_type": "execute_result"
    }
   ],
   "source": [
    "terrorism.head()"
   ],
   "metadata": {
    "collapsed": false,
    "pycharm": {
     "name": "#%%\n"
    }
   }
  },
  {
   "cell_type": "code",
   "execution_count": 48,
   "outputs": [
    {
     "data": {
      "text/plain": "        country  region  suicide  attacktype1  targtype1  natlty1  gname  \\\n1         False   False    False        False      False    False  False   \n5         False   False    False        False      False    False  False   \n6         False   False    False        False      False    False  False   \n7         False   False    False        False      False    False  False   \n8         False   False    False        False      False    False  False   \n...         ...     ...      ...          ...        ...      ...    ...   \n181686    False   False    False        False      False    False  False   \n181687    False   False    False        False      False    False  False   \n181688    False   False    False        False      False    False  False   \n181689    False   False    False        False      False    False  False   \n181690    False   False    False        False      False    False  False   \n\n        nperps  weaptype1_txt  nkill  nwound  \n1        False          False  False   False  \n5        False          False  False   False  \n6        False          False  False   False  \n7        False          False  False   False  \n8        False          False  False   False  \n...        ...            ...    ...     ...  \n181686   False          False  False   False  \n181687   False          False  False   False  \n181688   False          False  False   False  \n181689   False          False  False   False  \n181690   False          False  False   False  \n\n[101402 rows x 11 columns]",
      "text/html": "<div>\n<style scoped>\n    .dataframe tbody tr th:only-of-type {\n        vertical-align: middle;\n    }\n\n    .dataframe tbody tr th {\n        vertical-align: top;\n    }\n\n    .dataframe thead th {\n        text-align: right;\n    }\n</style>\n<table border=\"1\" class=\"dataframe\">\n  <thead>\n    <tr style=\"text-align: right;\">\n      <th></th>\n      <th>country</th>\n      <th>region</th>\n      <th>suicide</th>\n      <th>attacktype1</th>\n      <th>targtype1</th>\n      <th>natlty1</th>\n      <th>gname</th>\n      <th>nperps</th>\n      <th>weaptype1_txt</th>\n      <th>nkill</th>\n      <th>nwound</th>\n    </tr>\n  </thead>\n  <tbody>\n    <tr>\n      <th>1</th>\n      <td>False</td>\n      <td>False</td>\n      <td>False</td>\n      <td>False</td>\n      <td>False</td>\n      <td>False</td>\n      <td>False</td>\n      <td>False</td>\n      <td>False</td>\n      <td>False</td>\n      <td>False</td>\n    </tr>\n    <tr>\n      <th>5</th>\n      <td>False</td>\n      <td>False</td>\n      <td>False</td>\n      <td>False</td>\n      <td>False</td>\n      <td>False</td>\n      <td>False</td>\n      <td>False</td>\n      <td>False</td>\n      <td>False</td>\n      <td>False</td>\n    </tr>\n    <tr>\n      <th>6</th>\n      <td>False</td>\n      <td>False</td>\n      <td>False</td>\n      <td>False</td>\n      <td>False</td>\n      <td>False</td>\n      <td>False</td>\n      <td>False</td>\n      <td>False</td>\n      <td>False</td>\n      <td>False</td>\n    </tr>\n    <tr>\n      <th>7</th>\n      <td>False</td>\n      <td>False</td>\n      <td>False</td>\n      <td>False</td>\n      <td>False</td>\n      <td>False</td>\n      <td>False</td>\n      <td>False</td>\n      <td>False</td>\n      <td>False</td>\n      <td>False</td>\n    </tr>\n    <tr>\n      <th>8</th>\n      <td>False</td>\n      <td>False</td>\n      <td>False</td>\n      <td>False</td>\n      <td>False</td>\n      <td>False</td>\n      <td>False</td>\n      <td>False</td>\n      <td>False</td>\n      <td>False</td>\n      <td>False</td>\n    </tr>\n    <tr>\n      <th>...</th>\n      <td>...</td>\n      <td>...</td>\n      <td>...</td>\n      <td>...</td>\n      <td>...</td>\n      <td>...</td>\n      <td>...</td>\n      <td>...</td>\n      <td>...</td>\n      <td>...</td>\n      <td>...</td>\n    </tr>\n    <tr>\n      <th>181686</th>\n      <td>False</td>\n      <td>False</td>\n      <td>False</td>\n      <td>False</td>\n      <td>False</td>\n      <td>False</td>\n      <td>False</td>\n      <td>False</td>\n      <td>False</td>\n      <td>False</td>\n      <td>False</td>\n    </tr>\n    <tr>\n      <th>181687</th>\n      <td>False</td>\n      <td>False</td>\n      <td>False</td>\n      <td>False</td>\n      <td>False</td>\n      <td>False</td>\n      <td>False</td>\n      <td>False</td>\n      <td>False</td>\n      <td>False</td>\n      <td>False</td>\n    </tr>\n    <tr>\n      <th>181688</th>\n      <td>False</td>\n      <td>False</td>\n      <td>False</td>\n      <td>False</td>\n      <td>False</td>\n      <td>False</td>\n      <td>False</td>\n      <td>False</td>\n      <td>False</td>\n      <td>False</td>\n      <td>False</td>\n    </tr>\n    <tr>\n      <th>181689</th>\n      <td>False</td>\n      <td>False</td>\n      <td>False</td>\n      <td>False</td>\n      <td>False</td>\n      <td>False</td>\n      <td>False</td>\n      <td>False</td>\n      <td>False</td>\n      <td>False</td>\n      <td>False</td>\n    </tr>\n    <tr>\n      <th>181690</th>\n      <td>False</td>\n      <td>False</td>\n      <td>False</td>\n      <td>False</td>\n      <td>False</td>\n      <td>False</td>\n      <td>False</td>\n      <td>False</td>\n      <td>False</td>\n      <td>False</td>\n      <td>False</td>\n    </tr>\n  </tbody>\n</table>\n<p>101402 rows × 11 columns</p>\n</div>"
     },
     "execution_count": 48,
     "metadata": {},
     "output_type": "execute_result"
    }
   ],
   "source": [
    "terrorism = terrorism.dropna()\n",
    "terrorism.isna()"
   ],
   "metadata": {
    "collapsed": false,
    "pycharm": {
     "name": "#%%\n"
    }
   }
  },
  {
   "cell_type": "code",
   "execution_count": 49,
   "outputs": [
    {
     "data": {
      "text/plain": "9"
     },
     "execution_count": 49,
     "metadata": {},
     "output_type": "execute_result"
    }
   ],
   "source": [
    "terrorism['attacktype1'].nunique()"
   ],
   "metadata": {
    "collapsed": false,
    "pycharm": {
     "name": "#%%\n"
    }
   }
  },
  {
   "cell_type": "code",
   "execution_count": 50,
   "outputs": [],
   "source": [
    "def get_accuracy(preds, target):\n",
    "    m = target.shape[0] # nombre d'exemples\n",
    "    total_correct = (preds == target).sum()\n",
    "    accuracy = total_correct / m\n",
    "    return str(round(accuracy * 100, 2)) + \"%\""
   ],
   "metadata": {
    "collapsed": false,
    "pycharm": {
     "name": "#%%\n"
    }
   }
  },
  {
   "cell_type": "markdown",
   "source": [
    "### On convertit les classes en code numérique"
   ],
   "metadata": {
    "collapsed": false
   }
  },
  {
   "cell_type": "code",
   "execution_count": 51,
   "outputs": [],
   "source": [
    "classes_group = terrorism['gname'].astype('category').cat.categories\n",
    "weapon_classes = terrorism['weaptype1_txt'].astype('category').cat.categories"
   ],
   "metadata": {
    "collapsed": false,
    "pycharm": {
     "name": "#%%\n"
    }
   }
  },
  {
   "cell_type": "code",
   "execution_count": 52,
   "outputs": [
    {
     "name": "stdout",
     "output_type": "stream",
     "text": [
      "<class 'pandas.core.frame.DataFrame'>\n",
      "Int64Index: 101402 entries, 1 to 181690\n",
      "Data columns (total 11 columns):\n",
      " #   Column         Non-Null Count   Dtype  \n",
      "---  ------         --------------   -----  \n",
      " 0   country        101402 non-null  int64  \n",
      " 1   region         101402 non-null  int64  \n",
      " 2   suicide        101402 non-null  int64  \n",
      " 3   attacktype1    101402 non-null  int64  \n",
      " 4   targtype1      101402 non-null  int64  \n",
      " 5   natlty1        101402 non-null  float64\n",
      " 6   gname          101402 non-null  int16  \n",
      " 7   nperps         101402 non-null  float64\n",
      " 8   weaptype1_txt  101402 non-null  int8   \n",
      " 9   nkill          101402 non-null  float64\n",
      " 10  nwound         101402 non-null  float64\n",
      "dtypes: float64(4), int16(1), int64(5), int8(1)\n",
      "memory usage: 8.0 MB\n"
     ]
    }
   ],
   "source": [
    "terrorism['gname'] = terrorism['gname'].astype('category').cat.codes\n",
    "terrorism['weaptype1_txt'] = terrorism['weaptype1_txt'].astype('category').cat.codes\n",
    "terrorism.info()"
   ],
   "metadata": {
    "collapsed": false,
    "pycharm": {
     "name": "#%%\n"
    }
   }
  },
  {
   "cell_type": "code",
   "execution_count": 53,
   "outputs": [
    {
     "data": {
      "text/plain": "(10000, 11)"
     },
     "execution_count": 53,
     "metadata": {},
     "output_type": "execute_result"
    }
   ],
   "source": [
    "terrorism = terrorism.iloc[:10000]\n",
    "terrorism.shape"
   ],
   "metadata": {
    "collapsed": false,
    "pycharm": {
     "name": "#%%\n"
    }
   }
  },
  {
   "cell_type": "code",
   "execution_count": 54,
   "outputs": [
    {
     "data": {
      "text/plain": "((10000, 10), (10000,))"
     },
     "execution_count": 54,
     "metadata": {},
     "output_type": "execute_result"
    }
   ],
   "source": [
    "y = terrorism['attacktype1']\n",
    "x = terrorism.drop(columns='attacktype1')\n",
    "x.shape, y.shape"
   ],
   "metadata": {
    "collapsed": false,
    "pycharm": {
     "name": "#%%\n"
    }
   }
  },
  {
   "cell_type": "code",
   "execution_count": 55,
   "outputs": [],
   "source": [
    "x_tr, x_te, y_tr, y_te = tts(x, y, stratify=y, train_size=0.5)"
   ],
   "metadata": {
    "collapsed": false,
    "pycharm": {
     "name": "#%%\n"
    }
   }
  },
  {
   "cell_type": "code",
   "execution_count": 56,
   "outputs": [],
   "source": [
    "pca = PCA()\n",
    "pca.fit(x_tr)\n",
    "x_tr_pca = pca.transform(x_tr)\n",
    "x_te_pca = pca.transform(x_te)"
   ],
   "metadata": {
    "collapsed": false,
    "pycharm": {
     "name": "#%%\n"
    }
   }
  },
  {
   "cell_type": "code",
   "execution_count": 57,
   "outputs": [],
   "source": [
    "gpc = GPC()\n",
    "knn = KNN(n_neighbors=3)"
   ],
   "metadata": {
    "collapsed": false,
    "pycharm": {
     "name": "#%%\n"
    }
   }
  },
  {
   "cell_type": "code",
   "execution_count": 58,
   "outputs": [
    {
     "data": {
      "text/plain": "KNeighborsClassifier(n_neighbors=3)"
     },
     "execution_count": 58,
     "metadata": {},
     "output_type": "execute_result"
    }
   ],
   "source": [
    "#gpc.fit(x_tr_pca, y_tr)\n",
    "knn.fit(x_tr_pca, y_tr)"
   ],
   "metadata": {
    "collapsed": false,
    "pycharm": {
     "name": "#%%\n"
    }
   }
  },
  {
   "cell_type": "code",
   "execution_count": 59,
   "outputs": [],
   "source": [
    "# preds = gpc.predict(x_te_pca)\n",
    "preds = knn.predict(x_te_pca)"
   ],
   "metadata": {
    "collapsed": false,
    "pycharm": {
     "name": "#%%\n"
    }
   }
  },
  {
   "cell_type": "code",
   "source": [
    "get_accuracy(preds, y_te)"
   ],
   "metadata": {
    "collapsed": false,
    "pycharm": {
     "name": "#%%\n"
    }
   },
   "execution_count": 60,
   "outputs": [
    {
     "data": {
      "text/plain": "'52.94%'"
     },
     "execution_count": 60,
     "metadata": {},
     "output_type": "execute_result"
    }
   ]
  }
 ],
 "metadata": {
  "kernelspec": {
   "display_name": "Python 3",
   "language": "python",
   "name": "python3"
  },
  "language_info": {
   "codemirror_mode": {
    "name": "ipython",
    "version": 2
   },
   "file_extension": ".py",
   "mimetype": "text/x-python",
   "name": "python",
   "nbconvert_exporter": "python",
   "pygments_lexer": "ipython2",
   "version": "2.7.6"
  }
 },
 "nbformat": 4,
 "nbformat_minor": 0
}