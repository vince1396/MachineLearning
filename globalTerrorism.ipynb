{
 "cells": [
  {
   "cell_type": "markdown",
   "source": [
    "# Terrorisme mondial"
   ],
   "metadata": {
    "collapsed": false,
    "pycharm": {
     "name": "#%% md\n"
    }
   }
  },
  {
   "cell_type": "markdown",
   "source": [
    "---\n",
    "## Importation des librairies"
   ],
   "metadata": {
    "collapsed": false,
    "pycharm": {
     "name": "#%% md\n"
    }
   }
  },
  {
   "cell_type": "code",
   "execution_count": 1,
   "metadata": {
    "collapsed": true
   },
   "outputs": [],
   "source": [
    "import pandas as pd\n",
    "import numpy as np\n",
    "import seaborn as sns\n",
    "import matplotlib.pyplot as plt\n",
    "import seaborn.rcmod as rc"
   ]
  },
  {
   "cell_type": "markdown",
   "source": [
    "---\n",
    "## Importation du jeu de données"
   ],
   "metadata": {
    "collapsed": false,
    "pycharm": {
     "name": "#%% md\n"
    }
   }
  },
  {
   "cell_type": "code",
   "execution_count": 2,
   "outputs": [
    {
     "name": "stderr",
     "output_type": "stream",
     "text": [
      "/home/vincent/.local/share/virtualenvs/MachineLearning-p2QxMSww/lib/python3.8/site-packages/IPython/core/interactiveshell.py:3145: DtypeWarning: Columns (4,6,31,33,61,62,63,76,79,90,92,94,96,114,115,121) have mixed types.Specify dtype option on import or set low_memory=False.\n",
      "  has_raised = await self.run_ast_nodes(code_ast.body, cell_name,\n"
     ]
    }
   ],
   "source": [
    "gb = pd.read_csv(\"/home/vincent/Hitema/Cours/Machine Learning/globalterrorismdb_0718dist.csv\", encoding='ISO-8859-1')"
   ],
   "metadata": {
    "collapsed": false,
    "pycharm": {
     "name": "#%%\n"
    }
   }
  },
  {
   "cell_type": "markdown",
   "source": [
    "---\n",
    "## Informations du jeu de données"
   ],
   "metadata": {
    "collapsed": false,
    "pycharm": {
     "name": "#%% md\n"
    }
   }
  },
  {
   "cell_type": "code",
   "execution_count": 3,
   "outputs": [
    {
     "name": "stdout",
     "output_type": "stream",
     "text": [
      "<class 'pandas.core.frame.DataFrame'>\n",
      "RangeIndex: 181691 entries, 0 to 181690\n",
      "Data columns (total 135 columns):\n",
      " #   Column              Dtype  \n",
      "---  ------              -----  \n",
      " 0   eventid             int64  \n",
      " 1   iyear               int64  \n",
      " 2   imonth              int64  \n",
      " 3   iday                int64  \n",
      " 4   approxdate          object \n",
      " 5   extended            int64  \n",
      " 6   resolution          object \n",
      " 7   country             int64  \n",
      " 8   country_txt         object \n",
      " 9   region              int64  \n",
      " 10  region_txt          object \n",
      " 11  provstate           object \n",
      " 12  city                object \n",
      " 13  latitude            float64\n",
      " 14  longitude           float64\n",
      " 15  specificity         float64\n",
      " 16  vicinity            int64  \n",
      " 17  location            object \n",
      " 18  summary             object \n",
      " 19  crit1               int64  \n",
      " 20  crit2               int64  \n",
      " 21  crit3               int64  \n",
      " 22  doubtterr           float64\n",
      " 23  alternative         float64\n",
      " 24  alternative_txt     object \n",
      " 25  multiple            float64\n",
      " 26  success             int64  \n",
      " 27  suicide             int64  \n",
      " 28  attacktype1         int64  \n",
      " 29  attacktype1_txt     object \n",
      " 30  attacktype2         float64\n",
      " 31  attacktype2_txt     object \n",
      " 32  attacktype3         float64\n",
      " 33  attacktype3_txt     object \n",
      " 34  targtype1           int64  \n",
      " 35  targtype1_txt       object \n",
      " 36  targsubtype1        float64\n",
      " 37  targsubtype1_txt    object \n",
      " 38  corp1               object \n",
      " 39  target1             object \n",
      " 40  natlty1             float64\n",
      " 41  natlty1_txt         object \n",
      " 42  targtype2           float64\n",
      " 43  targtype2_txt       object \n",
      " 44  targsubtype2        float64\n",
      " 45  targsubtype2_txt    object \n",
      " 46  corp2               object \n",
      " 47  target2             object \n",
      " 48  natlty2             float64\n",
      " 49  natlty2_txt         object \n",
      " 50  targtype3           float64\n",
      " 51  targtype3_txt       object \n",
      " 52  targsubtype3        float64\n",
      " 53  targsubtype3_txt    object \n",
      " 54  corp3               object \n",
      " 55  target3             object \n",
      " 56  natlty3             float64\n",
      " 57  natlty3_txt         object \n",
      " 58  gname               object \n",
      " 59  gsubname            object \n",
      " 60  gname2              object \n",
      " 61  gsubname2           object \n",
      " 62  gname3              object \n",
      " 63  gsubname3           object \n",
      " 64  motive              object \n",
      " 65  guncertain1         float64\n",
      " 66  guncertain2         float64\n",
      " 67  guncertain3         float64\n",
      " 68  individual          int64  \n",
      " 69  nperps              float64\n",
      " 70  nperpcap            float64\n",
      " 71  claimed             float64\n",
      " 72  claimmode           float64\n",
      " 73  claimmode_txt       object \n",
      " 74  claim2              float64\n",
      " 75  claimmode2          float64\n",
      " 76  claimmode2_txt      object \n",
      " 77  claim3              float64\n",
      " 78  claimmode3          float64\n",
      " 79  claimmode3_txt      object \n",
      " 80  compclaim           float64\n",
      " 81  weaptype1           int64  \n",
      " 82  weaptype1_txt       object \n",
      " 83  weapsubtype1        float64\n",
      " 84  weapsubtype1_txt    object \n",
      " 85  weaptype2           float64\n",
      " 86  weaptype2_txt       object \n",
      " 87  weapsubtype2        float64\n",
      " 88  weapsubtype2_txt    object \n",
      " 89  weaptype3           float64\n",
      " 90  weaptype3_txt       object \n",
      " 91  weapsubtype3        float64\n",
      " 92  weapsubtype3_txt    object \n",
      " 93  weaptype4           float64\n",
      " 94  weaptype4_txt       object \n",
      " 95  weapsubtype4        float64\n",
      " 96  weapsubtype4_txt    object \n",
      " 97  weapdetail          object \n",
      " 98  nkill               float64\n",
      " 99  nkillus             float64\n",
      " 100 nkillter            float64\n",
      " 101 nwound              float64\n",
      " 102 nwoundus            float64\n",
      " 103 nwoundte            float64\n",
      " 104 property            int64  \n",
      " 105 propextent          float64\n",
      " 106 propextent_txt      object \n",
      " 107 propvalue           float64\n",
      " 108 propcomment         object \n",
      " 109 ishostkid           float64\n",
      " 110 nhostkid            float64\n",
      " 111 nhostkidus          float64\n",
      " 112 nhours              float64\n",
      " 113 ndays               float64\n",
      " 114 divert              object \n",
      " 115 kidhijcountry       object \n",
      " 116 ransom              float64\n",
      " 117 ransomamt           float64\n",
      " 118 ransomamtus         float64\n",
      " 119 ransompaid          float64\n",
      " 120 ransompaidus        float64\n",
      " 121 ransomnote          object \n",
      " 122 hostkidoutcome      float64\n",
      " 123 hostkidoutcome_txt  object \n",
      " 124 nreleased           float64\n",
      " 125 addnotes            object \n",
      " 126 scite1              object \n",
      " 127 scite2              object \n",
      " 128 scite3              object \n",
      " 129 dbsource            object \n",
      " 130 INT_LOG             int64  \n",
      " 131 INT_IDEO            int64  \n",
      " 132 INT_MISC            int64  \n",
      " 133 INT_ANY             int64  \n",
      " 134 related             object \n",
      "dtypes: float64(55), int64(22), object(58)\n",
      "memory usage: 187.1+ MB\n"
     ]
    }
   ],
   "source": [
    "gb.info(verbose='true')"
   ],
   "metadata": {
    "collapsed": false,
    "pycharm": {
     "name": "#%%\n"
    }
   }
  },
  {
   "cell_type": "code",
   "execution_count": 4,
   "outputs": [
    {
     "data": {
      "text/plain": "        eventid  iyear  imonth  iday approxdate  extended resolution  country  \\\n0  197000000001   1970       7     2        NaN         0        NaN       58   \n1  197000000002   1970       0     0        NaN         0        NaN      130   \n2  197001000001   1970       1     0        NaN         0        NaN      160   \n3  197001000002   1970       1     0        NaN         0        NaN       78   \n4  197001000003   1970       1     0        NaN         0        NaN      101   \n\n          country_txt  region  ... addnotes scite1 scite2  scite3  dbsource  \\\n0  Dominican Republic       2  ...      NaN    NaN    NaN     NaN      PGIS   \n1              Mexico       1  ...      NaN    NaN    NaN     NaN      PGIS   \n2         Philippines       5  ...      NaN    NaN    NaN     NaN      PGIS   \n3              Greece       8  ...      NaN    NaN    NaN     NaN      PGIS   \n4               Japan       4  ...      NaN    NaN    NaN     NaN      PGIS   \n\n   INT_LOG  INT_IDEO INT_MISC INT_ANY  related  \n0        0         0        0       0      NaN  \n1        0         1        1       1      NaN  \n2       -9        -9        1       1      NaN  \n3       -9        -9        1       1      NaN  \n4       -9        -9        1       1      NaN  \n\n[5 rows x 135 columns]",
      "text/html": "<div>\n<style scoped>\n    .dataframe tbody tr th:only-of-type {\n        vertical-align: middle;\n    }\n\n    .dataframe tbody tr th {\n        vertical-align: top;\n    }\n\n    .dataframe thead th {\n        text-align: right;\n    }\n</style>\n<table border=\"1\" class=\"dataframe\">\n  <thead>\n    <tr style=\"text-align: right;\">\n      <th></th>\n      <th>eventid</th>\n      <th>iyear</th>\n      <th>imonth</th>\n      <th>iday</th>\n      <th>approxdate</th>\n      <th>extended</th>\n      <th>resolution</th>\n      <th>country</th>\n      <th>country_txt</th>\n      <th>region</th>\n      <th>...</th>\n      <th>addnotes</th>\n      <th>scite1</th>\n      <th>scite2</th>\n      <th>scite3</th>\n      <th>dbsource</th>\n      <th>INT_LOG</th>\n      <th>INT_IDEO</th>\n      <th>INT_MISC</th>\n      <th>INT_ANY</th>\n      <th>related</th>\n    </tr>\n  </thead>\n  <tbody>\n    <tr>\n      <th>0</th>\n      <td>197000000001</td>\n      <td>1970</td>\n      <td>7</td>\n      <td>2</td>\n      <td>NaN</td>\n      <td>0</td>\n      <td>NaN</td>\n      <td>58</td>\n      <td>Dominican Republic</td>\n      <td>2</td>\n      <td>...</td>\n      <td>NaN</td>\n      <td>NaN</td>\n      <td>NaN</td>\n      <td>NaN</td>\n      <td>PGIS</td>\n      <td>0</td>\n      <td>0</td>\n      <td>0</td>\n      <td>0</td>\n      <td>NaN</td>\n    </tr>\n    <tr>\n      <th>1</th>\n      <td>197000000002</td>\n      <td>1970</td>\n      <td>0</td>\n      <td>0</td>\n      <td>NaN</td>\n      <td>0</td>\n      <td>NaN</td>\n      <td>130</td>\n      <td>Mexico</td>\n      <td>1</td>\n      <td>...</td>\n      <td>NaN</td>\n      <td>NaN</td>\n      <td>NaN</td>\n      <td>NaN</td>\n      <td>PGIS</td>\n      <td>0</td>\n      <td>1</td>\n      <td>1</td>\n      <td>1</td>\n      <td>NaN</td>\n    </tr>\n    <tr>\n      <th>2</th>\n      <td>197001000001</td>\n      <td>1970</td>\n      <td>1</td>\n      <td>0</td>\n      <td>NaN</td>\n      <td>0</td>\n      <td>NaN</td>\n      <td>160</td>\n      <td>Philippines</td>\n      <td>5</td>\n      <td>...</td>\n      <td>NaN</td>\n      <td>NaN</td>\n      <td>NaN</td>\n      <td>NaN</td>\n      <td>PGIS</td>\n      <td>-9</td>\n      <td>-9</td>\n      <td>1</td>\n      <td>1</td>\n      <td>NaN</td>\n    </tr>\n    <tr>\n      <th>3</th>\n      <td>197001000002</td>\n      <td>1970</td>\n      <td>1</td>\n      <td>0</td>\n      <td>NaN</td>\n      <td>0</td>\n      <td>NaN</td>\n      <td>78</td>\n      <td>Greece</td>\n      <td>8</td>\n      <td>...</td>\n      <td>NaN</td>\n      <td>NaN</td>\n      <td>NaN</td>\n      <td>NaN</td>\n      <td>PGIS</td>\n      <td>-9</td>\n      <td>-9</td>\n      <td>1</td>\n      <td>1</td>\n      <td>NaN</td>\n    </tr>\n    <tr>\n      <th>4</th>\n      <td>197001000003</td>\n      <td>1970</td>\n      <td>1</td>\n      <td>0</td>\n      <td>NaN</td>\n      <td>0</td>\n      <td>NaN</td>\n      <td>101</td>\n      <td>Japan</td>\n      <td>4</td>\n      <td>...</td>\n      <td>NaN</td>\n      <td>NaN</td>\n      <td>NaN</td>\n      <td>NaN</td>\n      <td>PGIS</td>\n      <td>-9</td>\n      <td>-9</td>\n      <td>1</td>\n      <td>1</td>\n      <td>NaN</td>\n    </tr>\n  </tbody>\n</table>\n<p>5 rows × 135 columns</p>\n</div>"
     },
     "execution_count": 4,
     "metadata": {},
     "output_type": "execute_result"
    }
   ],
   "source": [
    "gb.head()"
   ],
   "metadata": {
    "collapsed": false,
    "pycharm": {
     "name": "#%%\n"
    }
   }
  },
  {
   "cell_type": "markdown",
   "source": [
    "---\n",
    "## Suppression des colonnes non utilisées"
   ],
   "metadata": {
    "collapsed": false,
    "pycharm": {
     "name": "#%% md\n"
    }
   }
  },
  {
   "cell_type": "code",
   "execution_count": 5,
   "outputs": [],
   "source": [
    "terrorism = gb.drop(columns={'approxdate',\n",
    "                      'resolution',\n",
    "                      'location',\n",
    "                      'summary',\n",
    "                      'alternative',\n",
    "                      'alternative_txt',\n",
    "                      'attacktype2',\n",
    "                      'attacktype2_txt',\n",
    "                      'attacktype3',\n",
    "                      'attacktype3_txt',\n",
    "                      'corp1',\n",
    "                      'targtype2',\n",
    "                      'targtype2_txt',\n",
    "                      'targsubtype2',\n",
    "                      'targsubtype2_txt',\n",
    "                      'corp2',\n",
    "                      'target2',\n",
    "                      'natlty2',\n",
    "                      'natlty2_txt',\n",
    "                      'targtype3',\n",
    "                      'targtype3_txt',\n",
    "                      'targsubtype3',\n",
    "                      'targsubtype3_txt',\n",
    "                      'corp3',\n",
    "                      'target3',\n",
    "                      'natlty3',\n",
    "                      'natlty3_txt',\n",
    "                      'gsubname',\n",
    "                      'gname2',\n",
    "                      'gsubname2',\n",
    "                      'gname3',\n",
    "                      'gsubname3',\n",
    "                      'motive',\n",
    "                      'guncertain2',\n",
    "                      'guncertain3',\n",
    "                      'nperpcap',\n",
    "                      'claimmode',\n",
    "                      'claimmode_txt',\n",
    "                      'claim2',\n",
    "                      'claimmode2',\n",
    "                      'claimmode2_txt',\n",
    "                      'claim3',\n",
    "                      'claimmode3',\n",
    "                      'claimmode3_txt',\n",
    "                      'compclaim',\n",
    "                      'weaptype2',\n",
    "                      'weaptype2_txt',\n",
    "                      'weapsubtype2',\n",
    "                      'weapsubtype2_txt',\n",
    "                      'weaptype3',\n",
    "                      'weaptype3_txt',\n",
    "                      'weapsubtype3',\n",
    "                      'weapsubtype3_txt',\n",
    "                      'weaptype4',\n",
    "                      'weaptype4_txt',\n",
    "                      'weapsubtype4',\n",
    "                      'weapsubtype4_txt',\n",
    "                      'nkillus',\n",
    "                      'nkillter',\n",
    "                      'nwoundus',\n",
    "                      'nwoundte',\n",
    "                      'property',\n",
    "                      'propextent',\n",
    "                      'propextent_txt',\n",
    "                      'propvalue',\n",
    "                      'propcomment',\n",
    "                      'ishostkid',\n",
    "                      'nhostkid',\n",
    "                      'nhostkidus',\n",
    "                      'nhours',\n",
    "                      'ndays',\n",
    "                      'divert',\n",
    "                      'kidhijcountry',\n",
    "                      'ransom',\n",
    "                      'ransomamt',\n",
    "                      'ransomamtus',\n",
    "                      'ransompaid',\n",
    "                      'ransompaidus',\n",
    "                      'ransomnote',\n",
    "                      'hostkidoutcome',\n",
    "                      'hostkidoutcome_txt',\n",
    "                      'nreleased',\n",
    "                      'addnotes',\n",
    "                      'scite1',\n",
    "                      'scite2',\n",
    "                      'scite3',\n",
    "                      'INT_LOG',\n",
    "                      'INT_IDEO',\n",
    "                      'INT_MISC',\n",
    "                      'INT_ANY',\n",
    "                      'related',\n",
    "                      'dbsource'\n",
    "                      })"
   ],
   "metadata": {
    "collapsed": false,
    "pycharm": {
     "name": "#%%\n"
    }
   }
  },
  {
   "cell_type": "markdown",
   "source": [
    "---\n",
    "## Renommage des colonnes"
   ],
   "metadata": {
    "collapsed": false,
    "pycharm": {
     "name": "#%% md\n"
    }
   }
  },
  {
   "cell_type": "code",
   "execution_count": 6,
   "outputs": [],
   "source": [
    "terrorism.rename(columns={'iyear':'Year',\n",
    "                          'imonth':'Month',\n",
    "                          'iday':'Day',\n",
    "                          'country_txt':'Country',\n",
    "                          'region_txt':'Region',\n",
    "                          'attacktype1_txt':'AttackType',\n",
    "                          'target1':'Target',\n",
    "                          'nkill':'Killed',\n",
    "                          'nwound':'Wounded',\n",
    "                          'summary':'Summary',\n",
    "                          'gname':'Group',\n",
    "                          'targtype1_txt':'Target_type',\n",
    "                          'weaptype1_txt':'Weapon_type',\n",
    "                          'motive':'Motive'},\n",
    "                 inplace=True)"
   ],
   "metadata": {
    "collapsed": false,
    "pycharm": {
     "name": "#%%\n"
    }
   }
  },
  {
   "cell_type": "markdown",
   "source": [
    "---\n",
    "## Infos du jeu de données reformaté"
   ],
   "metadata": {
    "collapsed": false,
    "pycharm": {
     "name": "#%% md\n"
    }
   }
  },
  {
   "cell_type": "code",
   "execution_count": 7,
   "outputs": [
    {
     "name": "stdout",
     "output_type": "stream",
     "text": [
      "<class 'pandas.core.frame.DataFrame'>\n",
      "RangeIndex: 181691 entries, 0 to 181690\n",
      "Data columns (total 43 columns):\n",
      " #   Column            Non-Null Count   Dtype  \n",
      "---  ------            --------------   -----  \n",
      " 0   eventid           181691 non-null  int64  \n",
      " 1   Year              181691 non-null  int64  \n",
      " 2   Month             181691 non-null  int64  \n",
      " 3   Day               181691 non-null  int64  \n",
      " 4   extended          181691 non-null  int64  \n",
      " 5   country           181691 non-null  int64  \n",
      " 6   Country           181691 non-null  object \n",
      " 7   region            181691 non-null  int64  \n",
      " 8   Region            181691 non-null  object \n",
      " 9   provstate         181270 non-null  object \n",
      " 10  city              181257 non-null  object \n",
      " 11  latitude          177135 non-null  float64\n",
      " 12  longitude         177134 non-null  float64\n",
      " 13  specificity       181685 non-null  float64\n",
      " 14  vicinity          181691 non-null  int64  \n",
      " 15  crit1             181691 non-null  int64  \n",
      " 16  crit2             181691 non-null  int64  \n",
      " 17  crit3             181691 non-null  int64  \n",
      " 18  doubtterr         181690 non-null  float64\n",
      " 19  multiple          181690 non-null  float64\n",
      " 20  success           181691 non-null  int64  \n",
      " 21  suicide           181691 non-null  int64  \n",
      " 22  attacktype1       181691 non-null  int64  \n",
      " 23  AttackType        181691 non-null  object \n",
      " 24  targtype1         181691 non-null  int64  \n",
      " 25  Target_type       181691 non-null  object \n",
      " 26  targsubtype1      171318 non-null  float64\n",
      " 27  targsubtype1_txt  171318 non-null  object \n",
      " 28  Target            181055 non-null  object \n",
      " 29  natlty1           180132 non-null  float64\n",
      " 30  natlty1_txt       180132 non-null  object \n",
      " 31  Group             181691 non-null  object \n",
      " 32  guncertain1       181311 non-null  float64\n",
      " 33  individual        181691 non-null  int64  \n",
      " 34  nperps            110576 non-null  float64\n",
      " 35  claimed           115571 non-null  float64\n",
      " 36  weaptype1         181691 non-null  int64  \n",
      " 37  Weapon_type       181691 non-null  object \n",
      " 38  weapsubtype1      160923 non-null  float64\n",
      " 39  weapsubtype1_txt  160923 non-null  object \n",
      " 40  weapdetail        114021 non-null  object \n",
      " 41  Killed            171378 non-null  float64\n",
      " 42  Wounded           165380 non-null  float64\n",
      "dtypes: float64(13), int64(17), object(13)\n",
      "memory usage: 59.6+ MB\n"
     ]
    }
   ],
   "source": [
    "terrorism.info(verbose='true')"
   ],
   "metadata": {
    "collapsed": false,
    "pycharm": {
     "name": "#%%\n"
    }
   }
  },
  {
   "cell_type": "markdown",
   "source": [
    "---\n",
    "## Evolution du terrorisme de 1970 à 2017"
   ],
   "metadata": {
    "collapsed": false,
    "pycharm": {
     "name": "#%% md\n"
    }
   }
  },
  {
   "cell_type": "code",
   "execution_count": 8,
   "outputs": [
    {
     "name": "stderr",
     "output_type": "stream",
     "text": [
      "/home/vincent/.local/share/virtualenvs/MachineLearning-p2QxMSww/lib/python3.8/site-packages/seaborn/_decorators.py:36: FutureWarning: Pass the following variable as a keyword arg: x. From version 0.12, the only valid positional argument will be `data`, and passing other arguments without an explicit keyword will result in an error or misinterpretation.\n",
      "  warnings.warn(\n"
     ]
    },
    {
     "data": {
      "text/plain": "<Figure size 1080x432 with 1 Axes>",
      "image/png": "[encoded data removed]"
     },
     "metadata": {},
     "output_type": "display_data"
    }
   ],
   "source": [
    "rc.set_theme()\n",
    "plt.subplots(figsize=(15,6))\n",
    "sns.countplot('Year', data=terrorism, palette=\"rocket\")\n",
    "plt.xticks(rotation=90)\n",
    "plt.title(\"Evolution du terrorisme de 1970 à 2017\")\n",
    "plt.show()"
   ],
   "metadata": {
    "collapsed": false,
    "pycharm": {
     "name": "#%%\n"
    }
   }
  },
  {
   "cell_type": "markdown",
   "source": [
    "---\n",
    "## Visualisation des méthodes utilisées pour les attaques"
   ],
   "metadata": {
    "collapsed": false,
    "pycharm": {
     "name": "#%% md\n"
    }
   }
  },
  {
   "cell_type": "code",
   "execution_count": 9,
   "outputs": [
    {
     "name": "stderr",
     "output_type": "stream",
     "text": [
      "/home/vincent/.local/share/virtualenvs/MachineLearning-p2QxMSww/lib/python3.8/site-packages/seaborn/_decorators.py:36: FutureWarning: Pass the following variable as a keyword arg: x. From version 0.12, the only valid positional argument will be `data`, and passing other arguments without an explicit keyword will result in an error or misinterpretation.\n",
      "  warnings.warn(\n"
     ]
    },
    {
     "data": {
      "text/plain": "<Figure size 1080x432 with 1 Axes>",
      "image/png": "[encoded data removed]"
     },
     "metadata": {},
     "output_type": "display_data"
    }
   ],
   "source": [
    "plt.subplots(figsize=(15,6))\n",
    "sns.countplot('AttackType', data=terrorism, order=terrorism['AttackType'].value_counts().index)\n",
    "plt.xticks(rotation=90)\n",
    "plt.title('Méthodes employées des attaques')\n",
    "plt.show()"
   ],
   "metadata": {
    "collapsed": false,
    "pycharm": {
     "name": "#%%\n"
    }
   }
  },
  {
   "cell_type": "markdown",
   "source": [
    "---\n",
    "## Visualisation des cibles des attaques"
   ],
   "metadata": {
    "collapsed": false
   }
  },
  {
   "cell_type": "code",
   "execution_count": 10,
   "outputs": [
    {
     "name": "stderr",
     "output_type": "stream",
     "text": [
      "/home/vincent/.local/share/virtualenvs/MachineLearning-p2QxMSww/lib/python3.8/site-packages/seaborn/_decorators.py:36: FutureWarning: Pass the following variable as a keyword arg: x. From version 0.12, the only valid positional argument will be `data`, and passing other arguments without an explicit keyword will result in an error or misinterpretation.\n",
      "  warnings.warn(\n"
     ]
    },
    {
     "data": {
      "text/plain": "<Figure size 1080x432 with 1 Axes>",
      "image/png": "[encoded data removed]"
     },
     "metadata": {},
     "output_type": "display_data"
    }
   ],
   "source": [
    "plt.subplots(figsize=(15,6))\n",
    "sns.countplot(terrorism['Target_type'], order=terrorism['Target_type'].value_counts().index, palette=\"rocket\")\n",
    "plt.xticks(rotation=90)\n",
    "plt.title('Cibles des attaques')\n",
    "plt.show()"
   ],
   "metadata": {
    "collapsed": false,
    "pycharm": {
     "name": "#%%\n"
    }
   }
  },
  {
   "cell_type": "markdown",
   "source": [
    "---\n",
    "## Visualisation des attaques par région"
   ],
   "metadata": {
    "collapsed": false
   }
  },
  {
   "cell_type": "code",
   "execution_count": 11,
   "outputs": [
    {
     "name": "stderr",
     "output_type": "stream",
     "text": [
      "/home/vincent/.local/share/virtualenvs/MachineLearning-p2QxMSww/lib/python3.8/site-packages/seaborn/_decorators.py:36: FutureWarning: Pass the following variable as a keyword arg: x. From version 0.12, the only valid positional argument will be `data`, and passing other arguments without an explicit keyword will result in an error or misinterpretation.\n",
      "  warnings.warn(\n"
     ]
    },
    {
     "ename": "KeyboardInterrupt",
     "evalue": "",
     "output_type": "error",
     "traceback": [
      "\u001B[0;31m---------------------------------------------------------------------------\u001B[0m",
      "\u001B[0;31mKeyboardInterrupt\u001B[0m                         Traceback (most recent call last)",
      "\u001B[0;32m<ipython-input-11-0fecc1dde41f>\u001B[0m in \u001B[0;36m<module>\u001B[0;34m\u001B[0m\n\u001B[1;32m      3\u001B[0m \u001B[0mplt\u001B[0m\u001B[0;34m.\u001B[0m\u001B[0mxticks\u001B[0m\u001B[0;34m(\u001B[0m\u001B[0mrotation\u001B[0m\u001B[0;34m=\u001B[0m\u001B[0;36m90\u001B[0m\u001B[0;34m)\u001B[0m\u001B[0;34m\u001B[0m\u001B[0;34m\u001B[0m\u001B[0m\n\u001B[1;32m      4\u001B[0m \u001B[0mplt\u001B[0m\u001B[0;34m.\u001B[0m\u001B[0mtitle\u001B[0m\u001B[0;34m(\u001B[0m\u001B[0;34m'Nombre d\\'attaques par région'\u001B[0m\u001B[0;34m)\u001B[0m\u001B[0;34m\u001B[0m\u001B[0;34m\u001B[0m\u001B[0m\n\u001B[0;32m----> 5\u001B[0;31m \u001B[0mplt\u001B[0m\u001B[0;34m.\u001B[0m\u001B[0mshow\u001B[0m\u001B[0;34m(\u001B[0m\u001B[0;34m)\u001B[0m\u001B[0;34m\u001B[0m\u001B[0;34m\u001B[0m\u001B[0m\n\u001B[0m\u001B[1;32m      6\u001B[0m \u001B[0;34m\u001B[0m\u001B[0m\n",
      "\u001B[0;32m~/.local/share/virtualenvs/MachineLearning-p2QxMSww/lib/python3.8/site-packages/matplotlib/pyplot.py\u001B[0m in \u001B[0;36mshow\u001B[0;34m(*args, **kwargs)\u001B[0m\n\u001B[1;32m    335\u001B[0m     \"\"\"\n\u001B[1;32m    336\u001B[0m     \u001B[0m_warn_if_gui_out_of_main_thread\u001B[0m\u001B[0;34m(\u001B[0m\u001B[0;34m)\u001B[0m\u001B[0;34m\u001B[0m\u001B[0;34m\u001B[0m\u001B[0m\n\u001B[0;32m--> 337\u001B[0;31m     \u001B[0;32mreturn\u001B[0m \u001B[0m_backend_mod\u001B[0m\u001B[0;34m.\u001B[0m\u001B[0mshow\u001B[0m\u001B[0;34m(\u001B[0m\u001B[0;34m*\u001B[0m\u001B[0margs\u001B[0m\u001B[0;34m,\u001B[0m \u001B[0;34m**\u001B[0m\u001B[0mkwargs\u001B[0m\u001B[0;34m)\u001B[0m\u001B[0;34m\u001B[0m\u001B[0;34m\u001B[0m\u001B[0m\n\u001B[0m\u001B[1;32m    338\u001B[0m \u001B[0;34m\u001B[0m\u001B[0m\n\u001B[1;32m    339\u001B[0m \u001B[0;34m\u001B[0m\u001B[0m\n",
      "\u001B[0;32m~/.local/share/virtualenvs/MachineLearning-p2QxMSww/lib/python3.8/site-packages/ipykernel/pylab/backend_inline.py\u001B[0m in \u001B[0;36mshow\u001B[0;34m(close, block)\u001B[0m\n\u001B[1;32m     39\u001B[0m     \u001B[0;32mtry\u001B[0m\u001B[0;34m:\u001B[0m\u001B[0;34m\u001B[0m\u001B[0;34m\u001B[0m\u001B[0m\n\u001B[1;32m     40\u001B[0m         \u001B[0;32mfor\u001B[0m \u001B[0mfigure_manager\u001B[0m \u001B[0;32min\u001B[0m \u001B[0mGcf\u001B[0m\u001B[0;34m.\u001B[0m\u001B[0mget_all_fig_managers\u001B[0m\u001B[0;34m(\u001B[0m\u001B[0;34m)\u001B[0m\u001B[0;34m:\u001B[0m\u001B[0;34m\u001B[0m\u001B[0;34m\u001B[0m\u001B[0m\n\u001B[0;32m---> 41\u001B[0;31m             display(\n\u001B[0m\u001B[1;32m     42\u001B[0m                 \u001B[0mfigure_manager\u001B[0m\u001B[0;34m.\u001B[0m\u001B[0mcanvas\u001B[0m\u001B[0;34m.\u001B[0m\u001B[0mfigure\u001B[0m\u001B[0;34m,\u001B[0m\u001B[0;34m\u001B[0m\u001B[0;34m\u001B[0m\u001B[0m\n\u001B[1;32m     43\u001B[0m                 \u001B[0mmetadata\u001B[0m\u001B[0;34m=\u001B[0m\u001B[0m_fetch_figure_metadata\u001B[0m\u001B[0;34m(\u001B[0m\u001B[0mfigure_manager\u001B[0m\u001B[0;34m.\u001B[0m\u001B[0mcanvas\u001B[0m\u001B[0;34m.\u001B[0m\u001B[0mfigure\u001B[0m\u001B[0;34m)\u001B[0m\u001B[0;34m\u001B[0m\u001B[0;34m\u001B[0m\u001B[0m\n",
      "\u001B[0;32m~/.local/share/virtualenvs/MachineLearning-p2QxMSww/lib/python3.8/site-packages/IPython/core/display.py\u001B[0m in \u001B[0;36mdisplay\u001B[0;34m(include, exclude, metadata, transient, display_id, *objs, **kwargs)\u001B[0m\n\u001B[1;32m    311\u001B[0m             \u001B[0mpublish_display_data\u001B[0m\u001B[0;34m(\u001B[0m\u001B[0mdata\u001B[0m\u001B[0;34m=\u001B[0m\u001B[0mobj\u001B[0m\u001B[0;34m,\u001B[0m \u001B[0mmetadata\u001B[0m\u001B[0;34m=\u001B[0m\u001B[0mmetadata\u001B[0m\u001B[0;34m,\u001B[0m \u001B[0;34m**\u001B[0m\u001B[0mkwargs\u001B[0m\u001B[0;34m)\u001B[0m\u001B[0;34m\u001B[0m\u001B[0;34m\u001B[0m\u001B[0m\n\u001B[1;32m    312\u001B[0m         \u001B[0;32melse\u001B[0m\u001B[0;34m:\u001B[0m\u001B[0;34m\u001B[0m\u001B[0;34m\u001B[0m\u001B[0m\n\u001B[0;32m--> 313\u001B[0;31m             \u001B[0mformat_dict\u001B[0m\u001B[0;34m,\u001B[0m \u001B[0mmd_dict\u001B[0m \u001B[0;34m=\u001B[0m \u001B[0mformat\u001B[0m\u001B[0;34m(\u001B[0m\u001B[0mobj\u001B[0m\u001B[0;34m,\u001B[0m \u001B[0minclude\u001B[0m\u001B[0;34m=\u001B[0m\u001B[0minclude\u001B[0m\u001B[0;34m,\u001B[0m \u001B[0mexclude\u001B[0m\u001B[0;34m=\u001B[0m\u001B[0mexclude\u001B[0m\u001B[0;34m)\u001B[0m\u001B[0;34m\u001B[0m\u001B[0;34m\u001B[0m\u001B[0m\n\u001B[0m\u001B[1;32m    314\u001B[0m             \u001B[0;32mif\u001B[0m \u001B[0;32mnot\u001B[0m \u001B[0mformat_dict\u001B[0m\u001B[0;34m:\u001B[0m\u001B[0;34m\u001B[0m\u001B[0;34m\u001B[0m\u001B[0m\n\u001B[1;32m    315\u001B[0m                 \u001B[0;31m# nothing to display (e.g. _ipython_display_ took over)\u001B[0m\u001B[0;34m\u001B[0m\u001B[0;34m\u001B[0m\u001B[0;34m\u001B[0m\u001B[0m\n",
      "\u001B[0;32m~/.local/share/virtualenvs/MachineLearning-p2QxMSww/lib/python3.8/site-packages/IPython/core/formatters.py\u001B[0m in \u001B[0;36mformat\u001B[0;34m(self, obj, include, exclude)\u001B[0m\n\u001B[1;32m    178\u001B[0m             \u001B[0mmd\u001B[0m \u001B[0;34m=\u001B[0m \u001B[0;32mNone\u001B[0m\u001B[0;34m\u001B[0m\u001B[0;34m\u001B[0m\u001B[0m\n\u001B[1;32m    179\u001B[0m             \u001B[0;32mtry\u001B[0m\u001B[0;34m:\u001B[0m\u001B[0;34m\u001B[0m\u001B[0;34m\u001B[0m\u001B[0m\n\u001B[0;32m--> 180\u001B[0;31m                 \u001B[0mdata\u001B[0m \u001B[0;34m=\u001B[0m \u001B[0mformatter\u001B[0m\u001B[0;34m(\u001B[0m\u001B[0mobj\u001B[0m\u001B[0;34m)\u001B[0m\u001B[0;34m\u001B[0m\u001B[0;34m\u001B[0m\u001B[0m\n\u001B[0m\u001B[1;32m    181\u001B[0m             \u001B[0;32mexcept\u001B[0m\u001B[0;34m:\u001B[0m\u001B[0;34m\u001B[0m\u001B[0;34m\u001B[0m\u001B[0m\n\u001B[1;32m    182\u001B[0m                 \u001B[0;31m# FIXME: log the exception\u001B[0m\u001B[0;34m\u001B[0m\u001B[0;34m\u001B[0m\u001B[0;34m\u001B[0m\u001B[0m\n",
      "\u001B[0;32m<decorator-gen-2>\u001B[0m in \u001B[0;36m__call__\u001B[0;34m(self, obj)\u001B[0m\n",
      "\u001B[0;32m~/.local/share/virtualenvs/MachineLearning-p2QxMSww/lib/python3.8/site-packages/IPython/core/formatters.py\u001B[0m in \u001B[0;36mcatch_format_error\u001B[0;34m(method, self, *args, **kwargs)\u001B[0m\n\u001B[1;32m    222\u001B[0m     \u001B[0;34m\"\"\"show traceback on failed format call\"\"\"\u001B[0m\u001B[0;34m\u001B[0m\u001B[0;34m\u001B[0m\u001B[0m\n\u001B[1;32m    223\u001B[0m     \u001B[0;32mtry\u001B[0m\u001B[0;34m:\u001B[0m\u001B[0;34m\u001B[0m\u001B[0;34m\u001B[0m\u001B[0m\n\u001B[0;32m--> 224\u001B[0;31m         \u001B[0mr\u001B[0m \u001B[0;34m=\u001B[0m \u001B[0mmethod\u001B[0m\u001B[0;34m(\u001B[0m\u001B[0mself\u001B[0m\u001B[0;34m,\u001B[0m \u001B[0;34m*\u001B[0m\u001B[0margs\u001B[0m\u001B[0;34m,\u001B[0m \u001B[0;34m**\u001B[0m\u001B[0mkwargs\u001B[0m\u001B[0;34m)\u001B[0m\u001B[0;34m\u001B[0m\u001B[0;34m\u001B[0m\u001B[0m\n\u001B[0m\u001B[1;32m    225\u001B[0m     \u001B[0;32mexcept\u001B[0m \u001B[0mNotImplementedError\u001B[0m\u001B[0;34m:\u001B[0m\u001B[0;34m\u001B[0m\u001B[0;34m\u001B[0m\u001B[0m\n\u001B[1;32m    226\u001B[0m         \u001B[0;31m# don't warn on NotImplementedErrors\u001B[0m\u001B[0;34m\u001B[0m\u001B[0;34m\u001B[0m\u001B[0;34m\u001B[0m\u001B[0m\n",
      "\u001B[0;32m~/.local/share/virtualenvs/MachineLearning-p2QxMSww/lib/python3.8/site-packages/IPython/core/formatters.py\u001B[0m in \u001B[0;36m__call__\u001B[0;34m(self, obj)\u001B[0m\n\u001B[1;32m    339\u001B[0m                 \u001B[0;32mpass\u001B[0m\u001B[0;34m\u001B[0m\u001B[0;34m\u001B[0m\u001B[0m\n\u001B[1;32m    340\u001B[0m             \u001B[0;32melse\u001B[0m\u001B[0;34m:\u001B[0m\u001B[0;34m\u001B[0m\u001B[0;34m\u001B[0m\u001B[0m\n\u001B[0;32m--> 341\u001B[0;31m                 \u001B[0;32mreturn\u001B[0m \u001B[0mprinter\u001B[0m\u001B[0;34m(\u001B[0m\u001B[0mobj\u001B[0m\u001B[0;34m)\u001B[0m\u001B[0;34m\u001B[0m\u001B[0;34m\u001B[0m\u001B[0m\n\u001B[0m\u001B[1;32m    342\u001B[0m             \u001B[0;31m# Finally look for special method names\u001B[0m\u001B[0;34m\u001B[0m\u001B[0;34m\u001B[0m\u001B[0;34m\u001B[0m\u001B[0m\n\u001B[1;32m    343\u001B[0m             \u001B[0mmethod\u001B[0m \u001B[0;34m=\u001B[0m \u001B[0mget_real_method\u001B[0m\u001B[0;34m(\u001B[0m\u001B[0mobj\u001B[0m\u001B[0;34m,\u001B[0m \u001B[0mself\u001B[0m\u001B[0;34m.\u001B[0m\u001B[0mprint_method\u001B[0m\u001B[0;34m)\u001B[0m\u001B[0;34m\u001B[0m\u001B[0;34m\u001B[0m\u001B[0m\n",
      "\u001B[0;32m~/.local/share/virtualenvs/MachineLearning-p2QxMSww/lib/python3.8/site-packages/IPython/core/pylabtools.py\u001B[0m in \u001B[0;36m<lambda>\u001B[0;34m(fig)\u001B[0m\n\u001B[1;32m    246\u001B[0m \u001B[0;34m\u001B[0m\u001B[0m\n\u001B[1;32m    247\u001B[0m     \u001B[0;32mif\u001B[0m \u001B[0;34m'png'\u001B[0m \u001B[0;32min\u001B[0m \u001B[0mformats\u001B[0m\u001B[0;34m:\u001B[0m\u001B[0;34m\u001B[0m\u001B[0;34m\u001B[0m\u001B[0m\n\u001B[0;32m--> 248\u001B[0;31m         \u001B[0mpng_formatter\u001B[0m\u001B[0;34m.\u001B[0m\u001B[0mfor_type\u001B[0m\u001B[0;34m(\u001B[0m\u001B[0mFigure\u001B[0m\u001B[0;34m,\u001B[0m \u001B[0;32mlambda\u001B[0m \u001B[0mfig\u001B[0m\u001B[0;34m:\u001B[0m \u001B[0mprint_figure\u001B[0m\u001B[0;34m(\u001B[0m\u001B[0mfig\u001B[0m\u001B[0;34m,\u001B[0m \u001B[0;34m'png'\u001B[0m\u001B[0;34m,\u001B[0m \u001B[0;34m**\u001B[0m\u001B[0mkwargs\u001B[0m\u001B[0;34m)\u001B[0m\u001B[0;34m)\u001B[0m\u001B[0;34m\u001B[0m\u001B[0;34m\u001B[0m\u001B[0m\n\u001B[0m\u001B[1;32m    249\u001B[0m     \u001B[0;32mif\u001B[0m \u001B[0;34m'retina'\u001B[0m \u001B[0;32min\u001B[0m \u001B[0mformats\u001B[0m \u001B[0;32mor\u001B[0m \u001B[0;34m'png2x'\u001B[0m \u001B[0;32min\u001B[0m \u001B[0mformats\u001B[0m\u001B[0;34m:\u001B[0m\u001B[0;34m\u001B[0m\u001B[0;34m\u001B[0m\u001B[0m\n\u001B[1;32m    250\u001B[0m         \u001B[0mpng_formatter\u001B[0m\u001B[0;34m.\u001B[0m\u001B[0mfor_type\u001B[0m\u001B[0;34m(\u001B[0m\u001B[0mFigure\u001B[0m\u001B[0;34m,\u001B[0m \u001B[0;32mlambda\u001B[0m \u001B[0mfig\u001B[0m\u001B[0;34m:\u001B[0m \u001B[0mretina_figure\u001B[0m\u001B[0;34m(\u001B[0m\u001B[0mfig\u001B[0m\u001B[0;34m,\u001B[0m \u001B[0;34m**\u001B[0m\u001B[0mkwargs\u001B[0m\u001B[0;34m)\u001B[0m\u001B[0;34m)\u001B[0m\u001B[0;34m\u001B[0m\u001B[0;34m\u001B[0m\u001B[0m\n",
      "\u001B[0;32m~/.local/share/virtualenvs/MachineLearning-p2QxMSww/lib/python3.8/site-packages/IPython/core/pylabtools.py\u001B[0m in \u001B[0;36mprint_figure\u001B[0;34m(fig, fmt, bbox_inches, **kwargs)\u001B[0m\n\u001B[1;32m    130\u001B[0m         \u001B[0mFigureCanvasBase\u001B[0m\u001B[0;34m(\u001B[0m\u001B[0mfig\u001B[0m\u001B[0;34m)\u001B[0m\u001B[0;34m\u001B[0m\u001B[0;34m\u001B[0m\u001B[0m\n\u001B[1;32m    131\u001B[0m \u001B[0;34m\u001B[0m\u001B[0m\n\u001B[0;32m--> 132\u001B[0;31m     \u001B[0mfig\u001B[0m\u001B[0;34m.\u001B[0m\u001B[0mcanvas\u001B[0m\u001B[0;34m.\u001B[0m\u001B[0mprint_figure\u001B[0m\u001B[0;34m(\u001B[0m\u001B[0mbytes_io\u001B[0m\u001B[0;34m,\u001B[0m \u001B[0;34m**\u001B[0m\u001B[0mkw\u001B[0m\u001B[0;34m)\u001B[0m\u001B[0;34m\u001B[0m\u001B[0;34m\u001B[0m\u001B[0m\n\u001B[0m\u001B[1;32m    133\u001B[0m     \u001B[0mdata\u001B[0m \u001B[0;34m=\u001B[0m \u001B[0mbytes_io\u001B[0m\u001B[0;34m.\u001B[0m\u001B[0mgetvalue\u001B[0m\u001B[0;34m(\u001B[0m\u001B[0;34m)\u001B[0m\u001B[0;34m\u001B[0m\u001B[0;34m\u001B[0m\u001B[0m\n\u001B[1;32m    134\u001B[0m     \u001B[0;32mif\u001B[0m \u001B[0mfmt\u001B[0m \u001B[0;34m==\u001B[0m \u001B[0;34m'svg'\u001B[0m\u001B[0;34m:\u001B[0m\u001B[0;34m\u001B[0m\u001B[0;34m\u001B[0m\u001B[0m\n",
      "\u001B[0;32m~/.local/share/virtualenvs/MachineLearning-p2QxMSww/lib/python3.8/site-packages/matplotlib/backend_bases.py\u001B[0m in \u001B[0;36mprint_figure\u001B[0;34m(self, filename, dpi, facecolor, edgecolor, orientation, format, bbox_inches, pad_inches, bbox_extra_artists, backend, **kwargs)\u001B[0m\n\u001B[1;32m   2208\u001B[0m \u001B[0;34m\u001B[0m\u001B[0m\n\u001B[1;32m   2209\u001B[0m             \u001B[0;32mtry\u001B[0m\u001B[0;34m:\u001B[0m\u001B[0;34m\u001B[0m\u001B[0;34m\u001B[0m\u001B[0m\n\u001B[0;32m-> 2210\u001B[0;31m                 result = print_method(\n\u001B[0m\u001B[1;32m   2211\u001B[0m                     \u001B[0mfilename\u001B[0m\u001B[0;34m,\u001B[0m\u001B[0;34m\u001B[0m\u001B[0;34m\u001B[0m\u001B[0m\n\u001B[1;32m   2212\u001B[0m                     \u001B[0mdpi\u001B[0m\u001B[0;34m=\u001B[0m\u001B[0mdpi\u001B[0m\u001B[0;34m,\u001B[0m\u001B[0;34m\u001B[0m\u001B[0;34m\u001B[0m\u001B[0m\n",
      "\u001B[0;32m~/.local/share/virtualenvs/MachineLearning-p2QxMSww/lib/python3.8/site-packages/matplotlib/backend_bases.py\u001B[0m in \u001B[0;36mwrapper\u001B[0;34m(*args, **kwargs)\u001B[0m\n\u001B[1;32m   1637\u001B[0m             \u001B[0mkwargs\u001B[0m\u001B[0;34m.\u001B[0m\u001B[0mpop\u001B[0m\u001B[0;34m(\u001B[0m\u001B[0marg\u001B[0m\u001B[0;34m)\u001B[0m\u001B[0;34m\u001B[0m\u001B[0;34m\u001B[0m\u001B[0m\n\u001B[1;32m   1638\u001B[0m \u001B[0;34m\u001B[0m\u001B[0m\n\u001B[0;32m-> 1639\u001B[0;31m         \u001B[0;32mreturn\u001B[0m \u001B[0mfunc\u001B[0m\u001B[0;34m(\u001B[0m\u001B[0;34m*\u001B[0m\u001B[0margs\u001B[0m\u001B[0;34m,\u001B[0m \u001B[0;34m**\u001B[0m\u001B[0mkwargs\u001B[0m\u001B[0;34m)\u001B[0m\u001B[0;34m\u001B[0m\u001B[0;34m\u001B[0m\u001B[0m\n\u001B[0m\u001B[1;32m   1640\u001B[0m \u001B[0;34m\u001B[0m\u001B[0m\n\u001B[1;32m   1641\u001B[0m     \u001B[0;32mreturn\u001B[0m \u001B[0mwrapper\u001B[0m\u001B[0;34m\u001B[0m\u001B[0;34m\u001B[0m\u001B[0m\n",
      "\u001B[0;32m~/.local/share/virtualenvs/MachineLearning-p2QxMSww/lib/python3.8/site-packages/matplotlib/backends/backend_agg.py\u001B[0m in \u001B[0;36mprint_png\u001B[0;34m(self, filename_or_obj, metadata, pil_kwargs, *args)\u001B[0m\n\u001B[1;32m    507\u001B[0m             \u001B[0;34m*\u001B[0m\u001B[0mmetadata\u001B[0m\u001B[0;34m*\u001B[0m\u001B[0;34m,\u001B[0m \u001B[0mincluding\u001B[0m \u001B[0mthe\u001B[0m \u001B[0mdefault\u001B[0m \u001B[0;34m'Software'\u001B[0m \u001B[0mkey\u001B[0m\u001B[0;34m.\u001B[0m\u001B[0;34m\u001B[0m\u001B[0;34m\u001B[0m\u001B[0m\n\u001B[1;32m    508\u001B[0m         \"\"\"\n\u001B[0;32m--> 509\u001B[0;31m         \u001B[0mFigureCanvasAgg\u001B[0m\u001B[0;34m.\u001B[0m\u001B[0mdraw\u001B[0m\u001B[0;34m(\u001B[0m\u001B[0mself\u001B[0m\u001B[0;34m)\u001B[0m\u001B[0;34m\u001B[0m\u001B[0;34m\u001B[0m\u001B[0m\n\u001B[0m\u001B[1;32m    510\u001B[0m         mpl.image.imsave(\n\u001B[1;32m    511\u001B[0m             \u001B[0mfilename_or_obj\u001B[0m\u001B[0;34m,\u001B[0m \u001B[0mself\u001B[0m\u001B[0;34m.\u001B[0m\u001B[0mbuffer_rgba\u001B[0m\u001B[0;34m(\u001B[0m\u001B[0;34m)\u001B[0m\u001B[0;34m,\u001B[0m \u001B[0mformat\u001B[0m\u001B[0;34m=\u001B[0m\u001B[0;34m\"png\"\u001B[0m\u001B[0;34m,\u001B[0m \u001B[0morigin\u001B[0m\u001B[0;34m=\u001B[0m\u001B[0;34m\"upper\"\u001B[0m\u001B[0;34m,\u001B[0m\u001B[0;34m\u001B[0m\u001B[0;34m\u001B[0m\u001B[0m\n",
      "\u001B[0;32m~/.local/share/virtualenvs/MachineLearning-p2QxMSww/lib/python3.8/site-packages/matplotlib/backends/backend_agg.py\u001B[0m in \u001B[0;36mdraw\u001B[0;34m(self)\u001B[0m\n\u001B[1;32m    405\u001B[0m              (self.toolbar._wait_cursor_for_draw_cm() if self.toolbar\n\u001B[1;32m    406\u001B[0m               else nullcontext()):\n\u001B[0;32m--> 407\u001B[0;31m             \u001B[0mself\u001B[0m\u001B[0;34m.\u001B[0m\u001B[0mfigure\u001B[0m\u001B[0;34m.\u001B[0m\u001B[0mdraw\u001B[0m\u001B[0;34m(\u001B[0m\u001B[0mself\u001B[0m\u001B[0;34m.\u001B[0m\u001B[0mrenderer\u001B[0m\u001B[0;34m)\u001B[0m\u001B[0;34m\u001B[0m\u001B[0;34m\u001B[0m\u001B[0m\n\u001B[0m\u001B[1;32m    408\u001B[0m             \u001B[0;31m# A GUI class may be need to update a window using this draw, so\u001B[0m\u001B[0;34m\u001B[0m\u001B[0;34m\u001B[0m\u001B[0;34m\u001B[0m\u001B[0m\n\u001B[1;32m    409\u001B[0m             \u001B[0;31m# don't forget to call the superclass.\u001B[0m\u001B[0;34m\u001B[0m\u001B[0;34m\u001B[0m\u001B[0;34m\u001B[0m\u001B[0m\n",
      "\u001B[0;32m~/.local/share/virtualenvs/MachineLearning-p2QxMSww/lib/python3.8/site-packages/matplotlib/artist.py\u001B[0m in \u001B[0;36mdraw_wrapper\u001B[0;34m(artist, renderer, *args, **kwargs)\u001B[0m\n\u001B[1;32m     39\u001B[0m                 \u001B[0mrenderer\u001B[0m\u001B[0;34m.\u001B[0m\u001B[0mstart_filter\u001B[0m\u001B[0;34m(\u001B[0m\u001B[0;34m)\u001B[0m\u001B[0;34m\u001B[0m\u001B[0;34m\u001B[0m\u001B[0m\n\u001B[1;32m     40\u001B[0m \u001B[0;34m\u001B[0m\u001B[0m\n\u001B[0;32m---> 41\u001B[0;31m             \u001B[0;32mreturn\u001B[0m \u001B[0mdraw\u001B[0m\u001B[0;34m(\u001B[0m\u001B[0martist\u001B[0m\u001B[0;34m,\u001B[0m \u001B[0mrenderer\u001B[0m\u001B[0;34m,\u001B[0m \u001B[0;34m*\u001B[0m\u001B[0margs\u001B[0m\u001B[0;34m,\u001B[0m \u001B[0;34m**\u001B[0m\u001B[0mkwargs\u001B[0m\u001B[0;34m)\u001B[0m\u001B[0;34m\u001B[0m\u001B[0;34m\u001B[0m\u001B[0m\n\u001B[0m\u001B[1;32m     42\u001B[0m         \u001B[0;32mfinally\u001B[0m\u001B[0;34m:\u001B[0m\u001B[0;34m\u001B[0m\u001B[0;34m\u001B[0m\u001B[0m\n\u001B[1;32m     43\u001B[0m             \u001B[0;32mif\u001B[0m \u001B[0martist\u001B[0m\u001B[0;34m.\u001B[0m\u001B[0mget_agg_filter\u001B[0m\u001B[0;34m(\u001B[0m\u001B[0;34m)\u001B[0m \u001B[0;32mis\u001B[0m \u001B[0;32mnot\u001B[0m \u001B[0;32mNone\u001B[0m\u001B[0;34m:\u001B[0m\u001B[0;34m\u001B[0m\u001B[0;34m\u001B[0m\u001B[0m\n",
      "\u001B[0;32m~/.local/share/virtualenvs/MachineLearning-p2QxMSww/lib/python3.8/site-packages/matplotlib/figure.py\u001B[0m in \u001B[0;36mdraw\u001B[0;34m(self, renderer)\u001B[0m\n\u001B[1;32m   1861\u001B[0m \u001B[0;34m\u001B[0m\u001B[0m\n\u001B[1;32m   1862\u001B[0m             \u001B[0mself\u001B[0m\u001B[0;34m.\u001B[0m\u001B[0mpatch\u001B[0m\u001B[0;34m.\u001B[0m\u001B[0mdraw\u001B[0m\u001B[0;34m(\u001B[0m\u001B[0mrenderer\u001B[0m\u001B[0;34m)\u001B[0m\u001B[0;34m\u001B[0m\u001B[0;34m\u001B[0m\u001B[0m\n\u001B[0;32m-> 1863\u001B[0;31m             mimage._draw_list_compositing_images(\n\u001B[0m\u001B[1;32m   1864\u001B[0m                 renderer, self, artists, self.suppressComposite)\n\u001B[1;32m   1865\u001B[0m \u001B[0;34m\u001B[0m\u001B[0m\n",
      "\u001B[0;32m~/.local/share/virtualenvs/MachineLearning-p2QxMSww/lib/python3.8/site-packages/matplotlib/image.py\u001B[0m in \u001B[0;36m_draw_list_compositing_images\u001B[0;34m(renderer, parent, artists, suppress_composite)\u001B[0m\n\u001B[1;32m    129\u001B[0m     \u001B[0;32mif\u001B[0m \u001B[0mnot_composite\u001B[0m \u001B[0;32mor\u001B[0m \u001B[0;32mnot\u001B[0m \u001B[0mhas_images\u001B[0m\u001B[0;34m:\u001B[0m\u001B[0;34m\u001B[0m\u001B[0;34m\u001B[0m\u001B[0m\n\u001B[1;32m    130\u001B[0m         \u001B[0;32mfor\u001B[0m \u001B[0ma\u001B[0m \u001B[0;32min\u001B[0m \u001B[0martists\u001B[0m\u001B[0;34m:\u001B[0m\u001B[0;34m\u001B[0m\u001B[0;34m\u001B[0m\u001B[0m\n\u001B[0;32m--> 131\u001B[0;31m             \u001B[0ma\u001B[0m\u001B[0;34m.\u001B[0m\u001B[0mdraw\u001B[0m\u001B[0;34m(\u001B[0m\u001B[0mrenderer\u001B[0m\u001B[0;34m)\u001B[0m\u001B[0;34m\u001B[0m\u001B[0;34m\u001B[0m\u001B[0m\n\u001B[0m\u001B[1;32m    132\u001B[0m     \u001B[0;32melse\u001B[0m\u001B[0;34m:\u001B[0m\u001B[0;34m\u001B[0m\u001B[0;34m\u001B[0m\u001B[0m\n\u001B[1;32m    133\u001B[0m         \u001B[0;31m# Composite any adjacent images together\u001B[0m\u001B[0;34m\u001B[0m\u001B[0;34m\u001B[0m\u001B[0;34m\u001B[0m\u001B[0m\n",
      "\u001B[0;32m~/.local/share/virtualenvs/MachineLearning-p2QxMSww/lib/python3.8/site-packages/matplotlib/artist.py\u001B[0m in \u001B[0;36mdraw_wrapper\u001B[0;34m(artist, renderer, *args, **kwargs)\u001B[0m\n\u001B[1;32m     39\u001B[0m                 \u001B[0mrenderer\u001B[0m\u001B[0;34m.\u001B[0m\u001B[0mstart_filter\u001B[0m\u001B[0;34m(\u001B[0m\u001B[0;34m)\u001B[0m\u001B[0;34m\u001B[0m\u001B[0;34m\u001B[0m\u001B[0m\n\u001B[1;32m     40\u001B[0m \u001B[0;34m\u001B[0m\u001B[0m\n\u001B[0;32m---> 41\u001B[0;31m             \u001B[0;32mreturn\u001B[0m \u001B[0mdraw\u001B[0m\u001B[0;34m(\u001B[0m\u001B[0martist\u001B[0m\u001B[0;34m,\u001B[0m \u001B[0mrenderer\u001B[0m\u001B[0;34m,\u001B[0m \u001B[0;34m*\u001B[0m\u001B[0margs\u001B[0m\u001B[0;34m,\u001B[0m \u001B[0;34m**\u001B[0m\u001B[0mkwargs\u001B[0m\u001B[0;34m)\u001B[0m\u001B[0;34m\u001B[0m\u001B[0;34m\u001B[0m\u001B[0m\n\u001B[0m\u001B[1;32m     42\u001B[0m         \u001B[0;32mfinally\u001B[0m\u001B[0;34m:\u001B[0m\u001B[0;34m\u001B[0m\u001B[0;34m\u001B[0m\u001B[0m\n\u001B[1;32m     43\u001B[0m             \u001B[0;32mif\u001B[0m \u001B[0martist\u001B[0m\u001B[0;34m.\u001B[0m\u001B[0mget_agg_filter\u001B[0m\u001B[0;34m(\u001B[0m\u001B[0;34m)\u001B[0m \u001B[0;32mis\u001B[0m \u001B[0;32mnot\u001B[0m \u001B[0;32mNone\u001B[0m\u001B[0;34m:\u001B[0m\u001B[0;34m\u001B[0m\u001B[0;34m\u001B[0m\u001B[0m\n",
      "\u001B[0;32m~/.local/share/virtualenvs/MachineLearning-p2QxMSww/lib/python3.8/site-packages/matplotlib/cbook/deprecation.py\u001B[0m in \u001B[0;36mwrapper\u001B[0;34m(*inner_args, **inner_kwargs)\u001B[0m\n\u001B[1;32m    409\u001B[0m                          \u001B[0;32melse\u001B[0m \u001B[0mdeprecation_addendum\u001B[0m\u001B[0;34m,\u001B[0m\u001B[0;34m\u001B[0m\u001B[0;34m\u001B[0m\u001B[0m\n\u001B[1;32m    410\u001B[0m                 **kwargs)\n\u001B[0;32m--> 411\u001B[0;31m         \u001B[0;32mreturn\u001B[0m \u001B[0mfunc\u001B[0m\u001B[0;34m(\u001B[0m\u001B[0;34m*\u001B[0m\u001B[0minner_args\u001B[0m\u001B[0;34m,\u001B[0m \u001B[0;34m**\u001B[0m\u001B[0minner_kwargs\u001B[0m\u001B[0;34m)\u001B[0m\u001B[0;34m\u001B[0m\u001B[0;34m\u001B[0m\u001B[0m\n\u001B[0m\u001B[1;32m    412\u001B[0m \u001B[0;34m\u001B[0m\u001B[0m\n\u001B[1;32m    413\u001B[0m     \u001B[0;32mreturn\u001B[0m \u001B[0mwrapper\u001B[0m\u001B[0;34m\u001B[0m\u001B[0;34m\u001B[0m\u001B[0m\n",
      "\u001B[0;32m~/.local/share/virtualenvs/MachineLearning-p2QxMSww/lib/python3.8/site-packages/matplotlib/axes/_base.py\u001B[0m in \u001B[0;36mdraw\u001B[0;34m(self, renderer, inframe)\u001B[0m\n\u001B[1;32m   2706\u001B[0m                 \u001B[0martists\u001B[0m\u001B[0;34m.\u001B[0m\u001B[0mremove\u001B[0m\u001B[0;34m(\u001B[0m\u001B[0mspine\u001B[0m\u001B[0;34m)\u001B[0m\u001B[0;34m\u001B[0m\u001B[0;34m\u001B[0m\u001B[0m\n\u001B[1;32m   2707\u001B[0m \u001B[0;34m\u001B[0m\u001B[0m\n\u001B[0;32m-> 2708\u001B[0;31m         \u001B[0mself\u001B[0m\u001B[0;34m.\u001B[0m\u001B[0m_update_title_position\u001B[0m\u001B[0;34m(\u001B[0m\u001B[0mrenderer\u001B[0m\u001B[0;34m)\u001B[0m\u001B[0;34m\u001B[0m\u001B[0;34m\u001B[0m\u001B[0m\n\u001B[0m\u001B[1;32m   2709\u001B[0m \u001B[0;34m\u001B[0m\u001B[0m\n\u001B[1;32m   2710\u001B[0m         \u001B[0;32mif\u001B[0m \u001B[0;32mnot\u001B[0m \u001B[0mself\u001B[0m\u001B[0;34m.\u001B[0m\u001B[0maxison\u001B[0m \u001B[0;32mor\u001B[0m \u001B[0minframe\u001B[0m\u001B[0;34m:\u001B[0m\u001B[0;34m\u001B[0m\u001B[0;34m\u001B[0m\u001B[0m\n",
      "\u001B[0;32m~/.local/share/virtualenvs/MachineLearning-p2QxMSww/lib/python3.8/site-packages/matplotlib/axes/_base.py\u001B[0m in \u001B[0;36m_update_title_position\u001B[0;34m(self, renderer)\u001B[0m\n\u001B[1;32m   2647\u001B[0m                 \u001B[0;32mif\u001B[0m \u001B[0mbb\u001B[0m \u001B[0;32mis\u001B[0m \u001B[0;32mnot\u001B[0m \u001B[0;32mNone\u001B[0m\u001B[0;34m:\u001B[0m\u001B[0;34m\u001B[0m\u001B[0;34m\u001B[0m\u001B[0m\n\u001B[1;32m   2648\u001B[0m                     \u001B[0mtop\u001B[0m \u001B[0;34m=\u001B[0m \u001B[0mmax\u001B[0m\u001B[0;34m(\u001B[0m\u001B[0mtop\u001B[0m\u001B[0;34m,\u001B[0m \u001B[0mbb\u001B[0m\u001B[0;34m.\u001B[0m\u001B[0mymax\u001B[0m\u001B[0;34m)\u001B[0m\u001B[0;34m\u001B[0m\u001B[0;34m\u001B[0m\u001B[0m\n\u001B[0;32m-> 2649\u001B[0;31m             \u001B[0;32mif\u001B[0m \u001B[0mtitle\u001B[0m\u001B[0;34m.\u001B[0m\u001B[0mget_window_extent\u001B[0m\u001B[0;34m(\u001B[0m\u001B[0mrenderer\u001B[0m\u001B[0;34m)\u001B[0m\u001B[0;34m.\u001B[0m\u001B[0mymin\u001B[0m \u001B[0;34m<\u001B[0m \u001B[0mtop\u001B[0m\u001B[0;34m:\u001B[0m\u001B[0;34m\u001B[0m\u001B[0;34m\u001B[0m\u001B[0m\n\u001B[0m\u001B[1;32m   2650\u001B[0m                 \u001B[0m_\u001B[0m\u001B[0;34m,\u001B[0m \u001B[0my\u001B[0m \u001B[0;34m=\u001B[0m \u001B[0mself\u001B[0m\u001B[0;34m.\u001B[0m\u001B[0mtransAxes\u001B[0m\u001B[0;34m.\u001B[0m\u001B[0minverted\u001B[0m\u001B[0;34m(\u001B[0m\u001B[0;34m)\u001B[0m\u001B[0;34m.\u001B[0m\u001B[0mtransform\u001B[0m\u001B[0;34m(\u001B[0m\u001B[0;34m(\u001B[0m\u001B[0;36m0\u001B[0m\u001B[0;34m,\u001B[0m \u001B[0mtop\u001B[0m\u001B[0;34m)\u001B[0m\u001B[0;34m)\u001B[0m\u001B[0;34m\u001B[0m\u001B[0;34m\u001B[0m\u001B[0m\n\u001B[1;32m   2651\u001B[0m                 \u001B[0mtitle\u001B[0m\u001B[0;34m.\u001B[0m\u001B[0mset_position\u001B[0m\u001B[0;34m(\u001B[0m\u001B[0;34m(\u001B[0m\u001B[0mx\u001B[0m\u001B[0;34m,\u001B[0m \u001B[0my\u001B[0m\u001B[0;34m)\u001B[0m\u001B[0;34m)\u001B[0m\u001B[0;34m\u001B[0m\u001B[0;34m\u001B[0m\u001B[0m\n",
      "\u001B[0;32m~/.local/share/virtualenvs/MachineLearning-p2QxMSww/lib/python3.8/site-packages/matplotlib/text.py\u001B[0m in \u001B[0;36mget_window_extent\u001B[0;34m(self, renderer, dpi)\u001B[0m\n\u001B[1;32m    898\u001B[0m \u001B[0;34m\u001B[0m\u001B[0m\n\u001B[1;32m    899\u001B[0m         \u001B[0;32mwith\u001B[0m \u001B[0mcbook\u001B[0m\u001B[0;34m.\u001B[0m\u001B[0m_setattr_cm\u001B[0m\u001B[0;34m(\u001B[0m\u001B[0mself\u001B[0m\u001B[0;34m.\u001B[0m\u001B[0mfigure\u001B[0m\u001B[0;34m,\u001B[0m \u001B[0mdpi\u001B[0m\u001B[0;34m=\u001B[0m\u001B[0mdpi\u001B[0m\u001B[0;34m)\u001B[0m\u001B[0;34m:\u001B[0m\u001B[0;34m\u001B[0m\u001B[0;34m\u001B[0m\u001B[0m\n\u001B[0;32m--> 900\u001B[0;31m             \u001B[0mbbox\u001B[0m\u001B[0;34m,\u001B[0m \u001B[0minfo\u001B[0m\u001B[0;34m,\u001B[0m \u001B[0mdescent\u001B[0m \u001B[0;34m=\u001B[0m \u001B[0mself\u001B[0m\u001B[0;34m.\u001B[0m\u001B[0m_get_layout\u001B[0m\u001B[0;34m(\u001B[0m\u001B[0mself\u001B[0m\u001B[0;34m.\u001B[0m\u001B[0m_renderer\u001B[0m\u001B[0;34m)\u001B[0m\u001B[0;34m\u001B[0m\u001B[0;34m\u001B[0m\u001B[0m\n\u001B[0m\u001B[1;32m    901\u001B[0m             \u001B[0mx\u001B[0m\u001B[0;34m,\u001B[0m \u001B[0my\u001B[0m \u001B[0;34m=\u001B[0m \u001B[0mself\u001B[0m\u001B[0;34m.\u001B[0m\u001B[0mget_unitless_position\u001B[0m\u001B[0;34m(\u001B[0m\u001B[0;34m)\u001B[0m\u001B[0;34m\u001B[0m\u001B[0;34m\u001B[0m\u001B[0m\n\u001B[1;32m    902\u001B[0m             \u001B[0mx\u001B[0m\u001B[0;34m,\u001B[0m \u001B[0my\u001B[0m \u001B[0;34m=\u001B[0m \u001B[0mself\u001B[0m\u001B[0;34m.\u001B[0m\u001B[0mget_transform\u001B[0m\u001B[0;34m(\u001B[0m\u001B[0;34m)\u001B[0m\u001B[0;34m.\u001B[0m\u001B[0mtransform\u001B[0m\u001B[0;34m(\u001B[0m\u001B[0;34m(\u001B[0m\u001B[0mx\u001B[0m\u001B[0;34m,\u001B[0m \u001B[0my\u001B[0m\u001B[0;34m)\u001B[0m\u001B[0;34m)\u001B[0m\u001B[0;34m\u001B[0m\u001B[0;34m\u001B[0m\u001B[0m\n",
      "\u001B[0;32m~/.local/share/virtualenvs/MachineLearning-p2QxMSww/lib/python3.8/site-packages/matplotlib/text.py\u001B[0m in \u001B[0;36m_get_layout\u001B[0;34m(self, renderer)\u001B[0m\n\u001B[1;32m    291\u001B[0m             \u001B[0mclean_line\u001B[0m\u001B[0;34m,\u001B[0m \u001B[0mismath\u001B[0m \u001B[0;34m=\u001B[0m \u001B[0mself\u001B[0m\u001B[0;34m.\u001B[0m\u001B[0m_preprocess_math\u001B[0m\u001B[0;34m(\u001B[0m\u001B[0mline\u001B[0m\u001B[0;34m)\u001B[0m\u001B[0;34m\u001B[0m\u001B[0;34m\u001B[0m\u001B[0m\n\u001B[1;32m    292\u001B[0m             \u001B[0;32mif\u001B[0m \u001B[0mclean_line\u001B[0m\u001B[0;34m:\u001B[0m\u001B[0;34m\u001B[0m\u001B[0;34m\u001B[0m\u001B[0m\n\u001B[0;32m--> 293\u001B[0;31m                 w, h, d = renderer.get_text_width_height_descent(\n\u001B[0m\u001B[1;32m    294\u001B[0m                     clean_line, self._fontproperties, ismath=ismath)\n\u001B[1;32m    295\u001B[0m             \u001B[0;32melse\u001B[0m\u001B[0;34m:\u001B[0m\u001B[0;34m\u001B[0m\u001B[0;34m\u001B[0m\u001B[0m\n",
      "\u001B[0;32m~/.local/share/virtualenvs/MachineLearning-p2QxMSww/lib/python3.8/site-packages/matplotlib/backends/backend_agg.py\u001B[0m in \u001B[0;36mget_text_width_height_descent\u001B[0;34m(self, s, prop, ismath)\u001B[0m\n\u001B[1;32m    236\u001B[0m         \u001B[0mflags\u001B[0m \u001B[0;34m=\u001B[0m \u001B[0mget_hinting_flag\u001B[0m\u001B[0;34m(\u001B[0m\u001B[0;34m)\u001B[0m\u001B[0;34m\u001B[0m\u001B[0;34m\u001B[0m\u001B[0m\n\u001B[1;32m    237\u001B[0m         \u001B[0mfont\u001B[0m \u001B[0;34m=\u001B[0m \u001B[0mself\u001B[0m\u001B[0;34m.\u001B[0m\u001B[0m_get_agg_font\u001B[0m\u001B[0;34m(\u001B[0m\u001B[0mprop\u001B[0m\u001B[0;34m)\u001B[0m\u001B[0;34m\u001B[0m\u001B[0;34m\u001B[0m\u001B[0m\n\u001B[0;32m--> 238\u001B[0;31m         \u001B[0mfont\u001B[0m\u001B[0;34m.\u001B[0m\u001B[0mset_text\u001B[0m\u001B[0;34m(\u001B[0m\u001B[0ms\u001B[0m\u001B[0;34m,\u001B[0m \u001B[0;36m0.0\u001B[0m\u001B[0;34m,\u001B[0m \u001B[0mflags\u001B[0m\u001B[0;34m=\u001B[0m\u001B[0mflags\u001B[0m\u001B[0;34m)\u001B[0m\u001B[0;34m\u001B[0m\u001B[0;34m\u001B[0m\u001B[0m\n\u001B[0m\u001B[1;32m    239\u001B[0m         \u001B[0mw\u001B[0m\u001B[0;34m,\u001B[0m \u001B[0mh\u001B[0m \u001B[0;34m=\u001B[0m \u001B[0mfont\u001B[0m\u001B[0;34m.\u001B[0m\u001B[0mget_width_height\u001B[0m\u001B[0;34m(\u001B[0m\u001B[0;34m)\u001B[0m  \u001B[0;31m# width and height of unrotated string\u001B[0m\u001B[0;34m\u001B[0m\u001B[0;34m\u001B[0m\u001B[0m\n\u001B[1;32m    240\u001B[0m         \u001B[0md\u001B[0m \u001B[0;34m=\u001B[0m \u001B[0mfont\u001B[0m\u001B[0;34m.\u001B[0m\u001B[0mget_descent\u001B[0m\u001B[0;34m(\u001B[0m\u001B[0;34m)\u001B[0m\u001B[0;34m\u001B[0m\u001B[0;34m\u001B[0m\u001B[0m\n",
      "\u001B[0;31mKeyboardInterrupt\u001B[0m: "
     ]
    }
   ],
   "source": [
    "plt.subplots(figsize=(15,6))\n",
    "sns.countplot('Region', data=terrorism,order=terrorism['Region'].value_counts().index, palette=\"rocket\")\n",
    "plt.xticks(rotation=90)\n",
    "plt.title('Nombre d\\'attaques par région')\n",
    "plt.show()"
   ],
   "metadata": {
    "collapsed": false,
    "pycharm": {
     "name": "#%%\n"
    }
   }
  },
  {
   "cell_type": "markdown",
   "source": [
    "---\n",
    "## Evolution dans le temps des attaques par région"
   ],
   "metadata": {
    "collapsed": false
   }
  },
  {
   "cell_type": "code",
   "execution_count": null,
   "outputs": [],
   "source": [
    "terror_region=pd.crosstab(terrorism.Year, terrorism.Region)\n",
    "terror_region.plot()\n",
    "fig=plt.gcf()\n",
    "fig.set_size_inches(18,6)\n",
    "plt.show()"
   ],
   "metadata": {
    "collapsed": false,
    "pycharm": {
     "name": "#%%\n"
    }
   }
  },
  {
   "cell_type": "markdown",
   "source": [
    "---\n",
    "## Visualisation du nombre d'attaques par pays"
   ],
   "metadata": {
    "collapsed": false
   }
  },
  {
   "cell_type": "code",
   "execution_count": null,
   "outputs": [],
   "source": [
    "plt.subplots(figsize=(18,6))\n",
    "sns.barplot(terrorism['Country'].value_counts()[:15].index,terrorism['Country'].value_counts()[:15].values, palette=\"rocket\")\n",
    "plt.title('Nombre d\\'attaques par pays')\n",
    "plt.show()"
   ],
   "metadata": {
    "collapsed": false,
    "pycharm": {
     "name": "#%%\n",
     "is_executing": true
    }
   }
  },
  {
   "cell_type": "markdown",
   "source": [
    "---\n",
    "## Comparaison du nombre d'attaques et de morts par pays"
   ],
   "metadata": {
    "collapsed": false
   }
  },
  {
   "cell_type": "code",
   "execution_count": null,
   "outputs": [],
   "source": [
    "coun_terror=terrorism['Country'].value_counts()[:15].to_frame()\n",
    "coun_terror.columns=['Attacks']\n",
    "coun_kill=terrorism.groupby('Country')['Killed'].sum().to_frame()\n",
    "coun_terror.merge(coun_kill,left_index=True,right_index=True,how='left').plot.bar(width=0.9)\n",
    "fig=plt.gcf()\n",
    "fig.set_size_inches(18,6)\n",
    "plt.show()"
   ],
   "metadata": {
    "collapsed": false,
    "pycharm": {
     "name": "#%%\n",
     "is_executing": true
    }
   }
  },
  {
   "cell_type": "markdown",
   "source": [
    "---\n",
    "## Nombre d'attaques par groupe terroriste"
   ],
   "metadata": {
    "collapsed": false
   }
  },
  {
   "cell_type": "code",
   "execution_count": null,
   "outputs": [],
   "source": [
    "sns.barplot(y=terrorism['Group'].value_counts()[1:15].values,x=terrorism['Group'].value_counts()[1:15].index, palette=\"rocket\")\n",
    "plt.xticks(rotation=90)\n",
    "fig=plt.gcf()\n",
    "fig.set_size_inches(10,8)\n",
    "plt.title('Les groupes terroristes les plus actifs')\n",
    "plt.show()"
   ],
   "metadata": {
    "collapsed": false,
    "pycharm": {
     "name": "#%%\n",
     "is_executing": true
    }
   }
  },
  {
   "cell_type": "markdown",
   "source": [
    "---\n",
    "## Evolution de l'acitivté terroriste par groupe"
   ],
   "metadata": {
    "collapsed": false
   }
  },
  {
   "cell_type": "code",
   "execution_count": null,
   "outputs": [],
   "source": [
    "top_groups10=terrorism[terrorism['Group'].isin(terrorism['Group'].value_counts()[1:11].index)]\n",
    "pd.crosstab(top_groups10.Year,top_groups10.Group).plot(color=sns.color_palette('Paired',10))\n",
    "fig=plt.gcf()\n",
    "fig.set_size_inches(18,6)\n",
    "plt.show()"
   ],
   "metadata": {
    "collapsed": false,
    "pycharm": {
     "name": "#%%\n",
     "is_executing": true
    }
   }
  },
  {
   "cell_type": "markdown",
   "source": [
    "---\n",
    "## Visualisation de la heatmap de corrélation"
   ],
   "metadata": {
    "collapsed": false
   }
  },
  {
   "cell_type": "code",
   "execution_count": null,
   "outputs": [],
   "source": [
    "corrTerr = terrorism.corr()"
   ],
   "metadata": {
    "collapsed": false,
    "pycharm": {
     "name": "#%%\n",
     "is_executing": true
    }
   }
  },
  {
   "cell_type": "code",
   "execution_count": null,
   "outputs": [],
   "source": [
    "sns.heatmap(corrTerr)"
   ],
   "metadata": {
    "collapsed": false,
    "pycharm": {
     "name": "#%%\n",
     "is_executing": true
    }
   }
  },
  {
   "cell_type": "markdown",
   "source": [],
   "metadata": {
    "collapsed": false
   }
  },
  {
   "cell_type": "code",
   "execution_count": null,
   "outputs": [],
   "source": [
    "sns.catplot(y=terrorism['Weapon_type'], x=terrorism['Killed'], kind=\"box\", data=terrorism)\n",
    "# plt.xticks(rotation=90)"
   ],
   "metadata": {
    "collapsed": false,
    "pycharm": {
     "name": "#%%\n",
     "is_executing": true
    }
   }
  },
  {
   "cell_type": "code",
   "execution_count": null,
   "outputs": [],
   "source": [
    "sns.catplot(y=terrorism['nperps'], x=terrorism['success'], data=terrorism)"
   ],
   "metadata": {
    "collapsed": false,
    "pycharm": {
     "name": "#%%\n",
     "is_executing": true
    }
   }
  },
  {
   "cell_type": "code",
   "execution_count": null,
   "outputs": [],
   "source": [
    "sns.catplot(y=terrorism['suicide'], x=terrorism['success'], kind=\"box\", data=terrorism)"
   ],
   "metadata": {
    "collapsed": false,
    "pycharm": {
     "name": "#%%\n",
     "is_executing": true
    }
   }
  }
 ],
 "metadata": {
  "kernelspec": {
   "display_name": "Python 3",
   "language": "python",
   "name": "python3"
  },
  "language_info": {
   "codemirror_mode": {
    "name": "ipython",
    "version": 2
   },
   "file_extension": ".py",
   "mimetype": "text/x-python",
   "name": "python",
   "nbconvert_exporter": "python",
   "pygments_lexer": "ipython2",
   "version": "2.7.6"
  }
 },
 "nbformat": 4,
 "nbformat_minor": 0
}