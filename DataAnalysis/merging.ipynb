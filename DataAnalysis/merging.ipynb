{
 "cells": [
  {
   "cell_type": "markdown",
   "metadata": {
    "collapsed": true,
    "pycharm": {
     "name": "#%% md\n"
    }
   },
   "source": [
    "# Merging Data avec Pandas"
   ]
  },
  {
   "cell_type": "code",
   "execution_count": 2,
   "outputs": [],
   "source": [
    "import seaborn as sn\n",
    "import pandas as pd\n",
    "import numpy as np\n",
    "import streamlit as sl\n",
    "import folium as fl"
   ],
   "metadata": {
    "collapsed": false,
    "pycharm": {
     "name": "#%%\n"
    }
   }
  },
  {
   "cell_type": "markdown",
   "source": [
    "## Importer les dataset"
   ],
   "metadata": {
    "collapsed": false
   }
  },
  {
   "cell_type": "code",
   "execution_count": 3,
   "outputs": [],
   "source": [
    "csv_path = \"/home/vincent/Hitema/Cours/Machine Learning/\"\n",
    "user_device = pd.read_csv(csv_path + \"user_device.csv\")\n",
    "user_usage = pd.read_csv(csv_path + \"user_usage.csv\")\n",
    "android_devices = pd.read_csv(csv_path + \"android_devices.csv\")"
   ],
   "metadata": {
    "collapsed": false,
    "pycharm": {
     "name": "#%%\n"
    }
   }
  },
  {
   "cell_type": "markdown",
   "source": [
    "## Infos des datasets"
   ],
   "metadata": {
    "collapsed": false,
    "pycharm": {
     "name": "#%% md\n"
    }
   }
  },
  {
   "cell_type": "code",
   "execution_count": 4,
   "outputs": [
    {
     "name": "stdout",
     "output_type": "stream",
     "text": [
      "<class 'pandas.core.frame.DataFrame'>\n",
      "RangeIndex: 272 entries, 0 to 271\n",
      "Data columns (total 6 columns):\n",
      " #   Column            Non-Null Count  Dtype  \n",
      "---  ------            --------------  -----  \n",
      " 0   use_id            272 non-null    int64  \n",
      " 1   user_id           272 non-null    int64  \n",
      " 2   platform          272 non-null    object \n",
      " 3   platform_version  272 non-null    float64\n",
      " 4   device            272 non-null    object \n",
      " 5   use_type_id       272 non-null    int64  \n",
      "dtypes: float64(1), int64(3), object(2)\n",
      "memory usage: 12.9+ KB\n"
     ]
    }
   ],
   "source": [
    "user_device.info()"
   ],
   "metadata": {
    "collapsed": false,
    "pycharm": {
     "name": "#%%\n"
    }
   }
  },
  {
   "cell_type": "code",
   "execution_count": 5,
   "outputs": [
    {
     "name": "stdout",
     "output_type": "stream",
     "text": [
      "<class 'pandas.core.frame.DataFrame'>\n",
      "RangeIndex: 240 entries, 0 to 239\n",
      "Data columns (total 4 columns):\n",
      " #   Column                   Non-Null Count  Dtype  \n",
      "---  ------                   --------------  -----  \n",
      " 0   outgoing_mins_per_month  240 non-null    float64\n",
      " 1   outgoing_sms_per_month   240 non-null    float64\n",
      " 2   monthly_mb               240 non-null    float64\n",
      " 3   use_id                   240 non-null    int64  \n",
      "dtypes: float64(3), int64(1)\n",
      "memory usage: 7.6 KB\n"
     ]
    }
   ],
   "source": [
    "user_usage.info()"
   ],
   "metadata": {
    "collapsed": false,
    "pycharm": {
     "name": "#%%\n"
    }
   }
  },
  {
   "cell_type": "code",
   "execution_count": 6,
   "outputs": [
    {
     "name": "stdout",
     "output_type": "stream",
     "text": [
      "<class 'pandas.core.frame.DataFrame'>\n",
      "RangeIndex: 14546 entries, 0 to 14545\n",
      "Data columns (total 4 columns):\n",
      " #   Column           Non-Null Count  Dtype \n",
      "---  ------           --------------  ----- \n",
      " 0   Retail Branding  14542 non-null  object\n",
      " 1   Marketing Name   13375 non-null  object\n",
      " 2   Device           14546 non-null  object\n",
      " 3   Model            14546 non-null  object\n",
      "dtypes: object(4)\n",
      "memory usage: 454.7+ KB\n"
     ]
    }
   ],
   "source": [
    "android_devices.info()"
   ],
   "metadata": {
    "collapsed": false,
    "pycharm": {
     "name": "#%%\n"
    }
   }
  },
  {
   "cell_type": "code",
   "source": [
    "user_device.describe()"
   ],
   "metadata": {
    "collapsed": false,
    "pycharm": {
     "name": "#%%\n"
    }
   },
   "execution_count": 7,
   "outputs": [
    {
     "data": {
      "text/plain": "             use_id       user_id  platform_version  use_type_id\ncount    272.000000    272.000000        272.000000   272.000000\nmean   22917.500000  26583.095588          6.917647     1.654412\nstd       78.663842   5737.037885          2.144877     0.858031\nmin    22782.000000   2873.000000          4.100000     1.000000\n25%    22849.750000  26770.500000          5.100000     1.000000\n50%    22917.500000  29610.000000          6.000000     1.000000\n75%    22985.250000  29680.250000          9.300000     3.000000\nmax    23053.000000  29727.000000         10.200000     3.000000",
      "text/html": "<div>\n<style scoped>\n    .dataframe tbody tr th:only-of-type {\n        vertical-align: middle;\n    }\n\n    .dataframe tbody tr th {\n        vertical-align: top;\n    }\n\n    .dataframe thead th {\n        text-align: right;\n    }\n</style>\n<table border=\"1\" class=\"dataframe\">\n  <thead>\n    <tr style=\"text-align: right;\">\n      <th></th>\n      <th>use_id</th>\n      <th>user_id</th>\n      <th>platform_version</th>\n      <th>use_type_id</th>\n    </tr>\n  </thead>\n  <tbody>\n    <tr>\n      <th>count</th>\n      <td>272.000000</td>\n      <td>272.000000</td>\n      <td>272.000000</td>\n      <td>272.000000</td>\n    </tr>\n    <tr>\n      <th>mean</th>\n      <td>22917.500000</td>\n      <td>26583.095588</td>\n      <td>6.917647</td>\n      <td>1.654412</td>\n    </tr>\n    <tr>\n      <th>std</th>\n      <td>78.663842</td>\n      <td>5737.037885</td>\n      <td>2.144877</td>\n      <td>0.858031</td>\n    </tr>\n    <tr>\n      <th>min</th>\n      <td>22782.000000</td>\n      <td>2873.000000</td>\n      <td>4.100000</td>\n      <td>1.000000</td>\n    </tr>\n    <tr>\n      <th>25%</th>\n      <td>22849.750000</td>\n      <td>26770.500000</td>\n      <td>5.100000</td>\n      <td>1.000000</td>\n    </tr>\n    <tr>\n      <th>50%</th>\n      <td>22917.500000</td>\n      <td>29610.000000</td>\n      <td>6.000000</td>\n      <td>1.000000</td>\n    </tr>\n    <tr>\n      <th>75%</th>\n      <td>22985.250000</td>\n      <td>29680.250000</td>\n      <td>9.300000</td>\n      <td>3.000000</td>\n    </tr>\n    <tr>\n      <th>max</th>\n      <td>23053.000000</td>\n      <td>29727.000000</td>\n      <td>10.200000</td>\n      <td>3.000000</td>\n    </tr>\n  </tbody>\n</table>\n</div>"
     },
     "execution_count": 7,
     "metadata": {},
     "output_type": "execute_result"
    }
   ]
  },
  {
   "cell_type": "code",
   "execution_count": 8,
   "outputs": [
    {
     "data": {
      "text/plain": "       outgoing_mins_per_month  outgoing_sms_per_month    monthly_mb  \\\ncount               240.000000              240.000000    240.000000   \nmean                274.559167               98.968292   3628.602042   \nstd                 293.745744              111.172685   4486.311513   \nmin                   0.500000                0.250000      0.000000   \n25%                  74.590000               29.030000   1132.230000   \n50%                 189.705000               70.775000   1797.975000   \n75%                 336.045000              125.627500   4246.617500   \nmax                1816.630000              906.920000  31146.670000   \n\n             use_id  \ncount    240.000000  \nmean   23285.516667  \nstd      624.139253  \nmin    22787.000000  \n25%    22888.750000  \n50%    22987.500000  \n75%    23482.500000  \nmax    25220.000000  ",
      "text/html": "<div>\n<style scoped>\n    .dataframe tbody tr th:only-of-type {\n        vertical-align: middle;\n    }\n\n    .dataframe tbody tr th {\n        vertical-align: top;\n    }\n\n    .dataframe thead th {\n        text-align: right;\n    }\n</style>\n<table border=\"1\" class=\"dataframe\">\n  <thead>\n    <tr style=\"text-align: right;\">\n      <th></th>\n      <th>outgoing_mins_per_month</th>\n      <th>outgoing_sms_per_month</th>\n      <th>monthly_mb</th>\n      <th>use_id</th>\n    </tr>\n  </thead>\n  <tbody>\n    <tr>\n      <th>count</th>\n      <td>240.000000</td>\n      <td>240.000000</td>\n      <td>240.000000</td>\n      <td>240.000000</td>\n    </tr>\n    <tr>\n      <th>mean</th>\n      <td>274.559167</td>\n      <td>98.968292</td>\n      <td>3628.602042</td>\n      <td>23285.516667</td>\n    </tr>\n    <tr>\n      <th>std</th>\n      <td>293.745744</td>\n      <td>111.172685</td>\n      <td>4486.311513</td>\n      <td>624.139253</td>\n    </tr>\n    <tr>\n      <th>min</th>\n      <td>0.500000</td>\n      <td>0.250000</td>\n      <td>0.000000</td>\n      <td>22787.000000</td>\n    </tr>\n    <tr>\n      <th>25%</th>\n      <td>74.590000</td>\n      <td>29.030000</td>\n      <td>1132.230000</td>\n      <td>22888.750000</td>\n    </tr>\n    <tr>\n      <th>50%</th>\n      <td>189.705000</td>\n      <td>70.775000</td>\n      <td>1797.975000</td>\n      <td>22987.500000</td>\n    </tr>\n    <tr>\n      <th>75%</th>\n      <td>336.045000</td>\n      <td>125.627500</td>\n      <td>4246.617500</td>\n      <td>23482.500000</td>\n    </tr>\n    <tr>\n      <th>max</th>\n      <td>1816.630000</td>\n      <td>906.920000</td>\n      <td>31146.670000</td>\n      <td>25220.000000</td>\n    </tr>\n  </tbody>\n</table>\n</div>"
     },
     "execution_count": 8,
     "metadata": {},
     "output_type": "execute_result"
    }
   ],
   "source": [
    "user_usage.describe()"
   ],
   "metadata": {
    "collapsed": false,
    "pycharm": {
     "name": "#%%\n"
    }
   }
  },
  {
   "cell_type": "code",
   "execution_count": 9,
   "outputs": [
    {
     "data": {
      "text/plain": "       Retail Branding Marketing Name  Device    Model\ncount            14542          13375   14546    14546\nunique             605           8631    9830    12883\ntop            Samsung      Galaxy S3  mt5880  LG-P970\nfreq              1762             38      59       23",
      "text/html": "<div>\n<style scoped>\n    .dataframe tbody tr th:only-of-type {\n        vertical-align: middle;\n    }\n\n    .dataframe tbody tr th {\n        vertical-align: top;\n    }\n\n    .dataframe thead th {\n        text-align: right;\n    }\n</style>\n<table border=\"1\" class=\"dataframe\">\n  <thead>\n    <tr style=\"text-align: right;\">\n      <th></th>\n      <th>Retail Branding</th>\n      <th>Marketing Name</th>\n      <th>Device</th>\n      <th>Model</th>\n    </tr>\n  </thead>\n  <tbody>\n    <tr>\n      <th>count</th>\n      <td>14542</td>\n      <td>13375</td>\n      <td>14546</td>\n      <td>14546</td>\n    </tr>\n    <tr>\n      <th>unique</th>\n      <td>605</td>\n      <td>8631</td>\n      <td>9830</td>\n      <td>12883</td>\n    </tr>\n    <tr>\n      <th>top</th>\n      <td>Samsung</td>\n      <td>Galaxy S3</td>\n      <td>mt5880</td>\n      <td>LG-P970</td>\n    </tr>\n    <tr>\n      <th>freq</th>\n      <td>1762</td>\n      <td>38</td>\n      <td>59</td>\n      <td>23</td>\n    </tr>\n  </tbody>\n</table>\n</div>"
     },
     "execution_count": 9,
     "metadata": {},
     "output_type": "execute_result"
    }
   ],
   "source": [
    "android_devices.describe()"
   ],
   "metadata": {
    "collapsed": false,
    "pycharm": {
     "name": "#%%\n"
    }
   }
  },
  {
   "cell_type": "markdown",
   "source": [
    "## Renommer la colonne Branding de android_devices"
   ],
   "metadata": {
    "collapsed": false
   }
  },
  {
   "cell_type": "code",
   "execution_count": 10,
   "outputs": [
    {
     "name": "stdout",
     "output_type": "stream",
     "text": [
      "<class 'pandas.core.frame.DataFrame'>\n",
      "RangeIndex: 14546 entries, 0 to 14545\n",
      "Data columns (total 4 columns):\n",
      " #   Column          Non-Null Count  Dtype \n",
      "---  ------          --------------  ----- \n",
      " 0   Manufacturer    14542 non-null  object\n",
      " 1   Marketing Name  13375 non-null  object\n",
      " 2   Device          14546 non-null  object\n",
      " 3   Model           14546 non-null  object\n",
      "dtypes: object(4)\n",
      "memory usage: 454.7+ KB\n"
     ]
    }
   ],
   "source": [
    "android_devices = android_devices.rename(columns={\"Retail Branding\": \"Manufacturer\"})\n",
    "android_devices.info()"
   ],
   "metadata": {
    "collapsed": false,
    "pycharm": {
     "name": "#%%\n"
    }
   }
  },
  {
   "cell_type": "markdown",
   "source": [
    "## Afficher les dataset"
   ],
   "metadata": {
    "collapsed": false
   }
  },
  {
   "cell_type": "code",
   "execution_count": 11,
   "outputs": [
    {
     "data": {
      "text/plain": "   use_id  user_id platform  platform_version     device  use_type_id\n0   22782    26980      ios              10.2  iPhone7,2            2\n1   22783    29628  android               6.0    Nexus 5            3\n2   22784    28473  android               5.1   SM-G903F            1\n3   22785    15200      ios              10.2  iPhone7,2            3\n4   22786    28239  android               6.0  ONE E1003            1\n5   22787    12921  android               4.3   GT-I9505            1\n6   22788    28714  android               6.0   SM-G930F            1\n7   22789    28714  android               6.0   SM-G930F            1\n8   22790    29592  android               5.1      D2303            1\n9   22791    28775      ios              10.2  iPhone6,2            3",
      "text/html": "<div>\n<style scoped>\n    .dataframe tbody tr th:only-of-type {\n        vertical-align: middle;\n    }\n\n    .dataframe tbody tr th {\n        vertical-align: top;\n    }\n\n    .dataframe thead th {\n        text-align: right;\n    }\n</style>\n<table border=\"1\" class=\"dataframe\">\n  <thead>\n    <tr style=\"text-align: right;\">\n      <th></th>\n      <th>use_id</th>\n      <th>user_id</th>\n      <th>platform</th>\n      <th>platform_version</th>\n      <th>device</th>\n      <th>use_type_id</th>\n    </tr>\n  </thead>\n  <tbody>\n    <tr>\n      <th>0</th>\n      <td>22782</td>\n      <td>26980</td>\n      <td>ios</td>\n      <td>10.2</td>\n      <td>iPhone7,2</td>\n      <td>2</td>\n    </tr>\n    <tr>\n      <th>1</th>\n      <td>22783</td>\n      <td>29628</td>\n      <td>android</td>\n      <td>6.0</td>\n      <td>Nexus 5</td>\n      <td>3</td>\n    </tr>\n    <tr>\n      <th>2</th>\n      <td>22784</td>\n      <td>28473</td>\n      <td>android</td>\n      <td>5.1</td>\n      <td>SM-G903F</td>\n      <td>1</td>\n    </tr>\n    <tr>\n      <th>3</th>\n      <td>22785</td>\n      <td>15200</td>\n      <td>ios</td>\n      <td>10.2</td>\n      <td>iPhone7,2</td>\n      <td>3</td>\n    </tr>\n    <tr>\n      <th>4</th>\n      <td>22786</td>\n      <td>28239</td>\n      <td>android</td>\n      <td>6.0</td>\n      <td>ONE E1003</td>\n      <td>1</td>\n    </tr>\n    <tr>\n      <th>5</th>\n      <td>22787</td>\n      <td>12921</td>\n      <td>android</td>\n      <td>4.3</td>\n      <td>GT-I9505</td>\n      <td>1</td>\n    </tr>\n    <tr>\n      <th>6</th>\n      <td>22788</td>\n      <td>28714</td>\n      <td>android</td>\n      <td>6.0</td>\n      <td>SM-G930F</td>\n      <td>1</td>\n    </tr>\n    <tr>\n      <th>7</th>\n      <td>22789</td>\n      <td>28714</td>\n      <td>android</td>\n      <td>6.0</td>\n      <td>SM-G930F</td>\n      <td>1</td>\n    </tr>\n    <tr>\n      <th>8</th>\n      <td>22790</td>\n      <td>29592</td>\n      <td>android</td>\n      <td>5.1</td>\n      <td>D2303</td>\n      <td>1</td>\n    </tr>\n    <tr>\n      <th>9</th>\n      <td>22791</td>\n      <td>28775</td>\n      <td>ios</td>\n      <td>10.2</td>\n      <td>iPhone6,2</td>\n      <td>3</td>\n    </tr>\n  </tbody>\n</table>\n</div>"
     },
     "execution_count": 11,
     "metadata": {},
     "output_type": "execute_result"
    }
   ],
   "source": [
    "user_device.head(10)"
   ],
   "metadata": {
    "collapsed": false,
    "pycharm": {
     "name": "#%%\n"
    }
   }
  },
  {
   "cell_type": "code",
   "execution_count": 12,
   "outputs": [
    {
     "data": {
      "text/plain": "   outgoing_mins_per_month  outgoing_sms_per_month  monthly_mb  use_id\n0                    21.97                    4.82     1557.33   22787\n1                  1710.08                  136.88     7267.55   22788\n2                  1710.08                  136.88     7267.55   22789\n3                    94.46                   35.17      519.12   22790\n4                    71.59                   79.26     1557.33   22792\n5                    71.59                   79.26     1557.33   22793\n6                    71.59                   79.26      519.12   22794\n7                    71.59                   79.26      519.12   22795\n8                    30.92                   22.77     3114.67   22799\n9                    69.80                   14.70    25955.55   22801",
      "text/html": "<div>\n<style scoped>\n    .dataframe tbody tr th:only-of-type {\n        vertical-align: middle;\n    }\n\n    .dataframe tbody tr th {\n        vertical-align: top;\n    }\n\n    .dataframe thead th {\n        text-align: right;\n    }\n</style>\n<table border=\"1\" class=\"dataframe\">\n  <thead>\n    <tr style=\"text-align: right;\">\n      <th></th>\n      <th>outgoing_mins_per_month</th>\n      <th>outgoing_sms_per_month</th>\n      <th>monthly_mb</th>\n      <th>use_id</th>\n    </tr>\n  </thead>\n  <tbody>\n    <tr>\n      <th>0</th>\n      <td>21.97</td>\n      <td>4.82</td>\n      <td>1557.33</td>\n      <td>22787</td>\n    </tr>\n    <tr>\n      <th>1</th>\n      <td>1710.08</td>\n      <td>136.88</td>\n      <td>7267.55</td>\n      <td>22788</td>\n    </tr>\n    <tr>\n      <th>2</th>\n      <td>1710.08</td>\n      <td>136.88</td>\n      <td>7267.55</td>\n      <td>22789</td>\n    </tr>\n    <tr>\n      <th>3</th>\n      <td>94.46</td>\n      <td>35.17</td>\n      <td>519.12</td>\n      <td>22790</td>\n    </tr>\n    <tr>\n      <th>4</th>\n      <td>71.59</td>\n      <td>79.26</td>\n      <td>1557.33</td>\n      <td>22792</td>\n    </tr>\n    <tr>\n      <th>5</th>\n      <td>71.59</td>\n      <td>79.26</td>\n      <td>1557.33</td>\n      <td>22793</td>\n    </tr>\n    <tr>\n      <th>6</th>\n      <td>71.59</td>\n      <td>79.26</td>\n      <td>519.12</td>\n      <td>22794</td>\n    </tr>\n    <tr>\n      <th>7</th>\n      <td>71.59</td>\n      <td>79.26</td>\n      <td>519.12</td>\n      <td>22795</td>\n    </tr>\n    <tr>\n      <th>8</th>\n      <td>30.92</td>\n      <td>22.77</td>\n      <td>3114.67</td>\n      <td>22799</td>\n    </tr>\n    <tr>\n      <th>9</th>\n      <td>69.80</td>\n      <td>14.70</td>\n      <td>25955.55</td>\n      <td>22801</td>\n    </tr>\n  </tbody>\n</table>\n</div>"
     },
     "execution_count": 12,
     "metadata": {},
     "output_type": "execute_result"
    }
   ],
   "source": [
    "user_usage.head(10)"
   ],
   "metadata": {
    "collapsed": false,
    "pycharm": {
     "name": "#%%\n"
    }
   }
  },
  {
   "cell_type": "code",
   "execution_count": 13,
   "outputs": [
    {
     "data": {
      "text/plain": "                 Manufacturer      Marketing Name              Device  \\\n0                         NaN                 NaN              AD681H   \n1                         NaN                 NaN               FJL21   \n2                         NaN                 NaN                 T31   \n3                         NaN                 NaN            hws7721g   \n4                          3Q             OC1020A             OC1020A   \n5                     7Eleven               IN265               IN265   \n6  A.O.I. ELECTRONICS FACTORY              A.O.I.          TR10CS1_11   \n7                   AG Mobile          AG BOOST 2              BOOST2   \n8                   AG Mobile            AG Flair            AG_Flair   \n9                   AG Mobile  AG Go Tab Access 2  AG_Go_Tab_Access_2   \n\n                       Model  \n0  Smartfren Andromax AD681H  \n1                      FJL21  \n2              Panasonic T31  \n3         MediaPad 7 Youth 2  \n4                    OC1020A  \n5                      IN265  \n6                    TR10CS1  \n7                      E4010  \n8                      Flair  \n9         AG_Go_Tab_Access_2  ",
      "text/html": "<div>\n<style scoped>\n    .dataframe tbody tr th:only-of-type {\n        vertical-align: middle;\n    }\n\n    .dataframe tbody tr th {\n        vertical-align: top;\n    }\n\n    .dataframe thead th {\n        text-align: right;\n    }\n</style>\n<table border=\"1\" class=\"dataframe\">\n  <thead>\n    <tr style=\"text-align: right;\">\n      <th></th>\n      <th>Manufacturer</th>\n      <th>Marketing Name</th>\n      <th>Device</th>\n      <th>Model</th>\n    </tr>\n  </thead>\n  <tbody>\n    <tr>\n      <th>0</th>\n      <td>NaN</td>\n      <td>NaN</td>\n      <td>AD681H</td>\n      <td>Smartfren Andromax AD681H</td>\n    </tr>\n    <tr>\n      <th>1</th>\n      <td>NaN</td>\n      <td>NaN</td>\n      <td>FJL21</td>\n      <td>FJL21</td>\n    </tr>\n    <tr>\n      <th>2</th>\n      <td>NaN</td>\n      <td>NaN</td>\n      <td>T31</td>\n      <td>Panasonic T31</td>\n    </tr>\n    <tr>\n      <th>3</th>\n      <td>NaN</td>\n      <td>NaN</td>\n      <td>hws7721g</td>\n      <td>MediaPad 7 Youth 2</td>\n    </tr>\n    <tr>\n      <th>4</th>\n      <td>3Q</td>\n      <td>OC1020A</td>\n      <td>OC1020A</td>\n      <td>OC1020A</td>\n    </tr>\n    <tr>\n      <th>5</th>\n      <td>7Eleven</td>\n      <td>IN265</td>\n      <td>IN265</td>\n      <td>IN265</td>\n    </tr>\n    <tr>\n      <th>6</th>\n      <td>A.O.I. ELECTRONICS FACTORY</td>\n      <td>A.O.I.</td>\n      <td>TR10CS1_11</td>\n      <td>TR10CS1</td>\n    </tr>\n    <tr>\n      <th>7</th>\n      <td>AG Mobile</td>\n      <td>AG BOOST 2</td>\n      <td>BOOST2</td>\n      <td>E4010</td>\n    </tr>\n    <tr>\n      <th>8</th>\n      <td>AG Mobile</td>\n      <td>AG Flair</td>\n      <td>AG_Flair</td>\n      <td>Flair</td>\n    </tr>\n    <tr>\n      <th>9</th>\n      <td>AG Mobile</td>\n      <td>AG Go Tab Access 2</td>\n      <td>AG_Go_Tab_Access_2</td>\n      <td>AG_Go_Tab_Access_2</td>\n    </tr>\n  </tbody>\n</table>\n</div>"
     },
     "execution_count": 13,
     "metadata": {},
     "output_type": "execute_result"
    }
   ],
   "source": [
    "android_devices.head(10)"
   ],
   "metadata": {
    "collapsed": false,
    "pycharm": {
     "name": "#%%\n"
    }
   }
  },
  {
   "cell_type": "markdown",
   "source": [
    "# Votre premier merge"
   ],
   "metadata": {
    "collapsed": false
   }
  },
  {
   "cell_type": "code",
   "execution_count": 14,
   "outputs": [
    {
     "data": {
      "text/plain": "     outgoing_mins_per_month  outgoing_sms_per_month  monthly_mb  use_id  \\\n0                      21.97                    4.82     1557.33   22787   \n1                    1710.08                  136.88     7267.55   22788   \n2                    1710.08                  136.88     7267.55   22789   \n3                      94.46                   35.17      519.12   22790   \n4                      71.59                   79.26     1557.33   22792   \n..                       ...                     ...         ...     ...   \n154                   198.59                   90.49     5191.12   23043   \n155                   198.59                   90.49     3114.67   23044   \n156                   106.65                   82.13     5191.12   23046   \n157                   344.53                   20.53      519.12   23049   \n158                    42.75                   46.83     5191.12   23053   \n\n    platform                  device  \n0    android                GT-I9505  \n1    android                SM-G930F  \n2    android                SM-G930F  \n3    android                   D2303  \n4    android                SM-G361F  \n..       ...                     ...  \n154  android                SM-G900F  \n155  android                SM-G900F  \n156  android              Moto G (4)  \n157  android                SM-G900F  \n158  android  Vodafone Smart ultra 6  \n\n[159 rows x 6 columns]",
      "text/html": "<div>\n<style scoped>\n    .dataframe tbody tr th:only-of-type {\n        vertical-align: middle;\n    }\n\n    .dataframe tbody tr th {\n        vertical-align: top;\n    }\n\n    .dataframe thead th {\n        text-align: right;\n    }\n</style>\n<table border=\"1\" class=\"dataframe\">\n  <thead>\n    <tr style=\"text-align: right;\">\n      <th></th>\n      <th>outgoing_mins_per_month</th>\n      <th>outgoing_sms_per_month</th>\n      <th>monthly_mb</th>\n      <th>use_id</th>\n      <th>platform</th>\n      <th>device</th>\n    </tr>\n  </thead>\n  <tbody>\n    <tr>\n      <th>0</th>\n      <td>21.97</td>\n      <td>4.82</td>\n      <td>1557.33</td>\n      <td>22787</td>\n      <td>android</td>\n      <td>GT-I9505</td>\n    </tr>\n    <tr>\n      <th>1</th>\n      <td>1710.08</td>\n      <td>136.88</td>\n      <td>7267.55</td>\n      <td>22788</td>\n      <td>android</td>\n      <td>SM-G930F</td>\n    </tr>\n    <tr>\n      <th>2</th>\n      <td>1710.08</td>\n      <td>136.88</td>\n      <td>7267.55</td>\n      <td>22789</td>\n      <td>android</td>\n      <td>SM-G930F</td>\n    </tr>\n    <tr>\n      <th>3</th>\n      <td>94.46</td>\n      <td>35.17</td>\n      <td>519.12</td>\n      <td>22790</td>\n      <td>android</td>\n      <td>D2303</td>\n    </tr>\n    <tr>\n      <th>4</th>\n      <td>71.59</td>\n      <td>79.26</td>\n      <td>1557.33</td>\n      <td>22792</td>\n      <td>android</td>\n      <td>SM-G361F</td>\n    </tr>\n    <tr>\n      <th>...</th>\n      <td>...</td>\n      <td>...</td>\n      <td>...</td>\n      <td>...</td>\n      <td>...</td>\n      <td>...</td>\n    </tr>\n    <tr>\n      <th>154</th>\n      <td>198.59</td>\n      <td>90.49</td>\n      <td>5191.12</td>\n      <td>23043</td>\n      <td>android</td>\n      <td>SM-G900F</td>\n    </tr>\n    <tr>\n      <th>155</th>\n      <td>198.59</td>\n      <td>90.49</td>\n      <td>3114.67</td>\n      <td>23044</td>\n      <td>android</td>\n      <td>SM-G900F</td>\n    </tr>\n    <tr>\n      <th>156</th>\n      <td>106.65</td>\n      <td>82.13</td>\n      <td>5191.12</td>\n      <td>23046</td>\n      <td>android</td>\n      <td>Moto G (4)</td>\n    </tr>\n    <tr>\n      <th>157</th>\n      <td>344.53</td>\n      <td>20.53</td>\n      <td>519.12</td>\n      <td>23049</td>\n      <td>android</td>\n      <td>SM-G900F</td>\n    </tr>\n    <tr>\n      <th>158</th>\n      <td>42.75</td>\n      <td>46.83</td>\n      <td>5191.12</td>\n      <td>23053</td>\n      <td>android</td>\n      <td>Vodafone Smart ultra 6</td>\n    </tr>\n  </tbody>\n</table>\n<p>159 rows × 6 columns</p>\n</div>"
     },
     "execution_count": 14,
     "metadata": {},
     "output_type": "execute_result"
    }
   ],
   "source": [
    "result = pd.merge(user_usage,\n",
    "                  user_device[['use_id', 'platform', 'device']],\n",
    "                  on='use_id')\n",
    "result"
   ],
   "metadata": {
    "collapsed": false,
    "pycharm": {
     "name": "#%%\n"
    }
   }
  },
  {
   "cell_type": "markdown",
   "source": [
    "## Afficher la shape de vos dataset ainsi que celle du dataset de sortie\n"
   ],
   "metadata": {
    "collapsed": false,
    "pycharm": {
     "name": "#%% md\n"
    }
   }
  },
  {
   "cell_type": "code",
   "execution_count": 15,
   "outputs": [
    {
     "data": {
      "text/plain": "(240, 4)"
     },
     "execution_count": 15,
     "metadata": {},
     "output_type": "execute_result"
    }
   ],
   "source": [
    "user_usage.shape"
   ],
   "metadata": {
    "collapsed": false,
    "pycharm": {
     "name": "#%%\n"
    }
   }
  },
  {
   "cell_type": "code",
   "execution_count": 16,
   "outputs": [
    {
     "data": {
      "text/plain": "(272, 6)"
     },
     "execution_count": 16,
     "metadata": {},
     "output_type": "execute_result"
    }
   ],
   "source": [
    "user_device.shape"
   ],
   "metadata": {
    "collapsed": false,
    "pycharm": {
     "name": "#%%\n"
    }
   }
  },
  {
   "cell_type": "code",
   "execution_count": 17,
   "outputs": [
    {
     "data": {
      "text/plain": "(159, 6)"
     },
     "execution_count": 17,
     "metadata": {},
     "output_type": "execute_result"
    }
   ],
   "source": [
    "result.shape"
   ],
   "metadata": {
    "collapsed": false,
    "pycharm": {
     "name": "#%%\n"
    }
   }
  },
  {
   "cell_type": "markdown",
   "source": [
    "## Afficher via value_counts les use_id présent dans le nouveau dataset ainsi que ceux non présent"
   ],
   "metadata": {
    "collapsed": false
   }
  },
  {
   "cell_type": "code",
   "execution_count": 18,
   "outputs": [
    {
     "data": {
      "text/plain": "True     159\nFalse     81\nName: use_id, dtype: int64"
     },
     "execution_count": 18,
     "metadata": {},
     "output_type": "execute_result"
    }
   ],
   "source": [
    "user_usage['use_id'].isin(result['use_id']).value_counts()"
   ],
   "metadata": {
    "collapsed": false,
    "pycharm": {
     "name": "#%%\n"
    }
   }
  },
  {
   "cell_type": "markdown",
   "source": [
    "## Le left merge"
   ],
   "metadata": {
    "collapsed": false
   }
  },
  {
   "cell_type": "code",
   "execution_count": 19,
   "outputs": [
    {
     "data": {
      "text/plain": "(240, 6)"
     },
     "execution_count": 19,
     "metadata": {},
     "output_type": "execute_result"
    }
   ],
   "source": [
    "left_result = pd.merge(user_usage,\n",
    "                       user_device[['use_id', 'platform', 'device']],\n",
    "                       how=\"left\")\n",
    "left_result.shape"
   ],
   "metadata": {
    "collapsed": false,
    "pycharm": {
     "name": "#%%\n"
    }
   }
  },
  {
   "cell_type": "code",
   "execution_count": 20,
   "outputs": [
    {
     "data": {
      "text/plain": "outgoing_mins_per_month     0\noutgoing_sms_per_month      0\nmonthly_mb                  0\nuse_id                      0\nplatform                   81\ndevice                     81\ndtype: int64"
     },
     "execution_count": 20,
     "metadata": {},
     "output_type": "execute_result"
    }
   ],
   "source": [
    "left_result.isna().sum()"
   ],
   "metadata": {
    "collapsed": false,
    "pycharm": {
     "name": "#%%\n"
    }
   }
  },
  {
   "cell_type": "code",
   "execution_count": 21,
   "outputs": [
    {
     "data": {
      "text/plain": "     outgoing_mins_per_month  outgoing_sms_per_month  monthly_mb  use_id  \\\n0                      21.97                    4.82     1557.33   22787   \n1                    1710.08                  136.88     7267.55   22788   \n2                    1710.08                  136.88     7267.55   22789   \n3                      94.46                   35.17      519.12   22790   \n4                      71.59                   79.26     1557.33   22792   \n..                       ...                     ...         ...     ...   \n235                   260.66                   68.44      896.96   25008   \n236                    97.12                   36.50     2815.00   25040   \n237                   355.93                   12.37     6828.09   25046   \n238                   632.06                  120.46     1453.16   25058   \n239                   488.70                  906.92     3089.85   25220   \n\n    platform    device  \n0    android  GT-I9505  \n1    android  SM-G930F  \n2    android  SM-G930F  \n3    android     D2303  \n4    android  SM-G361F  \n..       ...       ...  \n235      NaN       NaN  \n236      NaN       NaN  \n237      NaN       NaN  \n238      NaN       NaN  \n239      NaN       NaN  \n\n[240 rows x 6 columns]",
      "text/html": "<div>\n<style scoped>\n    .dataframe tbody tr th:only-of-type {\n        vertical-align: middle;\n    }\n\n    .dataframe tbody tr th {\n        vertical-align: top;\n    }\n\n    .dataframe thead th {\n        text-align: right;\n    }\n</style>\n<table border=\"1\" class=\"dataframe\">\n  <thead>\n    <tr style=\"text-align: right;\">\n      <th></th>\n      <th>outgoing_mins_per_month</th>\n      <th>outgoing_sms_per_month</th>\n      <th>monthly_mb</th>\n      <th>use_id</th>\n      <th>platform</th>\n      <th>device</th>\n    </tr>\n  </thead>\n  <tbody>\n    <tr>\n      <th>0</th>\n      <td>21.97</td>\n      <td>4.82</td>\n      <td>1557.33</td>\n      <td>22787</td>\n      <td>android</td>\n      <td>GT-I9505</td>\n    </tr>\n    <tr>\n      <th>1</th>\n      <td>1710.08</td>\n      <td>136.88</td>\n      <td>7267.55</td>\n      <td>22788</td>\n      <td>android</td>\n      <td>SM-G930F</td>\n    </tr>\n    <tr>\n      <th>2</th>\n      <td>1710.08</td>\n      <td>136.88</td>\n      <td>7267.55</td>\n      <td>22789</td>\n      <td>android</td>\n      <td>SM-G930F</td>\n    </tr>\n    <tr>\n      <th>3</th>\n      <td>94.46</td>\n      <td>35.17</td>\n      <td>519.12</td>\n      <td>22790</td>\n      <td>android</td>\n      <td>D2303</td>\n    </tr>\n    <tr>\n      <th>4</th>\n      <td>71.59</td>\n      <td>79.26</td>\n      <td>1557.33</td>\n      <td>22792</td>\n      <td>android</td>\n      <td>SM-G361F</td>\n    </tr>\n    <tr>\n      <th>...</th>\n      <td>...</td>\n      <td>...</td>\n      <td>...</td>\n      <td>...</td>\n      <td>...</td>\n      <td>...</td>\n    </tr>\n    <tr>\n      <th>235</th>\n      <td>260.66</td>\n      <td>68.44</td>\n      <td>896.96</td>\n      <td>25008</td>\n      <td>NaN</td>\n      <td>NaN</td>\n    </tr>\n    <tr>\n      <th>236</th>\n      <td>97.12</td>\n      <td>36.50</td>\n      <td>2815.00</td>\n      <td>25040</td>\n      <td>NaN</td>\n      <td>NaN</td>\n    </tr>\n    <tr>\n      <th>237</th>\n      <td>355.93</td>\n      <td>12.37</td>\n      <td>6828.09</td>\n      <td>25046</td>\n      <td>NaN</td>\n      <td>NaN</td>\n    </tr>\n    <tr>\n      <th>238</th>\n      <td>632.06</td>\n      <td>120.46</td>\n      <td>1453.16</td>\n      <td>25058</td>\n      <td>NaN</td>\n      <td>NaN</td>\n    </tr>\n    <tr>\n      <th>239</th>\n      <td>488.70</td>\n      <td>906.92</td>\n      <td>3089.85</td>\n      <td>25220</td>\n      <td>NaN</td>\n      <td>NaN</td>\n    </tr>\n  </tbody>\n</table>\n<p>240 rows × 6 columns</p>\n</div>"
     },
     "execution_count": 21,
     "metadata": {},
     "output_type": "execute_result"
    }
   ],
   "source": [
    "left_result"
   ],
   "metadata": {
    "collapsed": false,
    "pycharm": {
     "name": "#%%\n"
    }
   }
  },
  {
   "cell_type": "markdown",
   "source": [
    "## Afficher la shape du dataset user_device, celle du dataset de sortie ainsi que les valeurs manquantes des colonnes monthly_mb et platform."
   ],
   "metadata": {
    "collapsed": false
   }
  },
  {
   "cell_type": "code",
   "execution_count": 23,
   "outputs": [
    {
     "data": {
      "text/plain": "(272, 6)"
     },
     "execution_count": 23,
     "metadata": {},
     "output_type": "execute_result"
    }
   ],
   "source": [
    "right_result = pd.merge(user_usage,\n",
    "                       user_device[['use_id', 'platform', 'device']],\n",
    "                       how=\"right\")\n",
    "right_result.shape"
   ],
   "metadata": {
    "collapsed": false,
    "pycharm": {
     "name": "#%%\n"
    }
   }
  },
  {
   "cell_type": "code",
   "execution_count": 24,
   "outputs": [
    {
     "data": {
      "text/plain": "outgoing_mins_per_month    113\noutgoing_sms_per_month     113\nmonthly_mb                 113\nuse_id                       0\nplatform                     0\ndevice                       0\ndtype: int64"
     },
     "execution_count": 24,
     "metadata": {},
     "output_type": "execute_result"
    }
   ],
   "source": [
    "right_result.isna().sum()"
   ],
   "metadata": {
    "collapsed": false,
    "pycharm": {
     "name": "#%%\n"
    }
   }
  },
  {
   "cell_type": "markdown",
   "source": [
    "## Outer merge"
   ],
   "metadata": {
    "collapsed": false,
    "pycharm": {
     "name": "#%% md\n"
    }
   }
  },
  {
   "cell_type": "code",
   "execution_count": 26,
   "outputs": [
    {
     "data": {
      "text/plain": "(353, 6)"
     },
     "execution_count": 26,
     "metadata": {},
     "output_type": "execute_result"
    }
   ],
   "source": [
    "outer_result = pd.merge(user_usage,\n",
    "                       user_device[['use_id', 'platform', 'device']],\n",
    "                       how=\"outer\")\n",
    "\n",
    "outer_result.shape"
   ],
   "metadata": {
    "collapsed": false,
    "pycharm": {
     "name": "#%%\n"
    }
   }
  }
 ],
 "metadata": {
  "kernelspec": {
   "display_name": "Python 3",
   "language": "python",
   "name": "python3"
  },
  "language_info": {
   "codemirror_mode": {
    "name": "ipython",
    "version": 2
   },
   "file_extension": ".py",
   "mimetype": "text/x-python",
   "name": "python",
   "nbconvert_exporter": "python",
   "pygments_lexer": "ipython2",
   "version": "2.7.6"
  }
 },
 "nbformat": 4,
 "nbformat_minor": 0
}