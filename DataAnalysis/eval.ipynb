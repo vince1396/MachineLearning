{
 "cells": [
  {
   "cell_type": "markdown",
   "metadata": {
    "collapsed": true,
    "pycharm": {
     "name": "#%% md\n"
    }
   },
   "source": [
    "# Data Visualisation & Statistiquesdescriptives : Formaliser des KPI"
   ]
  },
  {
   "cell_type": "markdown",
   "source": [
    "## --- 1 ---"
   ],
   "metadata": {
    "collapsed": false
   }
  },
  {
   "cell_type": "markdown",
   "source": [
    "## --- 2 ---"
   ],
   "metadata": {
    "collapsed": false
   }
  },
  {
   "cell_type": "code",
   "execution_count": 5,
   "outputs": [
    {
     "name": "stdout",
     "output_type": "stream",
     "text": [
      "Requirement already satisfied: pandas in /home/vincent/.local/share/virtualenvs/MachineLearning-p2QxMSww/lib/python3.8/site-packages (1.1.1)\r\n",
      "Requirement already satisfied: numpy in /home/vincent/.local/share/virtualenvs/MachineLearning-p2QxMSww/lib/python3.8/site-packages (1.19.1)\r\n",
      "Requirement already satisfied: pytz>=2017.2 in /home/vincent/.local/share/virtualenvs/MachineLearning-p2QxMSww/lib/python3.8/site-packages (from pandas) (2020.1)\r\n",
      "Requirement already satisfied: python-dateutil>=2.7.3 in /home/vincent/.local/share/virtualenvs/MachineLearning-p2QxMSww/lib/python3.8/site-packages (from pandas) (2.8.1)\r\n",
      "Requirement already satisfied: six>=1.5 in /home/vincent/.local/share/virtualenvs/MachineLearning-p2QxMSww/lib/python3.8/site-packages (from python-dateutil>=2.7.3->pandas) (1.15.0)\r\n"
     ]
    }
   ],
   "source": [
    "!pip install pandas numpy\n",
    "import pandas as pd\n",
    "import numpy as np"
   ],
   "metadata": {
    "collapsed": false,
    "pycharm": {
     "name": "#%%\n"
    }
   }
  },
  {
   "cell_type": "markdown",
   "source": [
    "## --- 3 ---"
   ],
   "metadata": {
    "collapsed": false
   }
  },
  {
   "cell_type": "code",
   "execution_count": 6,
   "outputs": [],
   "source": [
    "eval_data = pd.read_csv(\"/home/vincent/Hitema/Cours/Machine Learning/eval_data.csv\")"
   ],
   "metadata": {
    "collapsed": false,
    "pycharm": {
     "name": "#%%\n"
    }
   }
  },
  {
   "cell_type": "markdown",
   "source": [
    "## --- 4 ---"
   ],
   "metadata": {
    "collapsed": false
   }
  },
  {
   "cell_type": "code",
   "execution_count": 7,
   "outputs": [
    {
     "data": {
      "text/plain": "   Unnamed: 0  order_id  quantity                              item_name  \\\n0           0         1         1           Chips and Fresh Tomato Salsa   \n1           1         1         1                                   Izze   \n2           2         1         1                       Nantucket Nectar   \n3           3         1         1  Chips and Tomatillo-Green Chili Salsa   \n4           4         2         2                           Chicken Bowl   \n5           5         3         1                           Chicken Bowl   \n6           6         3         1                          Side of Chips   \n7           7         4         1                          Steak Burrito   \n8           8         4         1                       Steak Soft Tacos   \n9           9         5         1                          Steak Burrito   \n\n                                  choice_description item_price  \n0                                                NaN        NaN  \n1                                       [Clementine]     $3.39   \n2                                            [Apple]     $3.39   \n3                                                NaN        NaN  \n4  [Tomatillo-Red Chili Salsa (Hot), [Black Beans...    $16.98   \n5  [Fresh Tomato Salsa (Mild), [Rice, Cheese, Sou...    $10.98   \n6                                                NaN     $1.69   \n7  [Tomatillo Red Chili Salsa, [Fajita Vegetables...    $11.75   \n8  [Tomatillo Green Chili Salsa, [Pinto Beans, Ch...     $9.25   \n9  [Fresh Tomato Salsa, [Rice, Black Beans, Pinto...     $9.25   ",
      "text/html": "<div>\n<style scoped>\n    .dataframe tbody tr th:only-of-type {\n        vertical-align: middle;\n    }\n\n    .dataframe tbody tr th {\n        vertical-align: top;\n    }\n\n    .dataframe thead th {\n        text-align: right;\n    }\n</style>\n<table border=\"1\" class=\"dataframe\">\n  <thead>\n    <tr style=\"text-align: right;\">\n      <th></th>\n      <th>Unnamed: 0</th>\n      <th>order_id</th>\n      <th>quantity</th>\n      <th>item_name</th>\n      <th>choice_description</th>\n      <th>item_price</th>\n    </tr>\n  </thead>\n  <tbody>\n    <tr>\n      <th>0</th>\n      <td>0</td>\n      <td>1</td>\n      <td>1</td>\n      <td>Chips and Fresh Tomato Salsa</td>\n      <td>NaN</td>\n      <td>NaN</td>\n    </tr>\n    <tr>\n      <th>1</th>\n      <td>1</td>\n      <td>1</td>\n      <td>1</td>\n      <td>Izze</td>\n      <td>[Clementine]</td>\n      <td>$3.39</td>\n    </tr>\n    <tr>\n      <th>2</th>\n      <td>2</td>\n      <td>1</td>\n      <td>1</td>\n      <td>Nantucket Nectar</td>\n      <td>[Apple]</td>\n      <td>$3.39</td>\n    </tr>\n    <tr>\n      <th>3</th>\n      <td>3</td>\n      <td>1</td>\n      <td>1</td>\n      <td>Chips and Tomatillo-Green Chili Salsa</td>\n      <td>NaN</td>\n      <td>NaN</td>\n    </tr>\n    <tr>\n      <th>4</th>\n      <td>4</td>\n      <td>2</td>\n      <td>2</td>\n      <td>Chicken Bowl</td>\n      <td>[Tomatillo-Red Chili Salsa (Hot), [Black Beans...</td>\n      <td>$16.98</td>\n    </tr>\n    <tr>\n      <th>5</th>\n      <td>5</td>\n      <td>3</td>\n      <td>1</td>\n      <td>Chicken Bowl</td>\n      <td>[Fresh Tomato Salsa (Mild), [Rice, Cheese, Sou...</td>\n      <td>$10.98</td>\n    </tr>\n    <tr>\n      <th>6</th>\n      <td>6</td>\n      <td>3</td>\n      <td>1</td>\n      <td>Side of Chips</td>\n      <td>NaN</td>\n      <td>$1.69</td>\n    </tr>\n    <tr>\n      <th>7</th>\n      <td>7</td>\n      <td>4</td>\n      <td>1</td>\n      <td>Steak Burrito</td>\n      <td>[Tomatillo Red Chili Salsa, [Fajita Vegetables...</td>\n      <td>$11.75</td>\n    </tr>\n    <tr>\n      <th>8</th>\n      <td>8</td>\n      <td>4</td>\n      <td>1</td>\n      <td>Steak Soft Tacos</td>\n      <td>[Tomatillo Green Chili Salsa, [Pinto Beans, Ch...</td>\n      <td>$9.25</td>\n    </tr>\n    <tr>\n      <th>9</th>\n      <td>9</td>\n      <td>5</td>\n      <td>1</td>\n      <td>Steak Burrito</td>\n      <td>[Fresh Tomato Salsa, [Rice, Black Beans, Pinto...</td>\n      <td>$9.25</td>\n    </tr>\n  </tbody>\n</table>\n</div>"
     },
     "execution_count": 7,
     "metadata": {},
     "output_type": "execute_result"
    }
   ],
   "source": [
    "eval_data.head(10)"
   ],
   "metadata": {
    "collapsed": false,
    "pycharm": {
     "name": "#%%\n"
    }
   }
  },
  {
   "cell_type": "markdown",
   "source": [
    "## --- 5 ---"
   ],
   "metadata": {
    "collapsed": false
   }
  },
  {
   "cell_type": "code",
   "execution_count": 8,
   "outputs": [
    {
     "data": {
      "text/plain": "2"
     },
     "execution_count": 8,
     "metadata": {},
     "output_type": "execute_result"
    }
   ],
   "source": [
    "eval_data.ndim"
   ],
   "metadata": {
    "collapsed": false,
    "pycharm": {
     "name": "#%%\n"
    }
   }
  },
  {
   "cell_type": "markdown",
   "source": [
    "## --- 6 ---"
   ],
   "metadata": {
    "collapsed": false
   }
  },
  {
   "cell_type": "code",
   "execution_count": 9,
   "outputs": [
    {
     "name": "stdout",
     "output_type": "stream",
     "text": [
      "<class 'pandas.core.frame.DataFrame'>\n",
      "RangeIndex: 4622 entries, 0 to 4621\n",
      "Data columns (total 6 columns):\n",
      " #   Column              Non-Null Count  Dtype \n",
      "---  ------              --------------  ----- \n",
      " 0   Unnamed: 0          4622 non-null   int64 \n",
      " 1   order_id            4622 non-null   int64 \n",
      " 2   quantity            4622 non-null   int64 \n",
      " 3   item_name           4622 non-null   object\n",
      " 4   choice_description  3376 non-null   object\n",
      " 5   item_price          4522 non-null   object\n",
      "dtypes: int64(3), object(3)\n",
      "memory usage: 216.8+ KB\n"
     ]
    }
   ],
   "source": [
    "eval_data.info()"
   ],
   "metadata": {
    "collapsed": false,
    "pycharm": {
     "name": "#%%\n"
    }
   }
  },
  {
   "cell_type": "markdown",
   "source": [
    "## --- 7 ---"
   ],
   "metadata": {
    "collapsed": false
   }
  },
  {
   "cell_type": "code",
   "execution_count": 10,
   "outputs": [
    {
     "data": {
      "text/plain": "        Unnamed: 0     order_id     quantity\ncount  4622.000000  4622.000000  4622.000000\nmean   2310.500000   927.254868     1.075725\nstd    1334.400802   528.890796     0.410186\nmin       0.000000     1.000000     1.000000\n25%    1155.250000   477.250000     1.000000\n50%    2310.500000   926.000000     1.000000\n75%    3465.750000  1393.000000     1.000000\nmax    4621.000000  1834.000000    15.000000",
      "text/html": "<div>\n<style scoped>\n    .dataframe tbody tr th:only-of-type {\n        vertical-align: middle;\n    }\n\n    .dataframe tbody tr th {\n        vertical-align: top;\n    }\n\n    .dataframe thead th {\n        text-align: right;\n    }\n</style>\n<table border=\"1\" class=\"dataframe\">\n  <thead>\n    <tr style=\"text-align: right;\">\n      <th></th>\n      <th>Unnamed: 0</th>\n      <th>order_id</th>\n      <th>quantity</th>\n    </tr>\n  </thead>\n  <tbody>\n    <tr>\n      <th>count</th>\n      <td>4622.000000</td>\n      <td>4622.000000</td>\n      <td>4622.000000</td>\n    </tr>\n    <tr>\n      <th>mean</th>\n      <td>2310.500000</td>\n      <td>927.254868</td>\n      <td>1.075725</td>\n    </tr>\n    <tr>\n      <th>std</th>\n      <td>1334.400802</td>\n      <td>528.890796</td>\n      <td>0.410186</td>\n    </tr>\n    <tr>\n      <th>min</th>\n      <td>0.000000</td>\n      <td>1.000000</td>\n      <td>1.000000</td>\n    </tr>\n    <tr>\n      <th>25%</th>\n      <td>1155.250000</td>\n      <td>477.250000</td>\n      <td>1.000000</td>\n    </tr>\n    <tr>\n      <th>50%</th>\n      <td>2310.500000</td>\n      <td>926.000000</td>\n      <td>1.000000</td>\n    </tr>\n    <tr>\n      <th>75%</th>\n      <td>3465.750000</td>\n      <td>1393.000000</td>\n      <td>1.000000</td>\n    </tr>\n    <tr>\n      <th>max</th>\n      <td>4621.000000</td>\n      <td>1834.000000</td>\n      <td>15.000000</td>\n    </tr>\n  </tbody>\n</table>\n</div>"
     },
     "execution_count": 10,
     "metadata": {},
     "output_type": "execute_result"
    }
   ],
   "source": [
    "eval_data.describe()"
   ],
   "metadata": {
    "collapsed": false,
    "pycharm": {
     "name": "#%%\n"
    }
   }
  },
  {
   "cell_type": "markdown",
   "source": [
    "## --- 8 ---"
   ],
   "metadata": {
    "collapsed": false
   }
  },
  {
   "cell_type": "code",
   "execution_count": 15,
   "outputs": [
    {
     "data": {
      "text/plain": "item_name\n6 Pack Soft Drink                         54\nBarbacoa Bowl                             66\nBarbacoa Burrito                          91\nBarbacoa Crispy Tacos                     11\nBarbacoa Salad Bowl                       10\nBarbacoa Soft Tacos                       25\nBottled Water                            162\nBowl                                       2\nBurrito                                    6\nCanned Soda                              104\nCanned Soft Drink                        301\nCarnitas Bowl                             68\nCarnitas Burrito                          59\nCarnitas Crispy Tacos                      7\nCarnitas Salad                             1\nCarnitas Salad Bowl                        6\nCarnitas Soft Tacos                       40\nChicken Bowl                             726\nChicken Burrito                          553\nChicken Crispy Tacos                      47\nChicken Salad                              9\nChicken Salad Bowl                       110\nChicken Soft Tacos                       115\nChips                                    211\nChips and Fresh Tomato Salsa             110\nChips and Guacamole                      479\nChips and Mild Fresh Tomato Salsa          1\nChips and Roasted Chili Corn Salsa        22\nChips and Roasted Chili-Corn Salsa        18\nChips and Tomatillo Green Chili Salsa     43\nChips and Tomatillo Red Chili Salsa       48\nChips and Tomatillo-Green Chili Salsa     31\nChips and Tomatillo-Red Chili Salsa       20\nCrispy Tacos                               2\nIzze                                      20\nNantucket Nectar                          27\nSalad                                      2\nSide of Chips                            101\nSteak Bowl                               211\nSteak Burrito                            368\nSteak Crispy Tacos                        35\nSteak Salad                                4\nSteak Salad Bowl                          29\nSteak Soft Tacos                          55\nVeggie Bowl                               85\nVeggie Burrito                            95\nVeggie Crispy Tacos                        1\nVeggie Salad                               6\nVeggie Salad Bowl                         18\nVeggie Soft Tacos                          7\nName: quantity, dtype: int64"
     },
     "execution_count": 15,
     "metadata": {},
     "output_type": "execute_result"
    }
   ],
   "source": [
    "eval_data.groupby(['item_name'])['quantity'].count()\n"
   ],
   "metadata": {
    "collapsed": false,
    "pycharm": {
     "name": "#%%\n"
    }
   }
  },
  {
   "cell_type": "markdown",
   "source": [
    "## --- 9 ---"
   ],
   "metadata": {
    "collapsed": false
   }
  },
  {
   "cell_type": "code",
   "execution_count": 16,
   "outputs": [
    {
     "data": {
      "text/plain": "4622"
     },
     "execution_count": 16,
     "metadata": {},
     "output_type": "execute_result"
    }
   ],
   "source": [
    "eval_data[\"quantity\"].count()"
   ],
   "metadata": {
    "collapsed": false,
    "pycharm": {
     "name": "#%%\n"
    }
   }
  },
  {
   "cell_type": "markdown",
   "source": [
    "## --- 10 ---"
   ],
   "metadata": {
    "collapsed": false
   }
  },
  {
   "cell_type": "code",
   "execution_count": 25,
   "outputs": [
    {
     "data": {
      "text/plain": "Unnamed: 0                                             10679131\norder_id                                                4285772\nquantity                                                   4972\nitem_name     Chips and Fresh Tomato SalsaIzzeNantucket Nect...\ndtype: object"
     },
     "execution_count": 25,
     "metadata": {},
     "output_type": "execute_result"
    }
   ],
   "source": [
    "#ca = eval_data[\"item_price\"].sum()\n",
    "eval_data.sum()"
   ],
   "metadata": {
    "collapsed": false,
    "pycharm": {
     "name": "#%%\n"
    }
   }
  },
  {
   "cell_type": "markdown",
   "source": [
    "## --- 11 ---"
   ],
   "metadata": {
    "collapsed": false
   }
  },
  {
   "cell_type": "code",
   "execution_count": null,
   "outputs": [],
   "source": [
    "eval_data.mean()"
   ],
   "metadata": {
    "collapsed": false,
    "pycharm": {
     "name": "#%%\n"
    }
   }
  }
 ],
 "metadata": {
  "kernelspec": {
   "display_name": "Python 3",
   "language": "python",
   "name": "python3"
  },
  "language_info": {
   "codemirror_mode": {
    "name": "ipython",
    "version": 2
   },
   "file_extension": ".py",
   "mimetype": "text/x-python",
   "name": "python",
   "nbconvert_exporter": "python",
   "pygments_lexer": "ipython2",
   "version": "2.7.6"
  }
 },
 "nbformat": 4,
 "nbformat_minor": 0
}