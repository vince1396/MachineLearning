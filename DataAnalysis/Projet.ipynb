{
 "cells": [
  {
   "cell_type": "markdown",
   "source": [
    "# French employment, salaries, population per town"
   ],
   "metadata": {
    "collapsed": false,
    "pycharm": {
     "name": "#%% md\n"
    }
   }
  },
  {
   "cell_type": "markdown",
   "source": [
    "---\n",
    "## Libraries importation"
   ],
   "metadata": {
    "collapsed": false
   }
  },
  {
   "cell_type": "code",
   "execution_count": 1,
   "metadata": {
    "collapsed": true
   },
   "outputs": [],
   "source": [
    "import pandas as pd\n",
    "import numpy as np\n",
    "import seaborn as sn"
   ]
  },
  {
   "cell_type": "markdown",
   "source": [
    "---\n",
    "## Datasets importation"
   ],
   "metadata": {
    "collapsed": false,
    "pycharm": {
     "name": "#%% md\n"
    }
   }
  },
  {
   "cell_type": "code",
   "execution_count": 2,
   "outputs": [
    {
     "name": "stderr",
     "output_type": "stream",
     "text": [
      "/home/vincent/.local/share/virtualenvs/MachineLearning-ZUDzaG3C/lib/python3.8/site-packages/IPython/core/interactiveshell.py:3145: DtypeWarning: Columns (1) have mixed types.Specify dtype option on import or set low_memory=False.\n",
      "  has_raised = await self.run_ast_nodes(code_ast.body, cell_name,\n"
     ]
    }
   ],
   "source": [
    "firms = pd.read_csv(\"/home/vincent/Hitema/datasets/2989_5652_bundle_archive/base_etablissement_par_tranche_effectif.csv\")\n",
    "towns = pd.read_csv(\"/home/vincent/Hitema/datasets/2989_5652_bundle_archive/name_geographic_information.csv\")\n",
    "salaries = pd.read_csv(\"/home/vincent/Hitema/datasets/2989_5652_bundle_archive/net_salary_per_town_categories.csv\")\n",
    "population = pd.read_csv(\"/home/vincent/Hitema/datasets/2989_5652_bundle_archive/population.csv\")"
   ],
   "metadata": {
    "collapsed": false,
    "pycharm": {
     "name": "#%%\n"
    }
   }
  },
  {
   "cell_type": "markdown",
   "source": [
    "---\n",
    "## Renaming colums"
   ],
   "metadata": {
    "collapsed": false,
    "pycharm": {
     "name": "#%% md\n"
    }
   }
  },
  {
   "cell_type": "code",
   "execution_count": 3,
   "outputs": [],
   "source": [
    "towns = towns.rename(columns={\"code_insee\": \"CODGEO\"})"
   ],
   "metadata": {
    "collapsed": false,
    "pycharm": {
     "name": "#%%\n"
    }
   }
  },
  {
   "cell_type": "code",
   "execution_count": 4,
   "outputs": [],
   "source": [
    "mapping = {\n",
    "    'E14TST': 'total_firms',\n",
    "    'E14TS0ND': 'nb_unk_town',\n",
    "    'E14TS1': '1_5_employees',\n",
    "    'E14TS6': '6_9_employees',\n",
    "    'E14TS10': '10_19_employees',\n",
    "    'E14TS20': '20_49_employees',\n",
    "    'E14TS50': '50_99_employees',\n",
    "    'E14TS100': '100_199_employees',\n",
    "    'E14TS200': '200_499_employees',\n",
    "    'E14TS500': 'more_500_employees'\n",
    "}\n",
    "\n",
    "firms = firms.rename(columns=mapping)"
   ],
   "metadata": {
    "collapsed": false,
    "pycharm": {
     "name": "#%%\n"
    }
   }
  },
  {
   "cell_type": "code",
   "execution_count": 5,
   "outputs": [],
   "source": [
    "mapping = {\n",
    "    'SNHM14': 'mean_salary',\n",
    "    'SNHMC14': 'executive',\n",
    "    'SNHMP14': 'middle_manager',\n",
    "    'SNHME14': 'employee',\n",
    "    'SNHMO14': 'worker',\n",
    "    'SNHMF14': 'women',\n",
    "    'SNHMFC14': 'f_executive',\n",
    "    'SNHMFP14': 'f_middle_manager',\n",
    "    'SNHMFE14': 'f_employee',\n",
    "    'SNHMFO14': 'f_worker',\n",
    "    'SNHMH14': 'man',\n",
    "    'SNHMHC14': 'm_executive',\n",
    "    'SNHMHP14': 'm_middle_manager',\n",
    "    'SNHMHE14': 'm_employee',\n",
    "    'SNHMHO14': 'm_worker',\n",
    "    'SNHM1814': '18-25y',\n",
    "    'SNHM2614': '26-50y',\n",
    "    'SNHM5014': 'sup_50y',\n",
    "    'SNHMF1814': 'f_18-25y',\n",
    "    'SNHMF2614': 'f_26-50y',\n",
    "    'SNHMF5014': 'f_sup_50y',\n",
    "    'SNHMH1814': 'm_18-25y',\n",
    "    'SNHMH2614': 'm_26-50y',\n",
    "    'SNHMH5014': 'm_sup_50y'\n",
    "}\n",
    "\n",
    "salaries = salaries.rename(columns=mapping)"
   ],
   "metadata": {
    "collapsed": false,
    "pycharm": {
     "name": "#%%\n"
    }
   }
  },
  {
   "cell_type": "markdown",
   "source": [
    "---\n",
    "## Converting \"CODGEO\" type"
   ],
   "metadata": {
    "collapsed": false,
    "pycharm": {
     "name": "#%% md\n"
    }
   }
  },
  {
   "cell_type": "code",
   "execution_count": 6,
   "outputs": [],
   "source": [
    "firms[\"CODGEO\"] = firms[\"CODGEO\"].astype(str)\n",
    "towns['CODGEO'] = towns['CODGEO'].astype(str)\n",
    "salaries[\"CODGEO\"] = salaries[\"CODGEO\"].astype(str)\n",
    "population[\"CODGEO\"] = population[\"CODGEO\"].astype(str)"
   ],
   "metadata": {
    "collapsed": false,
    "pycharm": {
     "name": "#%%\n"
    }
   }
  },
  {
   "cell_type": "markdown",
   "source": [
    "---\n",
    "## Datasets infos"
   ],
   "metadata": {
    "collapsed": false
   }
  },
  {
   "cell_type": "code",
   "execution_count": 7,
   "outputs": [
    {
     "name": "stdout",
     "output_type": "stream",
     "text": [
      "<class 'pandas.core.frame.DataFrame'>\n",
      "RangeIndex: 36681 entries, 0 to 36680\n",
      "Data columns (total 14 columns):\n",
      " #   Column              Non-Null Count  Dtype \n",
      "---  ------              --------------  ----- \n",
      " 0   CODGEO              36681 non-null  object\n",
      " 1   LIBGEO              36681 non-null  object\n",
      " 2   REG                 36681 non-null  int64 \n",
      " 3   DEP                 36681 non-null  object\n",
      " 4   total_firms         36681 non-null  int64 \n",
      " 5   nb_unk_town         36681 non-null  int64 \n",
      " 6   1_5_employees       36681 non-null  int64 \n",
      " 7   6_9_employees       36681 non-null  int64 \n",
      " 8   10_19_employees     36681 non-null  int64 \n",
      " 9   20_49_employees     36681 non-null  int64 \n",
      " 10  50_99_employees     36681 non-null  int64 \n",
      " 11  100_199_employees   36681 non-null  int64 \n",
      " 12  200_499_employees   36681 non-null  int64 \n",
      " 13  more_500_employees  36681 non-null  int64 \n",
      "dtypes: int64(11), object(3)\n",
      "memory usage: 3.9+ MB\n",
      "None\n"
     ]
    }
   ],
   "source": [
    "print(firms.info())"
   ],
   "metadata": {
    "collapsed": false,
    "pycharm": {
     "name": "#%%\n"
    }
   }
  },
  {
   "cell_type": "code",
   "execution_count": 8,
   "outputs": [
    {
     "name": "stdout",
     "output_type": "stream",
     "text": [
      "<class 'pandas.core.frame.DataFrame'>\n",
      "RangeIndex: 36840 entries, 0 to 36839\n",
      "Data columns (total 14 columns):\n",
      " #   Column                  Non-Null Count  Dtype  \n",
      "---  ------                  --------------  -----  \n",
      " 0   EU_circo                36840 non-null  object \n",
      " 1   code_région             36840 non-null  int64  \n",
      " 2   nom_région              36840 non-null  object \n",
      " 3   chef.lieu_région        36840 non-null  object \n",
      " 4   numéro_département      36840 non-null  object \n",
      " 5   nom_département         36840 non-null  object \n",
      " 6   préfecture              36840 non-null  object \n",
      " 7   numéro_circonscription  36840 non-null  int64  \n",
      " 8   nom_commune             36840 non-null  object \n",
      " 9   codes_postaux           36840 non-null  object \n",
      " 10  CODGEO                  36840 non-null  object \n",
      " 11  latitude                33911 non-null  float64\n",
      " 12  longitude               33999 non-null  object \n",
      " 13  éloignement             33878 non-null  float64\n",
      "dtypes: float64(2), int64(2), object(10)\n",
      "memory usage: 3.9+ MB\n",
      "None\n"
     ]
    }
   ],
   "source": [
    "print(towns.info())"
   ],
   "metadata": {
    "collapsed": false,
    "pycharm": {
     "name": "#%%\n"
    }
   }
  },
  {
   "cell_type": "code",
   "execution_count": 9,
   "outputs": [
    {
     "name": "stdout",
     "output_type": "stream",
     "text": [
      "<class 'pandas.core.frame.DataFrame'>\n",
      "RangeIndex: 5136 entries, 0 to 5135\n",
      "Data columns (total 26 columns):\n",
      " #   Column            Non-Null Count  Dtype  \n",
      "---  ------            --------------  -----  \n",
      " 0   CODGEO            5136 non-null   object \n",
      " 1   LIBGEO            5136 non-null   object \n",
      " 2   mean_salary       5136 non-null   float64\n",
      " 3   executive         5136 non-null   float64\n",
      " 4   middle_manager    5136 non-null   float64\n",
      " 5   employee          5136 non-null   float64\n",
      " 6   worker            5136 non-null   float64\n",
      " 7   women             5136 non-null   float64\n",
      " 8   f_executive       5136 non-null   float64\n",
      " 9   f_middle_manager  5136 non-null   float64\n",
      " 10  f_employee        5136 non-null   float64\n",
      " 11  f_worker          5136 non-null   float64\n",
      " 12  man               5136 non-null   float64\n",
      " 13  m_executive       5136 non-null   float64\n",
      " 14  m_middle_manager  5136 non-null   float64\n",
      " 15  m_employee        5136 non-null   float64\n",
      " 16  m_worker          5136 non-null   float64\n",
      " 17  18-25y            5136 non-null   float64\n",
      " 18  26-50y            5136 non-null   float64\n",
      " 19  sup_50y           5136 non-null   float64\n",
      " 20  f_18-25y          5136 non-null   float64\n",
      " 21  f_26-50y          5136 non-null   float64\n",
      " 22  f_sup_50y         5136 non-null   float64\n",
      " 23  m_18-25y          5136 non-null   float64\n",
      " 24  m_26-50y          5136 non-null   float64\n",
      " 25  m_sup_50y         5136 non-null   float64\n",
      "dtypes: float64(24), object(2)\n",
      "memory usage: 1.0+ MB\n",
      "None\n"
     ]
    }
   ],
   "source": [
    "print(salaries.info())"
   ],
   "metadata": {
    "collapsed": false,
    "pycharm": {
     "name": "#%%\n"
    }
   }
  },
  {
   "cell_type": "code",
   "execution_count": 10,
   "outputs": [
    {
     "name": "stdout",
     "output_type": "stream",
     "text": [
      "<class 'pandas.core.frame.DataFrame'>\n",
      "RangeIndex: 8536584 entries, 0 to 8536583\n",
      "Data columns (total 7 columns):\n",
      " #   Column     Dtype \n",
      "---  ------     ----- \n",
      " 0   NIVGEO     object\n",
      " 1   CODGEO     object\n",
      " 2   LIBGEO     object\n",
      " 3   MOCO       int64 \n",
      " 4   AGEQ80_17  int64 \n",
      " 5   SEXE       int64 \n",
      " 6   NB         int64 \n",
      "dtypes: int64(4), object(3)\n",
      "memory usage: 455.9+ MB\n",
      "None\n"
     ]
    }
   ],
   "source": [
    "print(population.info())"
   ],
   "metadata": {
    "collapsed": false,
    "pycharm": {
     "name": "#%%\n"
    }
   }
  },
  {
   "cell_type": "code",
   "execution_count": 11,
   "outputs": [
    {
     "name": "stdout",
     "output_type": "stream",
     "text": [
      "<class 'pandas.core.frame.DataFrame'>\n",
      "Int64Index: 33218 entries, 0 to 33217\n",
      "Data columns (total 27 columns):\n",
      " #   Column                  Non-Null Count  Dtype  \n",
      "---  ------                  --------------  -----  \n",
      " 0   CODGEO                  33218 non-null  object \n",
      " 1   LIBGEO                  33218 non-null  object \n",
      " 2   REG                     33218 non-null  int64  \n",
      " 3   DEP                     33218 non-null  object \n",
      " 4   total_firms             33218 non-null  int64  \n",
      " 5   nb_unk_town             33218 non-null  int64  \n",
      " 6   1_5_employees           33218 non-null  int64  \n",
      " 7   6_9_employees           33218 non-null  int64  \n",
      " 8   10_19_employees         33218 non-null  int64  \n",
      " 9   20_49_employees         33218 non-null  int64  \n",
      " 10  50_99_employees         33218 non-null  int64  \n",
      " 11  100_199_employees       33218 non-null  int64  \n",
      " 12  200_499_employees       33218 non-null  int64  \n",
      " 13  more_500_employees      33218 non-null  int64  \n",
      " 14  EU_circo                33218 non-null  object \n",
      " 15  code_région             33218 non-null  int64  \n",
      " 16  nom_région              33218 non-null  object \n",
      " 17  chef.lieu_région        33218 non-null  object \n",
      " 18  numéro_département      33218 non-null  object \n",
      " 19  nom_département         33218 non-null  object \n",
      " 20  préfecture              33218 non-null  object \n",
      " 21  numéro_circonscription  33218 non-null  int64  \n",
      " 22  nom_commune             33218 non-null  object \n",
      " 23  codes_postaux           33218 non-null  object \n",
      " 24  latitude                30619 non-null  float64\n",
      " 25  longitude               30666 non-null  object \n",
      " 26  éloignement             30586 non-null  float64\n",
      "dtypes: float64(2), int64(13), object(12)\n",
      "memory usage: 7.1+ MB\n"
     ]
    }
   ],
   "source": [
    "firms_town = pd.merge(left=firms, right=towns, on='CODGEO')\n",
    "firms_town.info()"
   ],
   "metadata": {
    "collapsed": false,
    "pycharm": {
     "name": "#%%\n"
    }
   }
  },
  {
   "cell_type": "code",
   "execution_count": null,
   "outputs": [],
   "source": [
    "sn.displot(data=firms_town, x='nom_commune', y='total_firms')"
   ],
   "metadata": {
    "collapsed": false,
    "pycharm": {
     "name": "#%%\n",
     "is_executing": true
    }
   }
  },
  {
   "cell_type": "code",
   "execution_count": null,
   "outputs": [],
   "source": [
    "sn.displot(data=firms, x='CODGEO', y='total_firms')"
   ],
   "metadata": {
    "collapsed": false,
    "pycharm": {
     "name": "#%%\n",
     "is_executing": true
    }
   }
  }
 ],
 "metadata": {
  "kernelspec": {
   "display_name": "Python 3",
   "language": "python",
   "name": "python3"
  },
  "language_info": {
   "codemirror_mode": {
    "name": "ipython",
    "version": 2
   },
   "file_extension": ".py",
   "mimetype": "text/x-python",
   "name": "python",
   "nbconvert_exporter": "python",
   "pygments_lexer": "ipython2",
   "version": "2.7.6"
  }
 },
 "nbformat": 4,
 "nbformat_minor": 0
}