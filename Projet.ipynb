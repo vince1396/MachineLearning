{
 "cells": [
  {
   "cell_type": "code",
   "execution_count": 46,
   "metadata": {
    "collapsed": true
   },
   "outputs": [],
   "source": [
    "import pandas as pd\n",
    "import numpy as np\n",
    "import seaborn as sn"
   ]
  },
  {
   "cell_type": "code",
   "execution_count": 47,
   "outputs": [
    {
     "name": "stderr",
     "output_type": "stream",
     "text": [
      "/home/vincent/.local/share/virtualenvs/MachineLearning-ZUDzaG3C/lib/python3.8/site-packages/IPython/core/interactiveshell.py:3145: DtypeWarning: Columns (1) have mixed types.Specify dtype option on import or set low_memory=False.\n",
      "  has_raised = await self.run_ast_nodes(code_ast.body, cell_name,\n"
     ]
    }
   ],
   "source": [
    "firms = pd.read_csv(\"/home/vincent/Hitema/datasets/2989_5652_bundle_archive/base_etablissement_par_tranche_effectif.csv\")\n",
    "towns = pd.read_csv(\"/home/vincent/Hitema/datasets/2989_5652_bundle_archive/name_geographic_information.csv\")\n",
    "salaries = pd.read_csv(\"/home/vincent/Hitema/datasets/2989_5652_bundle_archive/net_salary_per_town_categories.csv\")\n",
    "population = pd.read_csv(\"/home/vincent/Hitema/datasets/2989_5652_bundle_archive/population.csv\")"
   ],
   "metadata": {
    "collapsed": false,
    "pycharm": {
     "name": "#%%\n"
    }
   }
  },
  {
   "cell_type": "code",
   "execution_count": 48,
   "outputs": [
    {
     "name": "stdout",
     "output_type": "stream",
     "text": [
      "<class 'pandas.core.frame.DataFrame'>\n",
      "RangeIndex: 36681 entries, 0 to 36680\n",
      "Data columns (total 14 columns):\n",
      " #   Column    Non-Null Count  Dtype \n",
      "---  ------    --------------  ----- \n",
      " 0   CODGEO    36681 non-null  object\n",
      " 1   LIBGEO    36681 non-null  object\n",
      " 2   REG       36681 non-null  int64 \n",
      " 3   DEP       36681 non-null  object\n",
      " 4   E14TST    36681 non-null  int64 \n",
      " 5   E14TS0ND  36681 non-null  int64 \n",
      " 6   E14TS1    36681 non-null  int64 \n",
      " 7   E14TS6    36681 non-null  int64 \n",
      " 8   E14TS10   36681 non-null  int64 \n",
      " 9   E14TS20   36681 non-null  int64 \n",
      " 10  E14TS50   36681 non-null  int64 \n",
      " 11  E14TS100  36681 non-null  int64 \n",
      " 12  E14TS200  36681 non-null  int64 \n",
      " 13  E14TS500  36681 non-null  int64 \n",
      "dtypes: int64(11), object(3)\n",
      "memory usage: 3.9+ MB\n"
     ]
    }
   ],
   "source": [
    "firms.info()"
   ],
   "metadata": {
    "collapsed": false,
    "pycharm": {
     "name": "#%%\n"
    }
   }
  },
  {
   "cell_type": "code",
   "execution_count": 49,
   "outputs": [
    {
     "data": {
      "text/plain": "                REG         E14TST       E14TS0ND        E14TS1        E14TS6  \\\ncount  36681.000000   36681.000000   36681.000000  36681.000000  36681.000000   \nmean      49.415365     123.456067      83.555301     27.291486      5.220550   \nstd       25.451207    2353.384846    1729.874812    432.062116     83.685519   \nmin        1.000000       0.000000       0.000000      0.000000      0.000000   \n25%       25.000000       8.000000       6.000000      1.000000      0.000000   \n50%       43.000000      19.000000      14.000000      3.000000      0.000000   \n75%       73.000000      54.000000      39.000000     11.000000      2.000000   \nmax       94.000000  427385.000000  316603.000000  76368.000000  14836.000000   \n\n            E14TS10       E14TS20       E14TS50      E14TS100      E14TS200  \\\ncount  36681.000000  36681.000000  36681.000000  36681.000000  36681.000000   \nmean       3.800333      2.296448      0.738339      0.332434      0.172760   \nstd       60.961216     32.597382      9.882131      4.850211      2.783668   \nmin        0.000000      0.000000      0.000000      0.000000      0.000000   \n25%        0.000000      0.000000      0.000000      0.000000      0.000000   \n50%        0.000000      0.000000      0.000000      0.000000      0.000000   \n75%        1.000000      1.000000      0.000000      0.000000      0.000000   \nmax    10829.000000   5643.000000   1658.000000    812.000000    456.000000   \n\n           E14TS500  \ncount  36681.000000  \nmean       0.048417  \nstd        1.091031  \nmin        0.000000  \n25%        0.000000  \n50%        0.000000  \n75%        0.000000  \nmax      180.000000  ",
      "text/html": "<div>\n<style scoped>\n    .dataframe tbody tr th:only-of-type {\n        vertical-align: middle;\n    }\n\n    .dataframe tbody tr th {\n        vertical-align: top;\n    }\n\n    .dataframe thead th {\n        text-align: right;\n    }\n</style>\n<table border=\"1\" class=\"dataframe\">\n  <thead>\n    <tr style=\"text-align: right;\">\n      <th></th>\n      <th>REG</th>\n      <th>E14TST</th>\n      <th>E14TS0ND</th>\n      <th>E14TS1</th>\n      <th>E14TS6</th>\n      <th>E14TS10</th>\n      <th>E14TS20</th>\n      <th>E14TS50</th>\n      <th>E14TS100</th>\n      <th>E14TS200</th>\n      <th>E14TS500</th>\n    </tr>\n  </thead>\n  <tbody>\n    <tr>\n      <th>count</th>\n      <td>36681.000000</td>\n      <td>36681.000000</td>\n      <td>36681.000000</td>\n      <td>36681.000000</td>\n      <td>36681.000000</td>\n      <td>36681.000000</td>\n      <td>36681.000000</td>\n      <td>36681.000000</td>\n      <td>36681.000000</td>\n      <td>36681.000000</td>\n      <td>36681.000000</td>\n    </tr>\n    <tr>\n      <th>mean</th>\n      <td>49.415365</td>\n      <td>123.456067</td>\n      <td>83.555301</td>\n      <td>27.291486</td>\n      <td>5.220550</td>\n      <td>3.800333</td>\n      <td>2.296448</td>\n      <td>0.738339</td>\n      <td>0.332434</td>\n      <td>0.172760</td>\n      <td>0.048417</td>\n    </tr>\n    <tr>\n      <th>std</th>\n      <td>25.451207</td>\n      <td>2353.384846</td>\n      <td>1729.874812</td>\n      <td>432.062116</td>\n      <td>83.685519</td>\n      <td>60.961216</td>\n      <td>32.597382</td>\n      <td>9.882131</td>\n      <td>4.850211</td>\n      <td>2.783668</td>\n      <td>1.091031</td>\n    </tr>\n    <tr>\n      <th>min</th>\n      <td>1.000000</td>\n      <td>0.000000</td>\n      <td>0.000000</td>\n      <td>0.000000</td>\n      <td>0.000000</td>\n      <td>0.000000</td>\n      <td>0.000000</td>\n      <td>0.000000</td>\n      <td>0.000000</td>\n      <td>0.000000</td>\n      <td>0.000000</td>\n    </tr>\n    <tr>\n      <th>25%</th>\n      <td>25.000000</td>\n      <td>8.000000</td>\n      <td>6.000000</td>\n      <td>1.000000</td>\n      <td>0.000000</td>\n      <td>0.000000</td>\n      <td>0.000000</td>\n      <td>0.000000</td>\n      <td>0.000000</td>\n      <td>0.000000</td>\n      <td>0.000000</td>\n    </tr>\n    <tr>\n      <th>50%</th>\n      <td>43.000000</td>\n      <td>19.000000</td>\n      <td>14.000000</td>\n      <td>3.000000</td>\n      <td>0.000000</td>\n      <td>0.000000</td>\n      <td>0.000000</td>\n      <td>0.000000</td>\n      <td>0.000000</td>\n      <td>0.000000</td>\n      <td>0.000000</td>\n    </tr>\n    <tr>\n      <th>75%</th>\n      <td>73.000000</td>\n      <td>54.000000</td>\n      <td>39.000000</td>\n      <td>11.000000</td>\n      <td>2.000000</td>\n      <td>1.000000</td>\n      <td>1.000000</td>\n      <td>0.000000</td>\n      <td>0.000000</td>\n      <td>0.000000</td>\n      <td>0.000000</td>\n    </tr>\n    <tr>\n      <th>max</th>\n      <td>94.000000</td>\n      <td>427385.000000</td>\n      <td>316603.000000</td>\n      <td>76368.000000</td>\n      <td>14836.000000</td>\n      <td>10829.000000</td>\n      <td>5643.000000</td>\n      <td>1658.000000</td>\n      <td>812.000000</td>\n      <td>456.000000</td>\n      <td>180.000000</td>\n    </tr>\n  </tbody>\n</table>\n</div>"
     },
     "execution_count": 49,
     "metadata": {},
     "output_type": "execute_result"
    }
   ],
   "source": [
    "firms.describe()"
   ],
   "metadata": {
    "collapsed": false,
    "pycharm": {
     "name": "#%%\n"
    }
   }
  },
  {
   "cell_type": "code",
   "execution_count": 50,
   "outputs": [
    {
     "name": "stdout",
     "output_type": "stream",
     "text": [
      "<class 'pandas.core.frame.DataFrame'>\n",
      "RangeIndex: 36840 entries, 0 to 36839\n",
      "Data columns (total 14 columns):\n",
      " #   Column                  Non-Null Count  Dtype  \n",
      "---  ------                  --------------  -----  \n",
      " 0   EU_circo                36840 non-null  object \n",
      " 1   code_région             36840 non-null  int64  \n",
      " 2   nom_région              36840 non-null  object \n",
      " 3   chef.lieu_région        36840 non-null  object \n",
      " 4   numéro_département      36840 non-null  object \n",
      " 5   nom_département         36840 non-null  object \n",
      " 6   préfecture              36840 non-null  object \n",
      " 7   numéro_circonscription  36840 non-null  int64  \n",
      " 8   nom_commune             36840 non-null  object \n",
      " 9   codes_postaux           36840 non-null  object \n",
      " 10  code_insee              36840 non-null  int64  \n",
      " 11  latitude                33911 non-null  float64\n",
      " 12  longitude               33999 non-null  object \n",
      " 13  éloignement             33878 non-null  float64\n",
      "dtypes: float64(2), int64(3), object(9)\n",
      "memory usage: 3.9+ MB\n"
     ]
    }
   ],
   "source": [
    "towns.info()"
   ],
   "metadata": {
    "collapsed": false,
    "pycharm": {
     "name": "#%%\n"
    }
   }
  },
  {
   "cell_type": "code",
   "execution_count": 51,
   "outputs": [
    {
     "data": {
      "text/plain": "        code_région  numéro_circonscription    code_insee      latitude  \\\ncount  36840.000000            36840.000000  36840.000000  33911.000000   \nmean      49.409881                3.818594  46298.368621     47.000659   \nstd       25.475629                3.042461  25529.124657      2.209990   \nmin        1.000000                1.000000   1001.000000     41.391667   \n25%       25.000000                2.000000  24576.750000     45.216667   \n50%       43.000000                3.000000  48190.500000     47.433333   \n75%       73.000000                5.000000  67043.250000     48.850000   \nmax       94.000000               24.000000  97617.000000     51.083333   \n\n        éloignement  \ncount  33878.000000  \nmean       1.471278  \nstd        0.558343  \nmin       -1.000000  \n25%        1.140000  \n50%        1.480000  \n75%        1.820000  \nmax        3.000000  ",
      "text/html": "<div>\n<style scoped>\n    .dataframe tbody tr th:only-of-type {\n        vertical-align: middle;\n    }\n\n    .dataframe tbody tr th {\n        vertical-align: top;\n    }\n\n    .dataframe thead th {\n        text-align: right;\n    }\n</style>\n<table border=\"1\" class=\"dataframe\">\n  <thead>\n    <tr style=\"text-align: right;\">\n      <th></th>\n      <th>code_région</th>\n      <th>numéro_circonscription</th>\n      <th>code_insee</th>\n      <th>latitude</th>\n      <th>éloignement</th>\n    </tr>\n  </thead>\n  <tbody>\n    <tr>\n      <th>count</th>\n      <td>36840.000000</td>\n      <td>36840.000000</td>\n      <td>36840.000000</td>\n      <td>33911.000000</td>\n      <td>33878.000000</td>\n    </tr>\n    <tr>\n      <th>mean</th>\n      <td>49.409881</td>\n      <td>3.818594</td>\n      <td>46298.368621</td>\n      <td>47.000659</td>\n      <td>1.471278</td>\n    </tr>\n    <tr>\n      <th>std</th>\n      <td>25.475629</td>\n      <td>3.042461</td>\n      <td>25529.124657</td>\n      <td>2.209990</td>\n      <td>0.558343</td>\n    </tr>\n    <tr>\n      <th>min</th>\n      <td>1.000000</td>\n      <td>1.000000</td>\n      <td>1001.000000</td>\n      <td>41.391667</td>\n      <td>-1.000000</td>\n    </tr>\n    <tr>\n      <th>25%</th>\n      <td>25.000000</td>\n      <td>2.000000</td>\n      <td>24576.750000</td>\n      <td>45.216667</td>\n      <td>1.140000</td>\n    </tr>\n    <tr>\n      <th>50%</th>\n      <td>43.000000</td>\n      <td>3.000000</td>\n      <td>48190.500000</td>\n      <td>47.433333</td>\n      <td>1.480000</td>\n    </tr>\n    <tr>\n      <th>75%</th>\n      <td>73.000000</td>\n      <td>5.000000</td>\n      <td>67043.250000</td>\n      <td>48.850000</td>\n      <td>1.820000</td>\n    </tr>\n    <tr>\n      <th>max</th>\n      <td>94.000000</td>\n      <td>24.000000</td>\n      <td>97617.000000</td>\n      <td>51.083333</td>\n      <td>3.000000</td>\n    </tr>\n  </tbody>\n</table>\n</div>"
     },
     "execution_count": 51,
     "metadata": {},
     "output_type": "execute_result"
    }
   ],
   "source": [
    "towns.describe()"
   ],
   "metadata": {
    "collapsed": false,
    "pycharm": {
     "name": "#%%\n"
    }
   }
  },
  {
   "cell_type": "code",
   "execution_count": 52,
   "outputs": [
    {
     "name": "stdout",
     "output_type": "stream",
     "text": [
      "<class 'pandas.core.frame.DataFrame'>\n",
      "RangeIndex: 5136 entries, 0 to 5135\n",
      "Data columns (total 26 columns):\n",
      " #   Column     Non-Null Count  Dtype  \n",
      "---  ------     --------------  -----  \n",
      " 0   CODGEO     5136 non-null   object \n",
      " 1   LIBGEO     5136 non-null   object \n",
      " 2   SNHM14     5136 non-null   float64\n",
      " 3   SNHMC14    5136 non-null   float64\n",
      " 4   SNHMP14    5136 non-null   float64\n",
      " 5   SNHME14    5136 non-null   float64\n",
      " 6   SNHMO14    5136 non-null   float64\n",
      " 7   SNHMF14    5136 non-null   float64\n",
      " 8   SNHMFC14   5136 non-null   float64\n",
      " 9   SNHMFP14   5136 non-null   float64\n",
      " 10  SNHMFE14   5136 non-null   float64\n",
      " 11  SNHMFO14   5136 non-null   float64\n",
      " 12  SNHMH14    5136 non-null   float64\n",
      " 13  SNHMHC14   5136 non-null   float64\n",
      " 14  SNHMHP14   5136 non-null   float64\n",
      " 15  SNHMHE14   5136 non-null   float64\n",
      " 16  SNHMHO14   5136 non-null   float64\n",
      " 17  SNHM1814   5136 non-null   float64\n",
      " 18  SNHM2614   5136 non-null   float64\n",
      " 19  SNHM5014   5136 non-null   float64\n",
      " 20  SNHMF1814  5136 non-null   float64\n",
      " 21  SNHMF2614  5136 non-null   float64\n",
      " 22  SNHMF5014  5136 non-null   float64\n",
      " 23  SNHMH1814  5136 non-null   float64\n",
      " 24  SNHMH2614  5136 non-null   float64\n",
      " 25  SNHMH5014  5136 non-null   float64\n",
      "dtypes: float64(24), object(2)\n",
      "memory usage: 1.0+ MB\n"
     ]
    }
   ],
   "source": [
    "salaries.info()"
   ],
   "metadata": {
    "collapsed": false,
    "pycharm": {
     "name": "#%%\n"
    }
   }
  },
  {
   "cell_type": "code",
   "execution_count": 53,
   "outputs": [
    {
     "data": {
      "text/plain": "            SNHM14      SNHMC14      SNHMP14      SNHME14      SNHMO14  \\\ncount  5136.000000  5136.000000  5136.000000  5136.000000  5136.000000   \nmean     13.706386    23.703836    14.575876    10.564505    11.235650   \nstd       2.559329     2.836183     1.490110     0.811775     1.221755   \nmin      10.200000    16.000000    11.600000     8.700000     8.300000   \n25%      12.100000    21.900000    13.800000    10.000000    10.600000   \n50%      13.000000    23.200000    14.400000    10.400000    11.000000   \n75%      14.400000    24.900000    15.100000    10.900000    11.600000   \nmax      43.300000    51.500000    54.600000    17.500000    46.300000   \n\n           SNHMF14     SNHMFC14     SNHMFP14     SNHMFE14     SNHMFO14  ...  \\\ncount  5136.000000  5136.000000  5136.000000  5136.000000  5136.000000  ...   \nmean     12.038026    20.220502    13.274260    10.308879     9.827161  ...   \nstd       1.787995     2.327550     0.990166     0.747563     1.104684  ...   \nmin       9.300000    12.000000    10.600000     8.700000     6.100000  ...   \n25%      10.900000    18.800000    12.600000     9.800000     9.200000  ...   \n50%      11.500000    20.000000    13.100000    10.100000     9.700000  ...   \n75%      12.700000    21.400000    13.800000    10.600000    10.200000  ...   \nmax      26.700000    35.500000    19.000000    16.100000    28.100000  ...   \n\n          SNHMHO14     SNHM1814     SNHM2614    SNHM5014    SNHMF1814  \\\ncount  5136.000000  5136.000000  5136.000000  5136.00000  5136.000000   \nmean     11.498189     9.549766    13.495444    15.87722     9.161565   \nstd       1.289598     0.997444     2.363144     3.58586     0.453023   \nmin       8.900000     7.900000     9.700000    10.50000     7.500000   \n25%      10.800000     9.200000    12.000000    13.70000     8.900000   \n50%      11.300000     9.500000    12.900000    15.00000     9.100000   \n75%      11.900000     9.700000    14.300000    16.90000     9.400000   \nmax      53.200000    60.600000    38.100000    56.90000    12.000000   \n\n         SNHMF2614    SNHMF5014    SNHMH1814    SNHMH2614    SNHMH5014  \ncount  5136.000000  5136.000000  5136.000000  5136.000000  5136.000000  \nmean     12.055160    13.174143     9.820872    14.485981    17.679809  \nstd       1.825306     2.249391     1.539949     2.852490     4.530257  \nmin       9.100000     9.500000     7.800000     9.600000    10.800000  \n25%      10.900000    11.700000     9.400000    12.700000    14.900000  \n50%      11.600000    12.600000     9.700000    13.800000    16.600000  \n75%      12.700000    14.000000    10.000000    15.500000    19.000000  \nmax      26.600000    31.000000    93.300000    45.400000    68.600000  \n\n[8 rows x 24 columns]",
      "text/html": "<div>\n<style scoped>\n    .dataframe tbody tr th:only-of-type {\n        vertical-align: middle;\n    }\n\n    .dataframe tbody tr th {\n        vertical-align: top;\n    }\n\n    .dataframe thead th {\n        text-align: right;\n    }\n</style>\n<table border=\"1\" class=\"dataframe\">\n  <thead>\n    <tr style=\"text-align: right;\">\n      <th></th>\n      <th>SNHM14</th>\n      <th>SNHMC14</th>\n      <th>SNHMP14</th>\n      <th>SNHME14</th>\n      <th>SNHMO14</th>\n      <th>SNHMF14</th>\n      <th>SNHMFC14</th>\n      <th>SNHMFP14</th>\n      <th>SNHMFE14</th>\n      <th>SNHMFO14</th>\n      <th>...</th>\n      <th>SNHMHO14</th>\n      <th>SNHM1814</th>\n      <th>SNHM2614</th>\n      <th>SNHM5014</th>\n      <th>SNHMF1814</th>\n      <th>SNHMF2614</th>\n      <th>SNHMF5014</th>\n      <th>SNHMH1814</th>\n      <th>SNHMH2614</th>\n      <th>SNHMH5014</th>\n    </tr>\n  </thead>\n  <tbody>\n    <tr>\n      <th>count</th>\n      <td>5136.000000</td>\n      <td>5136.000000</td>\n      <td>5136.000000</td>\n      <td>5136.000000</td>\n      <td>5136.000000</td>\n      <td>5136.000000</td>\n      <td>5136.000000</td>\n      <td>5136.000000</td>\n      <td>5136.000000</td>\n      <td>5136.000000</td>\n      <td>...</td>\n      <td>5136.000000</td>\n      <td>5136.000000</td>\n      <td>5136.000000</td>\n      <td>5136.00000</td>\n      <td>5136.000000</td>\n      <td>5136.000000</td>\n      <td>5136.000000</td>\n      <td>5136.000000</td>\n      <td>5136.000000</td>\n      <td>5136.000000</td>\n    </tr>\n    <tr>\n      <th>mean</th>\n      <td>13.706386</td>\n      <td>23.703836</td>\n      <td>14.575876</td>\n      <td>10.564505</td>\n      <td>11.235650</td>\n      <td>12.038026</td>\n      <td>20.220502</td>\n      <td>13.274260</td>\n      <td>10.308879</td>\n      <td>9.827161</td>\n      <td>...</td>\n      <td>11.498189</td>\n      <td>9.549766</td>\n      <td>13.495444</td>\n      <td>15.87722</td>\n      <td>9.161565</td>\n      <td>12.055160</td>\n      <td>13.174143</td>\n      <td>9.820872</td>\n      <td>14.485981</td>\n      <td>17.679809</td>\n    </tr>\n    <tr>\n      <th>std</th>\n      <td>2.559329</td>\n      <td>2.836183</td>\n      <td>1.490110</td>\n      <td>0.811775</td>\n      <td>1.221755</td>\n      <td>1.787995</td>\n      <td>2.327550</td>\n      <td>0.990166</td>\n      <td>0.747563</td>\n      <td>1.104684</td>\n      <td>...</td>\n      <td>1.289598</td>\n      <td>0.997444</td>\n      <td>2.363144</td>\n      <td>3.58586</td>\n      <td>0.453023</td>\n      <td>1.825306</td>\n      <td>2.249391</td>\n      <td>1.539949</td>\n      <td>2.852490</td>\n      <td>4.530257</td>\n    </tr>\n    <tr>\n      <th>min</th>\n      <td>10.200000</td>\n      <td>16.000000</td>\n      <td>11.600000</td>\n      <td>8.700000</td>\n      <td>8.300000</td>\n      <td>9.300000</td>\n      <td>12.000000</td>\n      <td>10.600000</td>\n      <td>8.700000</td>\n      <td>6.100000</td>\n      <td>...</td>\n      <td>8.900000</td>\n      <td>7.900000</td>\n      <td>9.700000</td>\n      <td>10.50000</td>\n      <td>7.500000</td>\n      <td>9.100000</td>\n      <td>9.500000</td>\n      <td>7.800000</td>\n      <td>9.600000</td>\n      <td>10.800000</td>\n    </tr>\n    <tr>\n      <th>25%</th>\n      <td>12.100000</td>\n      <td>21.900000</td>\n      <td>13.800000</td>\n      <td>10.000000</td>\n      <td>10.600000</td>\n      <td>10.900000</td>\n      <td>18.800000</td>\n      <td>12.600000</td>\n      <td>9.800000</td>\n      <td>9.200000</td>\n      <td>...</td>\n      <td>10.800000</td>\n      <td>9.200000</td>\n      <td>12.000000</td>\n      <td>13.70000</td>\n      <td>8.900000</td>\n      <td>10.900000</td>\n      <td>11.700000</td>\n      <td>9.400000</td>\n      <td>12.700000</td>\n      <td>14.900000</td>\n    </tr>\n    <tr>\n      <th>50%</th>\n      <td>13.000000</td>\n      <td>23.200000</td>\n      <td>14.400000</td>\n      <td>10.400000</td>\n      <td>11.000000</td>\n      <td>11.500000</td>\n      <td>20.000000</td>\n      <td>13.100000</td>\n      <td>10.100000</td>\n      <td>9.700000</td>\n      <td>...</td>\n      <td>11.300000</td>\n      <td>9.500000</td>\n      <td>12.900000</td>\n      <td>15.00000</td>\n      <td>9.100000</td>\n      <td>11.600000</td>\n      <td>12.600000</td>\n      <td>9.700000</td>\n      <td>13.800000</td>\n      <td>16.600000</td>\n    </tr>\n    <tr>\n      <th>75%</th>\n      <td>14.400000</td>\n      <td>24.900000</td>\n      <td>15.100000</td>\n      <td>10.900000</td>\n      <td>11.600000</td>\n      <td>12.700000</td>\n      <td>21.400000</td>\n      <td>13.800000</td>\n      <td>10.600000</td>\n      <td>10.200000</td>\n      <td>...</td>\n      <td>11.900000</td>\n      <td>9.700000</td>\n      <td>14.300000</td>\n      <td>16.90000</td>\n      <td>9.400000</td>\n      <td>12.700000</td>\n      <td>14.000000</td>\n      <td>10.000000</td>\n      <td>15.500000</td>\n      <td>19.000000</td>\n    </tr>\n    <tr>\n      <th>max</th>\n      <td>43.300000</td>\n      <td>51.500000</td>\n      <td>54.600000</td>\n      <td>17.500000</td>\n      <td>46.300000</td>\n      <td>26.700000</td>\n      <td>35.500000</td>\n      <td>19.000000</td>\n      <td>16.100000</td>\n      <td>28.100000</td>\n      <td>...</td>\n      <td>53.200000</td>\n      <td>60.600000</td>\n      <td>38.100000</td>\n      <td>56.90000</td>\n      <td>12.000000</td>\n      <td>26.600000</td>\n      <td>31.000000</td>\n      <td>93.300000</td>\n      <td>45.400000</td>\n      <td>68.600000</td>\n    </tr>\n  </tbody>\n</table>\n<p>8 rows × 24 columns</p>\n</div>"
     },
     "execution_count": 53,
     "metadata": {},
     "output_type": "execute_result"
    }
   ],
   "source": [
    "salaries.describe()"
   ],
   "metadata": {
    "collapsed": false,
    "pycharm": {
     "name": "#%%\n"
    }
   }
  },
  {
   "cell_type": "code",
   "execution_count": 54,
   "outputs": [
    {
     "name": "stdout",
     "output_type": "stream",
     "text": [
      "<class 'pandas.core.frame.DataFrame'>\n",
      "RangeIndex: 8536584 entries, 0 to 8536583\n",
      "Data columns (total 7 columns):\n",
      " #   Column     Dtype \n",
      "---  ------     ----- \n",
      " 0   NIVGEO     object\n",
      " 1   CODGEO     object\n",
      " 2   LIBGEO     object\n",
      " 3   MOCO       int64 \n",
      " 4   AGEQ80_17  int64 \n",
      " 5   SEXE       int64 \n",
      " 6   NB         int64 \n",
      "dtypes: int64(4), object(3)\n",
      "memory usage: 455.9+ MB\n"
     ]
    }
   ],
   "source": [
    "population.info()"
   ],
   "metadata": {
    "collapsed": false,
    "pycharm": {
     "name": "#%%\n"
    }
   }
  },
  {
   "cell_type": "code",
   "execution_count": 55,
   "outputs": [
    {
     "data": {
      "text/plain": "               MOCO     AGEQ80_17       SEXE            NB\ncount  8.536584e+06  8.536584e+06  8536584.0  8.536584e+06\nmean   2.171429e+01  4.000000e+01        1.5  7.446743e+00\nstd    7.591618e+00  2.449490e+01        0.5  1.010993e+02\nmin    1.100000e+01  0.000000e+00        1.0  0.000000e+00\n25%    1.200000e+01  2.000000e+01        1.0  0.000000e+00\n50%    2.200000e+01  4.000000e+01        1.5  0.000000e+00\n75%    3.100000e+01  6.000000e+01        2.0  3.000000e+00\nmax    3.200000e+01  8.000000e+01        2.0  4.887300e+04",
      "text/html": "<div>\n<style scoped>\n    .dataframe tbody tr th:only-of-type {\n        vertical-align: middle;\n    }\n\n    .dataframe tbody tr th {\n        vertical-align: top;\n    }\n\n    .dataframe thead th {\n        text-align: right;\n    }\n</style>\n<table border=\"1\" class=\"dataframe\">\n  <thead>\n    <tr style=\"text-align: right;\">\n      <th></th>\n      <th>MOCO</th>\n      <th>AGEQ80_17</th>\n      <th>SEXE</th>\n      <th>NB</th>\n    </tr>\n  </thead>\n  <tbody>\n    <tr>\n      <th>count</th>\n      <td>8.536584e+06</td>\n      <td>8.536584e+06</td>\n      <td>8536584.0</td>\n      <td>8.536584e+06</td>\n    </tr>\n    <tr>\n      <th>mean</th>\n      <td>2.171429e+01</td>\n      <td>4.000000e+01</td>\n      <td>1.5</td>\n      <td>7.446743e+00</td>\n    </tr>\n    <tr>\n      <th>std</th>\n      <td>7.591618e+00</td>\n      <td>2.449490e+01</td>\n      <td>0.5</td>\n      <td>1.010993e+02</td>\n    </tr>\n    <tr>\n      <th>min</th>\n      <td>1.100000e+01</td>\n      <td>0.000000e+00</td>\n      <td>1.0</td>\n      <td>0.000000e+00</td>\n    </tr>\n    <tr>\n      <th>25%</th>\n      <td>1.200000e+01</td>\n      <td>2.000000e+01</td>\n      <td>1.0</td>\n      <td>0.000000e+00</td>\n    </tr>\n    <tr>\n      <th>50%</th>\n      <td>2.200000e+01</td>\n      <td>4.000000e+01</td>\n      <td>1.5</td>\n      <td>0.000000e+00</td>\n    </tr>\n    <tr>\n      <th>75%</th>\n      <td>3.100000e+01</td>\n      <td>6.000000e+01</td>\n      <td>2.0</td>\n      <td>3.000000e+00</td>\n    </tr>\n    <tr>\n      <th>max</th>\n      <td>3.200000e+01</td>\n      <td>8.000000e+01</td>\n      <td>2.0</td>\n      <td>4.887300e+04</td>\n    </tr>\n  </tbody>\n</table>\n</div>"
     },
     "execution_count": 55,
     "metadata": {},
     "output_type": "execute_result"
    }
   ],
   "source": [
    "population.describe()"
   ],
   "metadata": {
    "collapsed": false,
    "pycharm": {
     "name": "#%%\n"
    }
   }
  },
  {
   "cell_type": "code",
   "execution_count": 56,
   "outputs": [],
   "source": [
    "mapping = {\n",
    "    'E14TST': 'total_firms',\n",
    "    'E14TS0ND': 'nb_unk_town',\n",
    "    'E14TS1': '1_5_employees',\n",
    "    'E14TS6': '6_9_employees',\n",
    "    'E14TS10': '10_19_employees',\n",
    "    'E14TS20': '20_49_employees',\n",
    "    'E14TS50': '50_99_employees',\n",
    "    'E14TS100': '100_199_employees',\n",
    "    'E14TS200': '200_499_employees',\n",
    "    'E14TS500': 'more_500_employees'\n",
    "}\n",
    "\n",
    "firms = firms.rename(columns=mapping)\n"
   ],
   "metadata": {
    "collapsed": false,
    "pycharm": {
     "name": "#%%\n"
    }
   }
  },
  {
   "cell_type": "code",
   "execution_count": 57,
   "outputs": [
    {
     "name": "stdout",
     "output_type": "stream",
     "text": [
      "<class 'pandas.core.frame.DataFrame'>\n",
      "RangeIndex: 36681 entries, 0 to 36680\n",
      "Data columns (total 14 columns):\n",
      " #   Column              Non-Null Count  Dtype \n",
      "---  ------              --------------  ----- \n",
      " 0   CODGEO              36681 non-null  object\n",
      " 1   LIBGEO              36681 non-null  object\n",
      " 2   REG                 36681 non-null  int64 \n",
      " 3   DEP                 36681 non-null  object\n",
      " 4   total_firms         36681 non-null  int64 \n",
      " 5   nb_unk_town         36681 non-null  int64 \n",
      " 6   1_5_employees       36681 non-null  int64 \n",
      " 7   6_9_employees       36681 non-null  int64 \n",
      " 8   10_19_employees     36681 non-null  int64 \n",
      " 9   20_49_employees     36681 non-null  int64 \n",
      " 10  50_99_employees     36681 non-null  int64 \n",
      " 11  100_199_employees   36681 non-null  int64 \n",
      " 12  200_499_employees   36681 non-null  int64 \n",
      " 13  more_500_employees  36681 non-null  int64 \n",
      "dtypes: int64(11), object(3)\n",
      "memory usage: 3.9+ MB\n"
     ]
    }
   ],
   "source": [
    "firms.info()"
   ],
   "metadata": {
    "collapsed": false,
    "pycharm": {
     "name": "#%%\n"
    }
   }
  },
  {
   "cell_type": "code",
   "execution_count": 58,
   "outputs": [],
   "source": [
    "mapping = {\n",
    "    'SNHM14': 'mean_salary',\n",
    "    'SNHMC14': 'executive',\n",
    "    'SNHMP14': 'middle_manager',\n",
    "    'SNHME14': 'employee',\n",
    "    'SNHMO14': 'worker',\n",
    "    'SNHMF14': 'women',\n",
    "    'SNHMFC14': 'f_executive',\n",
    "    'SNHMFP14': 'f_middle_manager',\n",
    "    'SNHMFE14': 'f_employee',\n",
    "    'SNHMFO14': 'f_worker',\n",
    "    'SNHMH14': 'man',\n",
    "    'SNHMHC14': 'm_executive',\n",
    "    'SNHMHP14': 'm_middle_manager',\n",
    "    'SNHMHE14': 'm_employee',\n",
    "    'SNHMHO14': 'm_worker',\n",
    "    'SNHM1814': '18-25y',\n",
    "    'SNHM2614': '26-50y',\n",
    "    'SNHM5014': 'sup_50y',\n",
    "    'SNHMF1814': 'f_18-25y',\n",
    "    'SNHMF2614': 'f_26-50y',\n",
    "    'SNHMF5014': 'f_sup_50y',\n",
    "    'SNHMH1814': 'm_18-25y',\n",
    "    'SNHMH2614': 'm_26-50y',\n",
    "    'SNHMH5014': 'm_sup_50y'\n",
    "}\n",
    "\n",
    "salaries = salaries.rename(columns=mapping)"
   ],
   "metadata": {
    "collapsed": false,
    "pycharm": {
     "name": "#%%\n"
    }
   }
  },
  {
   "cell_type": "code",
   "execution_count": 59,
   "outputs": [
    {
     "name": "stdout",
     "output_type": "stream",
     "text": [
      "<class 'pandas.core.frame.DataFrame'>\n",
      "RangeIndex: 5136 entries, 0 to 5135\n",
      "Data columns (total 26 columns):\n",
      " #   Column            Non-Null Count  Dtype  \n",
      "---  ------            --------------  -----  \n",
      " 0   CODGEO            5136 non-null   object \n",
      " 1   LIBGEO            5136 non-null   object \n",
      " 2   mean_salary       5136 non-null   float64\n",
      " 3   executive         5136 non-null   float64\n",
      " 4   middle_manager    5136 non-null   float64\n",
      " 5   employee          5136 non-null   float64\n",
      " 6   worker            5136 non-null   float64\n",
      " 7   women             5136 non-null   float64\n",
      " 8   f_executive       5136 non-null   float64\n",
      " 9   f_middle_manager  5136 non-null   float64\n",
      " 10  f_employee        5136 non-null   float64\n",
      " 11  f_worker          5136 non-null   float64\n",
      " 12  man               5136 non-null   float64\n",
      " 13  m_executive       5136 non-null   float64\n",
      " 14  m_middle_manager  5136 non-null   float64\n",
      " 15  m_employee        5136 non-null   float64\n",
      " 16  m_worker          5136 non-null   float64\n",
      " 17  18-25y            5136 non-null   float64\n",
      " 18  26-50y            5136 non-null   float64\n",
      " 19  sup_50y           5136 non-null   float64\n",
      " 20  f_18-25y          5136 non-null   float64\n",
      " 21  f_26-50y          5136 non-null   float64\n",
      " 22  f_sup_50y         5136 non-null   float64\n",
      " 23  m_18-25y          5136 non-null   float64\n",
      " 24  m_26-50y          5136 non-null   float64\n",
      " 25  m_sup_50y         5136 non-null   float64\n",
      "dtypes: float64(24), object(2)\n",
      "memory usage: 1.0+ MB\n"
     ]
    }
   ],
   "source": [
    "salaries.info()"
   ],
   "metadata": {
    "collapsed": false,
    "pycharm": {
     "name": "#%%\n"
    }
   }
  }
 ],
 "metadata": {
  "kernelspec": {
   "display_name": "Python 3",
   "language": "python",
   "name": "python3"
  },
  "language_info": {
   "codemirror_mode": {
    "name": "ipython",
    "version": 2
   },
   "file_extension": ".py",
   "mimetype": "text/x-python",
   "name": "python",
   "nbconvert_exporter": "python",
   "pygments_lexer": "ipython2",
   "version": "2.7.6"
  }
 },
 "nbformat": 4,
 "nbformat_minor": 0
}